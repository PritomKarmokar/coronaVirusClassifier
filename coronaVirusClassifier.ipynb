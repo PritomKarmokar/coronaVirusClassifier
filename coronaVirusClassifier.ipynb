{
  "nbformat": 4,
  "nbformat_minor": 0,
  "metadata": {
    "colab": {
      "provenance": [],
      "authorship_tag": "ABX9TyMbmR8wAuIVOd07/yKfyxYt",
      "include_colab_link": true
    },
    "kernelspec": {
      "name": "python3",
      "display_name": "Python 3"
    },
    "language_info": {
      "name": "python"
    }
  },
  "cells": [
    {
      "cell_type": "markdown",
      "metadata": {
        "id": "view-in-github",
        "colab_type": "text"
      },
      "source": [
        "<a href=\"https://colab.research.google.com/github/PritomKarmokar/coronaVirusClassifier/blob/main/coronaVirusClassifier.ipynb\" target=\"_parent\"><img src=\"https://colab.research.google.com/assets/colab-badge.svg\" alt=\"Open In Colab\"/></a>"
      ]
    },
    {
      "cell_type": "markdown",
      "source": [
        "### Preprocessing Phase"
      ],
      "metadata": {
        "id": "LldrgZFDb2As"
      }
    },
    {
      "cell_type": "markdown",
      "source": [
        "### Importing necessary libaries"
      ],
      "metadata": {
        "id": "QfO_IEPTcVSO"
      }
    },
    {
      "cell_type": "code",
      "source": [
        "import csv\n",
        "import pandas as pd\n",
        "import numpy as np"
      ],
      "metadata": {
        "id": "ZxvyZ-BwcZtK"
      },
      "execution_count": null,
      "outputs": []
    },
    {
      "cell_type": "code",
      "source": [
        "### Function for converting 'fasta ' files into csv\n",
        "def convert_fasta_to_csv(fasta_file, csv_file):\n",
        "    # Step 1: Load the FASTA file\n",
        "    with open(fasta_file, 'r') as f:\n",
        "        fasta_content = f.readlines()\n",
        "\n",
        "    # Step 2: Parse the FASTA data\n",
        "    sequences = []\n",
        "    current_sequence = ''\n",
        "    current_id = ''\n",
        "    for line in fasta_content:\n",
        "        if line.startswith('>'):\n",
        "            if current_sequence:\n",
        "                sequences.append((current_id, current_sequence))\n",
        "            current_id = line[1:].strip()\n",
        "            current_sequence = ''\n",
        "        else:\n",
        "            current_sequence += line.strip()\n",
        "    if current_sequence:\n",
        "        sequences.append((current_id, current_sequence))\n",
        "\n",
        "    # Step 3: Create a CSV file\n",
        "    with open(csv_file, 'w', newline='') as f:\n",
        "        writer = csv.writer(f)\n",
        "\n",
        "        # Step 4: Write headers\n",
        "        writer.writerow(['Sequence ID', 'Sequence'])\n",
        "\n",
        "        # Step 5: Write data rows\n",
        "        for sequence in sequences:\n",
        "            writer.writerow(sequence)\n",
        "\n",
        "    print(f'Conversion complete. CSV file saved as {csv_file}.')"
      ],
      "metadata": {
        "id": "esu_SHxrccdG"
      },
      "execution_count": null,
      "outputs": []
    },
    {
      "cell_type": "code",
      "source": [
        "### function for counting no. of sequences presented in the file\n",
        "def count_sequences(filename):\n",
        "    count = 0\n",
        "    with open(filename, \"r\") as file:\n",
        "        for line in file:\n",
        "            if line.startswith(\">\"):\n",
        "                count += 1\n",
        "    return count"
      ],
      "metadata": {
        "id": "zjLkecQpc0cl"
      },
      "execution_count": null,
      "outputs": []
    },
    {
      "cell_type": "code",
      "source": [
        "### Function for finding maximum length from the sequence\n",
        "def maxSeq_length(data):\n",
        "    res = max([len(seq) for seq in data])\n",
        "    return res"
      ],
      "metadata": {
        "id": "IcMqCxQ8c6Oo"
      },
      "execution_count": null,
      "outputs": []
    },
    {
      "cell_type": "code",
      "source": [
        "### Function for finding minimum length from the sequence\n",
        "def minSeq_length(data):\n",
        "    res = min([len(seq) for seq in data])\n",
        "    return res"
      ],
      "metadata": {
        "id": "GrfLHpybc8wW"
      },
      "execution_count": null,
      "outputs": []
    },
    {
      "cell_type": "markdown",
      "source": [
        "## Loading the data"
      ],
      "metadata": {
        "id": "sGydE_kmde7s"
      }
    },
    {
      "cell_type": "code",
      "source": [
        "import os\n",
        "from google.colab import drive"
      ],
      "metadata": {
        "id": "i_pdg07jc-UU"
      },
      "execution_count": null,
      "outputs": []
    },
    {
      "cell_type": "code",
      "source": [
        "drive.mount('/content/drive')"
      ],
      "metadata": {
        "colab": {
          "base_uri": "https://localhost:8080/"
        },
        "id": "6YuvSaFOddeM",
        "outputId": "96ffe31f-d24e-4ee9-d361-1223d30594a6"
      },
      "execution_count": null,
      "outputs": [
        {
          "output_type": "stream",
          "name": "stdout",
          "text": [
            "Mounted at /content/drive\n"
          ]
        }
      ]
    },
    {
      "cell_type": "code",
      "source": [
        "datapath = '/content/drive/MyDrive/drive_for_data/covid_data/coronavirus/ndgc/'\n",
        "print(datapath)\n",
        "files = os.listdir(datapath)\n",
        "files"
      ],
      "metadata": {
        "colab": {
          "base_uri": "https://localhost:8080/"
        },
        "id": "z6TdqvSQdiX6",
        "outputId": "e8c40611-1752-485c-ad75-8e0150de1a43"
      },
      "execution_count": null,
      "outputs": [
        {
          "output_type": "stream",
          "name": "stdout",
          "text": [
            "/content/drive/MyDrive/drive_for_data/covid_data/coronavirus/ndgc/\n"
          ]
        },
        {
          "output_type": "execute_result",
          "data": {
            "text/plain": [
              "['SARSr-COV.fasta',\n",
              " 'SARS-CoV2.fasta',\n",
              " 'HCoV-OC43.fasta',\n",
              " 'HCoV-229E.fasta',\n",
              " 'HCoV-NL63.fasta',\n",
              " 'HCoV-HKU1.fasta',\n",
              " 'mers_sequence.fasta']"
            ]
          },
          "metadata": {},
          "execution_count": 160
        }
      ]
    },
    {
      "cell_type": "markdown",
      "source": [
        "### Working with SARS-CoV-2 genome sequences"
      ],
      "metadata": {
        "id": "VVqOpSp8eDVD"
      }
    },
    {
      "cell_type": "code",
      "source": [
        "convert_fasta_to_csv(datapath + 'SARS-CoV2.fasta', 'sars-cov2.csv')"
      ],
      "metadata": {
        "colab": {
          "base_uri": "https://localhost:8080/"
        },
        "id": "5cuLQvNQeQLm",
        "outputId": "423b8117-7c88-4387-f53e-43bf501bc76d"
      },
      "execution_count": null,
      "outputs": [
        {
          "output_type": "stream",
          "name": "stdout",
          "text": [
            "Conversion complete. CSV file saved as sars-cov2.csv.\n"
          ]
        }
      ]
    },
    {
      "cell_type": "code",
      "source": [
        "df_sarsCov2 = pd.read_csv('sars-cov2.csv')\n",
        "df_sarsCov2['strain_name'] = 'sars-cov2'\n",
        "print(f\"shape of sarsCov2 dataframe = {df_sarsCov2.shape}\")"
      ],
      "metadata": {
        "id": "49U_JlXDeVkg",
        "colab": {
          "base_uri": "https://localhost:8080/"
        },
        "outputId": "33d00b4d-aa9f-4db5-91a0-a921b6d96867"
      },
      "execution_count": null,
      "outputs": [
        {
          "output_type": "stream",
          "name": "stdout",
          "text": [
            "shape of sarsCov2 dataframe = (400, 3)\n"
          ]
        }
      ]
    },
    {
      "cell_type": "code",
      "source": [
        "df_sarsCov2.head(2)"
      ],
      "metadata": {
        "colab": {
          "base_uri": "https://localhost:8080/",
          "height": 112
        },
        "id": "Dnb9dX1pexDA",
        "outputId": "a5f4821b-f3ba-4c36-99df-0f17299de25a"
      },
      "execution_count": null,
      "outputs": [
        {
          "output_type": "execute_result",
          "data": {
            "text/plain": [
              "                                         Sequence ID  \\\n",
              "0  NC_045512.2 |Severe acute respiratory syndrome...   \n",
              "1  OR177857.1 |Severe acute respiratory syndrome ...   \n",
              "\n",
              "                                            Sequence strain_name  \n",
              "0  ATTAAAGGTTTATACCTTCCCAGGTAACAAACCAACCAACTTTCGA...   sars-cov2  \n",
              "1  TCGTACGTGGCTTTGGAGACTCCGTGGAGGAGGTCTTATCAGAGGC...   sars-cov2  "
            ],
            "text/html": [
              "\n",
              "\n",
              "  <div id=\"df-0951ba31-9a64-4398-a945-baf15e07b24a\">\n",
              "    <div class=\"colab-df-container\">\n",
              "      <div>\n",
              "<style scoped>\n",
              "    .dataframe tbody tr th:only-of-type {\n",
              "        vertical-align: middle;\n",
              "    }\n",
              "\n",
              "    .dataframe tbody tr th {\n",
              "        vertical-align: top;\n",
              "    }\n",
              "\n",
              "    .dataframe thead th {\n",
              "        text-align: right;\n",
              "    }\n",
              "</style>\n",
              "<table border=\"1\" class=\"dataframe\">\n",
              "  <thead>\n",
              "    <tr style=\"text-align: right;\">\n",
              "      <th></th>\n",
              "      <th>Sequence ID</th>\n",
              "      <th>Sequence</th>\n",
              "      <th>strain_name</th>\n",
              "    </tr>\n",
              "  </thead>\n",
              "  <tbody>\n",
              "    <tr>\n",
              "      <th>0</th>\n",
              "      <td>NC_045512.2 |Severe acute respiratory syndrome...</td>\n",
              "      <td>ATTAAAGGTTTATACCTTCCCAGGTAACAAACCAACCAACTTTCGA...</td>\n",
              "      <td>sars-cov2</td>\n",
              "    </tr>\n",
              "    <tr>\n",
              "      <th>1</th>\n",
              "      <td>OR177857.1 |Severe acute respiratory syndrome ...</td>\n",
              "      <td>TCGTACGTGGCTTTGGAGACTCCGTGGAGGAGGTCTTATCAGAGGC...</td>\n",
              "      <td>sars-cov2</td>\n",
              "    </tr>\n",
              "  </tbody>\n",
              "</table>\n",
              "</div>\n",
              "      <button class=\"colab-df-convert\" onclick=\"convertToInteractive('df-0951ba31-9a64-4398-a945-baf15e07b24a')\"\n",
              "              title=\"Convert this dataframe to an interactive table.\"\n",
              "              style=\"display:none;\">\n",
              "\n",
              "  <svg xmlns=\"http://www.w3.org/2000/svg\" height=\"24px\"viewBox=\"0 0 24 24\"\n",
              "       width=\"24px\">\n",
              "    <path d=\"M0 0h24v24H0V0z\" fill=\"none\"/>\n",
              "    <path d=\"M18.56 5.44l.94 2.06.94-2.06 2.06-.94-2.06-.94-.94-2.06-.94 2.06-2.06.94zm-11 1L8.5 8.5l.94-2.06 2.06-.94-2.06-.94L8.5 2.5l-.94 2.06-2.06.94zm10 10l.94 2.06.94-2.06 2.06-.94-2.06-.94-.94-2.06-.94 2.06-2.06.94z\"/><path d=\"M17.41 7.96l-1.37-1.37c-.4-.4-.92-.59-1.43-.59-.52 0-1.04.2-1.43.59L10.3 9.45l-7.72 7.72c-.78.78-.78 2.05 0 2.83L4 21.41c.39.39.9.59 1.41.59.51 0 1.02-.2 1.41-.59l7.78-7.78 2.81-2.81c.8-.78.8-2.07 0-2.86zM5.41 20L4 18.59l7.72-7.72 1.47 1.35L5.41 20z\"/>\n",
              "  </svg>\n",
              "      </button>\n",
              "\n",
              "\n",
              "\n",
              "    <div id=\"df-f5558efb-0d22-49a8-a10f-38a87f7aca02\">\n",
              "      <button class=\"colab-df-quickchart\" onclick=\"quickchart('df-f5558efb-0d22-49a8-a10f-38a87f7aca02')\"\n",
              "              title=\"Suggest charts.\"\n",
              "              style=\"display:none;\">\n",
              "\n",
              "<svg xmlns=\"http://www.w3.org/2000/svg\" height=\"24px\"viewBox=\"0 0 24 24\"\n",
              "     width=\"24px\">\n",
              "    <g>\n",
              "        <path d=\"M19 3H5c-1.1 0-2 .9-2 2v14c0 1.1.9 2 2 2h14c1.1 0 2-.9 2-2V5c0-1.1-.9-2-2-2zM9 17H7v-7h2v7zm4 0h-2V7h2v10zm4 0h-2v-4h2v4z\"/>\n",
              "    </g>\n",
              "</svg>\n",
              "      </button>\n",
              "    </div>\n",
              "\n",
              "<style>\n",
              "  .colab-df-quickchart {\n",
              "    background-color: #E8F0FE;\n",
              "    border: none;\n",
              "    border-radius: 50%;\n",
              "    cursor: pointer;\n",
              "    display: none;\n",
              "    fill: #1967D2;\n",
              "    height: 32px;\n",
              "    padding: 0 0 0 0;\n",
              "    width: 32px;\n",
              "  }\n",
              "\n",
              "  .colab-df-quickchart:hover {\n",
              "    background-color: #E2EBFA;\n",
              "    box-shadow: 0px 1px 2px rgba(60, 64, 67, 0.3), 0px 1px 3px 1px rgba(60, 64, 67, 0.15);\n",
              "    fill: #174EA6;\n",
              "  }\n",
              "\n",
              "  [theme=dark] .colab-df-quickchart {\n",
              "    background-color: #3B4455;\n",
              "    fill: #D2E3FC;\n",
              "  }\n",
              "\n",
              "  [theme=dark] .colab-df-quickchart:hover {\n",
              "    background-color: #434B5C;\n",
              "    box-shadow: 0px 1px 3px 1px rgba(0, 0, 0, 0.15);\n",
              "    filter: drop-shadow(0px 1px 2px rgba(0, 0, 0, 0.3));\n",
              "    fill: #FFFFFF;\n",
              "  }\n",
              "</style>\n",
              "\n",
              "    <script>\n",
              "      async function quickchart(key) {\n",
              "        const containerElement = document.querySelector('#' + key);\n",
              "        const charts = await google.colab.kernel.invokeFunction(\n",
              "            'suggestCharts', [key], {});\n",
              "      }\n",
              "    </script>\n",
              "\n",
              "      <script>\n",
              "\n",
              "function displayQuickchartButton(domScope) {\n",
              "  let quickchartButtonEl =\n",
              "    domScope.querySelector('#df-f5558efb-0d22-49a8-a10f-38a87f7aca02 button.colab-df-quickchart');\n",
              "  quickchartButtonEl.style.display =\n",
              "    google.colab.kernel.accessAllowed ? 'block' : 'none';\n",
              "}\n",
              "\n",
              "        displayQuickchartButton(document);\n",
              "      </script>\n",
              "      <style>\n",
              "    .colab-df-container {\n",
              "      display:flex;\n",
              "      flex-wrap:wrap;\n",
              "      gap: 12px;\n",
              "    }\n",
              "\n",
              "    .colab-df-convert {\n",
              "      background-color: #E8F0FE;\n",
              "      border: none;\n",
              "      border-radius: 50%;\n",
              "      cursor: pointer;\n",
              "      display: none;\n",
              "      fill: #1967D2;\n",
              "      height: 32px;\n",
              "      padding: 0 0 0 0;\n",
              "      width: 32px;\n",
              "    }\n",
              "\n",
              "    .colab-df-convert:hover {\n",
              "      background-color: #E2EBFA;\n",
              "      box-shadow: 0px 1px 2px rgba(60, 64, 67, 0.3), 0px 1px 3px 1px rgba(60, 64, 67, 0.15);\n",
              "      fill: #174EA6;\n",
              "    }\n",
              "\n",
              "    [theme=dark] .colab-df-convert {\n",
              "      background-color: #3B4455;\n",
              "      fill: #D2E3FC;\n",
              "    }\n",
              "\n",
              "    [theme=dark] .colab-df-convert:hover {\n",
              "      background-color: #434B5C;\n",
              "      box-shadow: 0px 1px 3px 1px rgba(0, 0, 0, 0.15);\n",
              "      filter: drop-shadow(0px 1px 2px rgba(0, 0, 0, 0.3));\n",
              "      fill: #FFFFFF;\n",
              "    }\n",
              "  </style>\n",
              "\n",
              "      <script>\n",
              "        const buttonEl =\n",
              "          document.querySelector('#df-0951ba31-9a64-4398-a945-baf15e07b24a button.colab-df-convert');\n",
              "        buttonEl.style.display =\n",
              "          google.colab.kernel.accessAllowed ? 'block' : 'none';\n",
              "\n",
              "        async function convertToInteractive(key) {\n",
              "          const element = document.querySelector('#df-0951ba31-9a64-4398-a945-baf15e07b24a');\n",
              "          const dataTable =\n",
              "            await google.colab.kernel.invokeFunction('convertToInteractive',\n",
              "                                                     [key], {});\n",
              "          if (!dataTable) return;\n",
              "\n",
              "          const docLinkHtml = 'Like what you see? Visit the ' +\n",
              "            '<a target=\"_blank\" href=https://colab.research.google.com/notebooks/data_table.ipynb>data table notebook</a>'\n",
              "            + ' to learn more about interactive tables.';\n",
              "          element.innerHTML = '';\n",
              "          dataTable['output_type'] = 'display_data';\n",
              "          await google.colab.output.renderOutput(dataTable, element);\n",
              "          const docLink = document.createElement('div');\n",
              "          docLink.innerHTML = docLinkHtml;\n",
              "          element.appendChild(docLink);\n",
              "        }\n",
              "      </script>\n",
              "    </div>\n",
              "  </div>\n"
            ]
          },
          "metadata": {},
          "execution_count": 14
        }
      ]
    },
    {
      "cell_type": "code",
      "source": [
        "## finding unique values\n",
        "df_sarsCov2['Sequence'].nunique()"
      ],
      "metadata": {
        "colab": {
          "base_uri": "https://localhost:8080/"
        },
        "id": "3fuQiVYee47V",
        "outputId": "6f62dea8-9034-4d8c-9ff3-0532b1b7cfb2"
      },
      "execution_count": null,
      "outputs": [
        {
          "output_type": "execute_result",
          "data": {
            "text/plain": [
              "397"
            ]
          },
          "metadata": {},
          "execution_count": 15
        }
      ]
    },
    {
      "cell_type": "code",
      "source": [
        "# Removing duplicate rows based on 'Sequence' column\n",
        "df_sarsCov2 = df_sarsCov2.drop_duplicates(subset='Sequence',ignore_index=True)\n",
        "df_sarsCov2"
      ],
      "metadata": {
        "id": "-Uz1oz9Je65Q",
        "colab": {
          "base_uri": "https://localhost:8080/",
          "height": 423
        },
        "outputId": "b7b28a97-7995-4bdb-871b-9ec72d4a3a24"
      },
      "execution_count": null,
      "outputs": [
        {
          "output_type": "execute_result",
          "data": {
            "text/plain": [
              "                                           Sequence ID  \\\n",
              "0    NC_045512.2 |Severe acute respiratory syndrome...   \n",
              "1    OR177857.1 |Severe acute respiratory syndrome ...   \n",
              "2    OR177858.1 |Severe acute respiratory syndrome ...   \n",
              "3    OR177859.1 |Severe acute respiratory syndrome ...   \n",
              "4    OR177860.1 |Severe acute respiratory syndrome ...   \n",
              "..                                                 ...   \n",
              "392  OR150936.1 |Severe acute respiratory syndrome ...   \n",
              "393  OR150937.1 |Severe acute respiratory syndrome ...   \n",
              "394  OR150938.1 |Severe acute respiratory syndrome ...   \n",
              "395  OR150939.1 |Severe acute respiratory syndrome ...   \n",
              "396  OR150940.1 |Severe acute respiratory syndrome ...   \n",
              "\n",
              "                                              Sequence strain_name  \n",
              "0    ATTAAAGGTTTATACCTTCCCAGGTAACAAACCAACCAACTTTCGA...   sars-cov2  \n",
              "1    TCGTACGTGGCTTTGGAGACTCCGTGGAGGAGGTCTTATCAGAGGC...   sars-cov2  \n",
              "2    TCGTACGTGGCTTTGGAGACTCCGTGGAGGAGGTCTTATCAGAGGC...   sars-cov2  \n",
              "3    TCGTACGTGGCTTTGGAGACTCCGTGGAGGAGGTCTTATCAGAGGC...   sars-cov2  \n",
              "4    TCGTACGTGGCTTTGGAGACTCCGTGGAGGAGGTCTTATCAGAGGC...   sars-cov2  \n",
              "..                                                 ...         ...  \n",
              "392  CANNCCAACCAACTTTCGATCTCTTGTAGATCTGTTCTCTAAACGA...   sars-cov2  \n",
              "393  CCAACCAACTTTCGATCTCTTGTAGATCTGTTCTCTAAACGAACTT...   sars-cov2  \n",
              "394  TACCTTCCTAGGTAACAAACCAACCAACTTTCGATCTCTTGTAGAT...   sars-cov2  \n",
              "395  CTTGTAGATCTGTTCTCTAAACGAACTTTAAAATCTGTGTGGCTGT...   sars-cov2  \n",
              "396  CCAACCAACTTTCGATCTCTTGTAGATCTGTTCTCTAAACGAACTT...   sars-cov2  \n",
              "\n",
              "[397 rows x 3 columns]"
            ],
            "text/html": [
              "\n",
              "\n",
              "  <div id=\"df-9373c275-7665-48b5-bf11-d38cc1779d15\">\n",
              "    <div class=\"colab-df-container\">\n",
              "      <div>\n",
              "<style scoped>\n",
              "    .dataframe tbody tr th:only-of-type {\n",
              "        vertical-align: middle;\n",
              "    }\n",
              "\n",
              "    .dataframe tbody tr th {\n",
              "        vertical-align: top;\n",
              "    }\n",
              "\n",
              "    .dataframe thead th {\n",
              "        text-align: right;\n",
              "    }\n",
              "</style>\n",
              "<table border=\"1\" class=\"dataframe\">\n",
              "  <thead>\n",
              "    <tr style=\"text-align: right;\">\n",
              "      <th></th>\n",
              "      <th>Sequence ID</th>\n",
              "      <th>Sequence</th>\n",
              "      <th>strain_name</th>\n",
              "    </tr>\n",
              "  </thead>\n",
              "  <tbody>\n",
              "    <tr>\n",
              "      <th>0</th>\n",
              "      <td>NC_045512.2 |Severe acute respiratory syndrome...</td>\n",
              "      <td>ATTAAAGGTTTATACCTTCCCAGGTAACAAACCAACCAACTTTCGA...</td>\n",
              "      <td>sars-cov2</td>\n",
              "    </tr>\n",
              "    <tr>\n",
              "      <th>1</th>\n",
              "      <td>OR177857.1 |Severe acute respiratory syndrome ...</td>\n",
              "      <td>TCGTACGTGGCTTTGGAGACTCCGTGGAGGAGGTCTTATCAGAGGC...</td>\n",
              "      <td>sars-cov2</td>\n",
              "    </tr>\n",
              "    <tr>\n",
              "      <th>2</th>\n",
              "      <td>OR177858.1 |Severe acute respiratory syndrome ...</td>\n",
              "      <td>TCGTACGTGGCTTTGGAGACTCCGTGGAGGAGGTCTTATCAGAGGC...</td>\n",
              "      <td>sars-cov2</td>\n",
              "    </tr>\n",
              "    <tr>\n",
              "      <th>3</th>\n",
              "      <td>OR177859.1 |Severe acute respiratory syndrome ...</td>\n",
              "      <td>TCGTACGTGGCTTTGGAGACTCCGTGGAGGAGGTCTTATCAGAGGC...</td>\n",
              "      <td>sars-cov2</td>\n",
              "    </tr>\n",
              "    <tr>\n",
              "      <th>4</th>\n",
              "      <td>OR177860.1 |Severe acute respiratory syndrome ...</td>\n",
              "      <td>TCGTACGTGGCTTTGGAGACTCCGTGGAGGAGGTCTTATCAGAGGC...</td>\n",
              "      <td>sars-cov2</td>\n",
              "    </tr>\n",
              "    <tr>\n",
              "      <th>...</th>\n",
              "      <td>...</td>\n",
              "      <td>...</td>\n",
              "      <td>...</td>\n",
              "    </tr>\n",
              "    <tr>\n",
              "      <th>392</th>\n",
              "      <td>OR150936.1 |Severe acute respiratory syndrome ...</td>\n",
              "      <td>CANNCCAACCAACTTTCGATCTCTTGTAGATCTGTTCTCTAAACGA...</td>\n",
              "      <td>sars-cov2</td>\n",
              "    </tr>\n",
              "    <tr>\n",
              "      <th>393</th>\n",
              "      <td>OR150937.1 |Severe acute respiratory syndrome ...</td>\n",
              "      <td>CCAACCAACTTTCGATCTCTTGTAGATCTGTTCTCTAAACGAACTT...</td>\n",
              "      <td>sars-cov2</td>\n",
              "    </tr>\n",
              "    <tr>\n",
              "      <th>394</th>\n",
              "      <td>OR150938.1 |Severe acute respiratory syndrome ...</td>\n",
              "      <td>TACCTTCCTAGGTAACAAACCAACCAACTTTCGATCTCTTGTAGAT...</td>\n",
              "      <td>sars-cov2</td>\n",
              "    </tr>\n",
              "    <tr>\n",
              "      <th>395</th>\n",
              "      <td>OR150939.1 |Severe acute respiratory syndrome ...</td>\n",
              "      <td>CTTGTAGATCTGTTCTCTAAACGAACTTTAAAATCTGTGTGGCTGT...</td>\n",
              "      <td>sars-cov2</td>\n",
              "    </tr>\n",
              "    <tr>\n",
              "      <th>396</th>\n",
              "      <td>OR150940.1 |Severe acute respiratory syndrome ...</td>\n",
              "      <td>CCAACCAACTTTCGATCTCTTGTAGATCTGTTCTCTAAACGAACTT...</td>\n",
              "      <td>sars-cov2</td>\n",
              "    </tr>\n",
              "  </tbody>\n",
              "</table>\n",
              "<p>397 rows × 3 columns</p>\n",
              "</div>\n",
              "      <button class=\"colab-df-convert\" onclick=\"convertToInteractive('df-9373c275-7665-48b5-bf11-d38cc1779d15')\"\n",
              "              title=\"Convert this dataframe to an interactive table.\"\n",
              "              style=\"display:none;\">\n",
              "\n",
              "  <svg xmlns=\"http://www.w3.org/2000/svg\" height=\"24px\"viewBox=\"0 0 24 24\"\n",
              "       width=\"24px\">\n",
              "    <path d=\"M0 0h24v24H0V0z\" fill=\"none\"/>\n",
              "    <path d=\"M18.56 5.44l.94 2.06.94-2.06 2.06-.94-2.06-.94-.94-2.06-.94 2.06-2.06.94zm-11 1L8.5 8.5l.94-2.06 2.06-.94-2.06-.94L8.5 2.5l-.94 2.06-2.06.94zm10 10l.94 2.06.94-2.06 2.06-.94-2.06-.94-.94-2.06-.94 2.06-2.06.94z\"/><path d=\"M17.41 7.96l-1.37-1.37c-.4-.4-.92-.59-1.43-.59-.52 0-1.04.2-1.43.59L10.3 9.45l-7.72 7.72c-.78.78-.78 2.05 0 2.83L4 21.41c.39.39.9.59 1.41.59.51 0 1.02-.2 1.41-.59l7.78-7.78 2.81-2.81c.8-.78.8-2.07 0-2.86zM5.41 20L4 18.59l7.72-7.72 1.47 1.35L5.41 20z\"/>\n",
              "  </svg>\n",
              "      </button>\n",
              "\n",
              "\n",
              "\n",
              "    <div id=\"df-556643e0-c243-424e-80ea-2c45947c1f59\">\n",
              "      <button class=\"colab-df-quickchart\" onclick=\"quickchart('df-556643e0-c243-424e-80ea-2c45947c1f59')\"\n",
              "              title=\"Suggest charts.\"\n",
              "              style=\"display:none;\">\n",
              "\n",
              "<svg xmlns=\"http://www.w3.org/2000/svg\" height=\"24px\"viewBox=\"0 0 24 24\"\n",
              "     width=\"24px\">\n",
              "    <g>\n",
              "        <path d=\"M19 3H5c-1.1 0-2 .9-2 2v14c0 1.1.9 2 2 2h14c1.1 0 2-.9 2-2V5c0-1.1-.9-2-2-2zM9 17H7v-7h2v7zm4 0h-2V7h2v10zm4 0h-2v-4h2v4z\"/>\n",
              "    </g>\n",
              "</svg>\n",
              "      </button>\n",
              "    </div>\n",
              "\n",
              "<style>\n",
              "  .colab-df-quickchart {\n",
              "    background-color: #E8F0FE;\n",
              "    border: none;\n",
              "    border-radius: 50%;\n",
              "    cursor: pointer;\n",
              "    display: none;\n",
              "    fill: #1967D2;\n",
              "    height: 32px;\n",
              "    padding: 0 0 0 0;\n",
              "    width: 32px;\n",
              "  }\n",
              "\n",
              "  .colab-df-quickchart:hover {\n",
              "    background-color: #E2EBFA;\n",
              "    box-shadow: 0px 1px 2px rgba(60, 64, 67, 0.3), 0px 1px 3px 1px rgba(60, 64, 67, 0.15);\n",
              "    fill: #174EA6;\n",
              "  }\n",
              "\n",
              "  [theme=dark] .colab-df-quickchart {\n",
              "    background-color: #3B4455;\n",
              "    fill: #D2E3FC;\n",
              "  }\n",
              "\n",
              "  [theme=dark] .colab-df-quickchart:hover {\n",
              "    background-color: #434B5C;\n",
              "    box-shadow: 0px 1px 3px 1px rgba(0, 0, 0, 0.15);\n",
              "    filter: drop-shadow(0px 1px 2px rgba(0, 0, 0, 0.3));\n",
              "    fill: #FFFFFF;\n",
              "  }\n",
              "</style>\n",
              "\n",
              "    <script>\n",
              "      async function quickchart(key) {\n",
              "        const containerElement = document.querySelector('#' + key);\n",
              "        const charts = await google.colab.kernel.invokeFunction(\n",
              "            'suggestCharts', [key], {});\n",
              "      }\n",
              "    </script>\n",
              "\n",
              "      <script>\n",
              "\n",
              "function displayQuickchartButton(domScope) {\n",
              "  let quickchartButtonEl =\n",
              "    domScope.querySelector('#df-556643e0-c243-424e-80ea-2c45947c1f59 button.colab-df-quickchart');\n",
              "  quickchartButtonEl.style.display =\n",
              "    google.colab.kernel.accessAllowed ? 'block' : 'none';\n",
              "}\n",
              "\n",
              "        displayQuickchartButton(document);\n",
              "      </script>\n",
              "      <style>\n",
              "    .colab-df-container {\n",
              "      display:flex;\n",
              "      flex-wrap:wrap;\n",
              "      gap: 12px;\n",
              "    }\n",
              "\n",
              "    .colab-df-convert {\n",
              "      background-color: #E8F0FE;\n",
              "      border: none;\n",
              "      border-radius: 50%;\n",
              "      cursor: pointer;\n",
              "      display: none;\n",
              "      fill: #1967D2;\n",
              "      height: 32px;\n",
              "      padding: 0 0 0 0;\n",
              "      width: 32px;\n",
              "    }\n",
              "\n",
              "    .colab-df-convert:hover {\n",
              "      background-color: #E2EBFA;\n",
              "      box-shadow: 0px 1px 2px rgba(60, 64, 67, 0.3), 0px 1px 3px 1px rgba(60, 64, 67, 0.15);\n",
              "      fill: #174EA6;\n",
              "    }\n",
              "\n",
              "    [theme=dark] .colab-df-convert {\n",
              "      background-color: #3B4455;\n",
              "      fill: #D2E3FC;\n",
              "    }\n",
              "\n",
              "    [theme=dark] .colab-df-convert:hover {\n",
              "      background-color: #434B5C;\n",
              "      box-shadow: 0px 1px 3px 1px rgba(0, 0, 0, 0.15);\n",
              "      filter: drop-shadow(0px 1px 2px rgba(0, 0, 0, 0.3));\n",
              "      fill: #FFFFFF;\n",
              "    }\n",
              "  </style>\n",
              "\n",
              "      <script>\n",
              "        const buttonEl =\n",
              "          document.querySelector('#df-9373c275-7665-48b5-bf11-d38cc1779d15 button.colab-df-convert');\n",
              "        buttonEl.style.display =\n",
              "          google.colab.kernel.accessAllowed ? 'block' : 'none';\n",
              "\n",
              "        async function convertToInteractive(key) {\n",
              "          const element = document.querySelector('#df-9373c275-7665-48b5-bf11-d38cc1779d15');\n",
              "          const dataTable =\n",
              "            await google.colab.kernel.invokeFunction('convertToInteractive',\n",
              "                                                     [key], {});\n",
              "          if (!dataTable) return;\n",
              "\n",
              "          const docLinkHtml = 'Like what you see? Visit the ' +\n",
              "            '<a target=\"_blank\" href=https://colab.research.google.com/notebooks/data_table.ipynb>data table notebook</a>'\n",
              "            + ' to learn more about interactive tables.';\n",
              "          element.innerHTML = '';\n",
              "          dataTable['output_type'] = 'display_data';\n",
              "          await google.colab.output.renderOutput(dataTable, element);\n",
              "          const docLink = document.createElement('div');\n",
              "          docLink.innerHTML = docLinkHtml;\n",
              "          element.appendChild(docLink);\n",
              "        }\n",
              "      </script>\n",
              "    </div>\n",
              "  </div>\n"
            ]
          },
          "metadata": {},
          "execution_count": 18
        }
      ]
    },
    {
      "cell_type": "code",
      "source": [
        "### After removing duplicate vaules\n",
        "print(f\"shape of sarsCov2 dataframe = {df_sarsCov2.shape}\")"
      ],
      "metadata": {
        "colab": {
          "base_uri": "https://localhost:8080/"
        },
        "id": "sqdLSOYCe-sm",
        "outputId": "e65f3ac7-8b37-4c89-bf20-4b15d5ff2617"
      },
      "execution_count": null,
      "outputs": [
        {
          "output_type": "stream",
          "name": "stdout",
          "text": [
            "shape of sarsCov2 dataframe = (397, 3)\n"
          ]
        }
      ]
    },
    {
      "cell_type": "code",
      "source": [
        "max_len_sarsCov2 = maxSeq_length(df_sarsCov2['Sequence'])\n",
        "max_len_sarsCov2"
      ],
      "metadata": {
        "colab": {
          "base_uri": "https://localhost:8080/"
        },
        "id": "RZzTcmf1fBAP",
        "outputId": "cc6157b7-1aa7-49db-f2e7-34beeab668dc"
      },
      "execution_count": null,
      "outputs": [
        {
          "output_type": "execute_result",
          "data": {
            "text/plain": [
              "29903"
            ]
          },
          "metadata": {},
          "execution_count": 20
        }
      ]
    },
    {
      "cell_type": "code",
      "source": [
        "min_len_sarsCov2 = minSeq_length(df_sarsCov2['Sequence'])\n",
        "min_len_sarsCov2"
      ],
      "metadata": {
        "colab": {
          "base_uri": "https://localhost:8080/"
        },
        "id": "WBqcnWqqfCqc",
        "outputId": "cd27d0a9-8c66-484c-84d8-2608ac876bec"
      },
      "execution_count": null,
      "outputs": [
        {
          "output_type": "execute_result",
          "data": {
            "text/plain": [
              "29319"
            ]
          },
          "metadata": {},
          "execution_count": 21
        }
      ]
    },
    {
      "cell_type": "code",
      "source": [
        "## Labeling 'sars-Cov2' as '0'\n",
        "df_sarsCov2['label'] = 0\n",
        "df_sarsCov2.head(2)"
      ],
      "metadata": {
        "id": "CnhOjzQXfh0i",
        "colab": {
          "base_uri": "https://localhost:8080/",
          "height": 112
        },
        "outputId": "8662c4c8-3205-45c7-a201-fd72ccc6bccf"
      },
      "execution_count": null,
      "outputs": [
        {
          "output_type": "execute_result",
          "data": {
            "text/plain": [
              "                                         Sequence ID  \\\n",
              "0  NC_045512.2 |Severe acute respiratory syndrome...   \n",
              "1  OR177857.1 |Severe acute respiratory syndrome ...   \n",
              "\n",
              "                                            Sequence strain_name  label  \n",
              "0  ATTAAAGGTTTATACCTTCCCAGGTAACAAACCAACCAACTTTCGA...   sars-cov2      0  \n",
              "1  TCGTACGTGGCTTTGGAGACTCCGTGGAGGAGGTCTTATCAGAGGC...   sars-cov2      0  "
            ],
            "text/html": [
              "\n",
              "\n",
              "  <div id=\"df-04f2d80b-7e1a-4ea4-b88f-a1c499077eda\">\n",
              "    <div class=\"colab-df-container\">\n",
              "      <div>\n",
              "<style scoped>\n",
              "    .dataframe tbody tr th:only-of-type {\n",
              "        vertical-align: middle;\n",
              "    }\n",
              "\n",
              "    .dataframe tbody tr th {\n",
              "        vertical-align: top;\n",
              "    }\n",
              "\n",
              "    .dataframe thead th {\n",
              "        text-align: right;\n",
              "    }\n",
              "</style>\n",
              "<table border=\"1\" class=\"dataframe\">\n",
              "  <thead>\n",
              "    <tr style=\"text-align: right;\">\n",
              "      <th></th>\n",
              "      <th>Sequence ID</th>\n",
              "      <th>Sequence</th>\n",
              "      <th>strain_name</th>\n",
              "      <th>label</th>\n",
              "    </tr>\n",
              "  </thead>\n",
              "  <tbody>\n",
              "    <tr>\n",
              "      <th>0</th>\n",
              "      <td>NC_045512.2 |Severe acute respiratory syndrome...</td>\n",
              "      <td>ATTAAAGGTTTATACCTTCCCAGGTAACAAACCAACCAACTTTCGA...</td>\n",
              "      <td>sars-cov2</td>\n",
              "      <td>0</td>\n",
              "    </tr>\n",
              "    <tr>\n",
              "      <th>1</th>\n",
              "      <td>OR177857.1 |Severe acute respiratory syndrome ...</td>\n",
              "      <td>TCGTACGTGGCTTTGGAGACTCCGTGGAGGAGGTCTTATCAGAGGC...</td>\n",
              "      <td>sars-cov2</td>\n",
              "      <td>0</td>\n",
              "    </tr>\n",
              "  </tbody>\n",
              "</table>\n",
              "</div>\n",
              "      <button class=\"colab-df-convert\" onclick=\"convertToInteractive('df-04f2d80b-7e1a-4ea4-b88f-a1c499077eda')\"\n",
              "              title=\"Convert this dataframe to an interactive table.\"\n",
              "              style=\"display:none;\">\n",
              "\n",
              "  <svg xmlns=\"http://www.w3.org/2000/svg\" height=\"24px\"viewBox=\"0 0 24 24\"\n",
              "       width=\"24px\">\n",
              "    <path d=\"M0 0h24v24H0V0z\" fill=\"none\"/>\n",
              "    <path d=\"M18.56 5.44l.94 2.06.94-2.06 2.06-.94-2.06-.94-.94-2.06-.94 2.06-2.06.94zm-11 1L8.5 8.5l.94-2.06 2.06-.94-2.06-.94L8.5 2.5l-.94 2.06-2.06.94zm10 10l.94 2.06.94-2.06 2.06-.94-2.06-.94-.94-2.06-.94 2.06-2.06.94z\"/><path d=\"M17.41 7.96l-1.37-1.37c-.4-.4-.92-.59-1.43-.59-.52 0-1.04.2-1.43.59L10.3 9.45l-7.72 7.72c-.78.78-.78 2.05 0 2.83L4 21.41c.39.39.9.59 1.41.59.51 0 1.02-.2 1.41-.59l7.78-7.78 2.81-2.81c.8-.78.8-2.07 0-2.86zM5.41 20L4 18.59l7.72-7.72 1.47 1.35L5.41 20z\"/>\n",
              "  </svg>\n",
              "      </button>\n",
              "\n",
              "\n",
              "\n",
              "    <div id=\"df-58a33af6-80ea-40f9-a89f-b081575a9faa\">\n",
              "      <button class=\"colab-df-quickchart\" onclick=\"quickchart('df-58a33af6-80ea-40f9-a89f-b081575a9faa')\"\n",
              "              title=\"Suggest charts.\"\n",
              "              style=\"display:none;\">\n",
              "\n",
              "<svg xmlns=\"http://www.w3.org/2000/svg\" height=\"24px\"viewBox=\"0 0 24 24\"\n",
              "     width=\"24px\">\n",
              "    <g>\n",
              "        <path d=\"M19 3H5c-1.1 0-2 .9-2 2v14c0 1.1.9 2 2 2h14c1.1 0 2-.9 2-2V5c0-1.1-.9-2-2-2zM9 17H7v-7h2v7zm4 0h-2V7h2v10zm4 0h-2v-4h2v4z\"/>\n",
              "    </g>\n",
              "</svg>\n",
              "      </button>\n",
              "    </div>\n",
              "\n",
              "<style>\n",
              "  .colab-df-quickchart {\n",
              "    background-color: #E8F0FE;\n",
              "    border: none;\n",
              "    border-radius: 50%;\n",
              "    cursor: pointer;\n",
              "    display: none;\n",
              "    fill: #1967D2;\n",
              "    height: 32px;\n",
              "    padding: 0 0 0 0;\n",
              "    width: 32px;\n",
              "  }\n",
              "\n",
              "  .colab-df-quickchart:hover {\n",
              "    background-color: #E2EBFA;\n",
              "    box-shadow: 0px 1px 2px rgba(60, 64, 67, 0.3), 0px 1px 3px 1px rgba(60, 64, 67, 0.15);\n",
              "    fill: #174EA6;\n",
              "  }\n",
              "\n",
              "  [theme=dark] .colab-df-quickchart {\n",
              "    background-color: #3B4455;\n",
              "    fill: #D2E3FC;\n",
              "  }\n",
              "\n",
              "  [theme=dark] .colab-df-quickchart:hover {\n",
              "    background-color: #434B5C;\n",
              "    box-shadow: 0px 1px 3px 1px rgba(0, 0, 0, 0.15);\n",
              "    filter: drop-shadow(0px 1px 2px rgba(0, 0, 0, 0.3));\n",
              "    fill: #FFFFFF;\n",
              "  }\n",
              "</style>\n",
              "\n",
              "    <script>\n",
              "      async function quickchart(key) {\n",
              "        const containerElement = document.querySelector('#' + key);\n",
              "        const charts = await google.colab.kernel.invokeFunction(\n",
              "            'suggestCharts', [key], {});\n",
              "      }\n",
              "    </script>\n",
              "\n",
              "      <script>\n",
              "\n",
              "function displayQuickchartButton(domScope) {\n",
              "  let quickchartButtonEl =\n",
              "    domScope.querySelector('#df-58a33af6-80ea-40f9-a89f-b081575a9faa button.colab-df-quickchart');\n",
              "  quickchartButtonEl.style.display =\n",
              "    google.colab.kernel.accessAllowed ? 'block' : 'none';\n",
              "}\n",
              "\n",
              "        displayQuickchartButton(document);\n",
              "      </script>\n",
              "      <style>\n",
              "    .colab-df-container {\n",
              "      display:flex;\n",
              "      flex-wrap:wrap;\n",
              "      gap: 12px;\n",
              "    }\n",
              "\n",
              "    .colab-df-convert {\n",
              "      background-color: #E8F0FE;\n",
              "      border: none;\n",
              "      border-radius: 50%;\n",
              "      cursor: pointer;\n",
              "      display: none;\n",
              "      fill: #1967D2;\n",
              "      height: 32px;\n",
              "      padding: 0 0 0 0;\n",
              "      width: 32px;\n",
              "    }\n",
              "\n",
              "    .colab-df-convert:hover {\n",
              "      background-color: #E2EBFA;\n",
              "      box-shadow: 0px 1px 2px rgba(60, 64, 67, 0.3), 0px 1px 3px 1px rgba(60, 64, 67, 0.15);\n",
              "      fill: #174EA6;\n",
              "    }\n",
              "\n",
              "    [theme=dark] .colab-df-convert {\n",
              "      background-color: #3B4455;\n",
              "      fill: #D2E3FC;\n",
              "    }\n",
              "\n",
              "    [theme=dark] .colab-df-convert:hover {\n",
              "      background-color: #434B5C;\n",
              "      box-shadow: 0px 1px 3px 1px rgba(0, 0, 0, 0.15);\n",
              "      filter: drop-shadow(0px 1px 2px rgba(0, 0, 0, 0.3));\n",
              "      fill: #FFFFFF;\n",
              "    }\n",
              "  </style>\n",
              "\n",
              "      <script>\n",
              "        const buttonEl =\n",
              "          document.querySelector('#df-04f2d80b-7e1a-4ea4-b88f-a1c499077eda button.colab-df-convert');\n",
              "        buttonEl.style.display =\n",
              "          google.colab.kernel.accessAllowed ? 'block' : 'none';\n",
              "\n",
              "        async function convertToInteractive(key) {\n",
              "          const element = document.querySelector('#df-04f2d80b-7e1a-4ea4-b88f-a1c499077eda');\n",
              "          const dataTable =\n",
              "            await google.colab.kernel.invokeFunction('convertToInteractive',\n",
              "                                                     [key], {});\n",
              "          if (!dataTable) return;\n",
              "\n",
              "          const docLinkHtml = 'Like what you see? Visit the ' +\n",
              "            '<a target=\"_blank\" href=https://colab.research.google.com/notebooks/data_table.ipynb>data table notebook</a>'\n",
              "            + ' to learn more about interactive tables.';\n",
              "          element.innerHTML = '';\n",
              "          dataTable['output_type'] = 'display_data';\n",
              "          await google.colab.output.renderOutput(dataTable, element);\n",
              "          const docLink = document.createElement('div');\n",
              "          docLink.innerHTML = docLinkHtml;\n",
              "          element.appendChild(docLink);\n",
              "        }\n",
              "      </script>\n",
              "    </div>\n",
              "  </div>\n"
            ]
          },
          "metadata": {},
          "execution_count": 24
        }
      ]
    },
    {
      "cell_type": "markdown",
      "source": [
        "## Working with MERS-CoV Genome Sequences"
      ],
      "metadata": {
        "id": "Qmmlwd90fodG"
      }
    },
    {
      "cell_type": "code",
      "source": [
        "convert_fasta_to_csv(datapath + 'mers_sequence.fasta', 'mers-cov.csv')"
      ],
      "metadata": {
        "colab": {
          "base_uri": "https://localhost:8080/"
        },
        "id": "FzJILdkff6je",
        "outputId": "ed4eefd2-4d52-4584-f427-a2a7c1198f61"
      },
      "execution_count": null,
      "outputs": [
        {
          "output_type": "stream",
          "name": "stdout",
          "text": [
            "Conversion complete. CSV file saved as mers-cov.csv.\n"
          ]
        }
      ]
    },
    {
      "cell_type": "code",
      "source": [
        "df_mersCov = pd.read_csv('mers-cov.csv')\n",
        "df_mersCov['strain_name'] = 'mers-cov'\n",
        "df_mersCov.shape"
      ],
      "metadata": {
        "id": "jGlEXXh7f_EC",
        "colab": {
          "base_uri": "https://localhost:8080/"
        },
        "outputId": "a9f7871f-703e-4d31-8708-5d6abfa18295"
      },
      "execution_count": null,
      "outputs": [
        {
          "output_type": "execute_result",
          "data": {
            "text/plain": [
              "(1345, 3)"
            ]
          },
          "metadata": {},
          "execution_count": 26
        }
      ]
    },
    {
      "cell_type": "code",
      "source": [
        "## finding unique values\n",
        "df_mersCov['Sequence'].nunique()"
      ],
      "metadata": {
        "colab": {
          "base_uri": "https://localhost:8080/"
        },
        "id": "2AnFWfT4gh8c",
        "outputId": "027fefb9-0ce6-4b15-9093-dadca9539306"
      },
      "execution_count": null,
      "outputs": [
        {
          "output_type": "execute_result",
          "data": {
            "text/plain": [
              "1002"
            ]
          },
          "metadata": {},
          "execution_count": 27
        }
      ]
    },
    {
      "cell_type": "code",
      "source": [
        "# Remove duplicate rows based on 'Sequence' column\n",
        "df_mersCov = df_mersCov.drop_duplicates(subset='Sequence',ignore_index=True)\n",
        "df_mersCov.shape"
      ],
      "metadata": {
        "id": "FpagPpgXgj_f",
        "colab": {
          "base_uri": "https://localhost:8080/"
        },
        "outputId": "24f1553d-8ec4-4046-954b-15b363b6107d"
      },
      "execution_count": null,
      "outputs": [
        {
          "output_type": "execute_result",
          "data": {
            "text/plain": [
              "(1002, 3)"
            ]
          },
          "metadata": {},
          "execution_count": 28
        }
      ]
    },
    {
      "cell_type": "code",
      "source": [
        "df_mersCov.head()"
      ],
      "metadata": {
        "colab": {
          "base_uri": "https://localhost:8080/",
          "height": 206
        },
        "id": "dvD37YFcgn74",
        "outputId": "4c988a8e-c53f-45d0-a257-3cff0b6be91a"
      },
      "execution_count": null,
      "outputs": [
        {
          "output_type": "execute_result",
          "data": {
            "text/plain": [
              "                                         Sequence ID  \\\n",
              "0  NC_038294 |Betacoronavirus England 1| complete...   \n",
              "1  NC_019843 |Middle East respiratory syndrome co...   \n",
              "2  MG987420 |Middle East respiratory syndrome-rel...   \n",
              "3  MG987421 |Middle East respiratory syndrome-rel...   \n",
              "4  MN541264 |Middle East respiratory syndrome-rel...   \n",
              "\n",
              "                                            Sequence strain_name  \n",
              "0  ATTTAAGTGAATAGCTTGGCTATCTCACTTCCCCTCGTTCTCTTGC...    mers-cov  \n",
              "1  GATTTAAGTGAATAGCTTGGCTATCTCACTTCCCCTCGTTCTCTTG...    mers-cov  \n",
              "2  GATTTAAGTGAATAGCCTAGCTATCTCACCCCCTCTCGTTCTCTTG...    mers-cov  \n",
              "3  GATTTAAGTGAATAGCCTAGCTATCTCACCCCCTCTCGTTCTCTTG...    mers-cov  \n",
              "4  TGTTGATTGTAAACAGTACGTTTGCAATGGTTTCCAGAAGTGTGAG...    mers-cov  "
            ],
            "text/html": [
              "\n",
              "\n",
              "  <div id=\"df-3c14ebf4-a41c-461b-a2e6-d989233625a1\">\n",
              "    <div class=\"colab-df-container\">\n",
              "      <div>\n",
              "<style scoped>\n",
              "    .dataframe tbody tr th:only-of-type {\n",
              "        vertical-align: middle;\n",
              "    }\n",
              "\n",
              "    .dataframe tbody tr th {\n",
              "        vertical-align: top;\n",
              "    }\n",
              "\n",
              "    .dataframe thead th {\n",
              "        text-align: right;\n",
              "    }\n",
              "</style>\n",
              "<table border=\"1\" class=\"dataframe\">\n",
              "  <thead>\n",
              "    <tr style=\"text-align: right;\">\n",
              "      <th></th>\n",
              "      <th>Sequence ID</th>\n",
              "      <th>Sequence</th>\n",
              "      <th>strain_name</th>\n",
              "    </tr>\n",
              "  </thead>\n",
              "  <tbody>\n",
              "    <tr>\n",
              "      <th>0</th>\n",
              "      <td>NC_038294 |Betacoronavirus England 1| complete...</td>\n",
              "      <td>ATTTAAGTGAATAGCTTGGCTATCTCACTTCCCCTCGTTCTCTTGC...</td>\n",
              "      <td>mers-cov</td>\n",
              "    </tr>\n",
              "    <tr>\n",
              "      <th>1</th>\n",
              "      <td>NC_019843 |Middle East respiratory syndrome co...</td>\n",
              "      <td>GATTTAAGTGAATAGCTTGGCTATCTCACTTCCCCTCGTTCTCTTG...</td>\n",
              "      <td>mers-cov</td>\n",
              "    </tr>\n",
              "    <tr>\n",
              "      <th>2</th>\n",
              "      <td>MG987420 |Middle East respiratory syndrome-rel...</td>\n",
              "      <td>GATTTAAGTGAATAGCCTAGCTATCTCACCCCCTCTCGTTCTCTTG...</td>\n",
              "      <td>mers-cov</td>\n",
              "    </tr>\n",
              "    <tr>\n",
              "      <th>3</th>\n",
              "      <td>MG987421 |Middle East respiratory syndrome-rel...</td>\n",
              "      <td>GATTTAAGTGAATAGCCTAGCTATCTCACCCCCTCTCGTTCTCTTG...</td>\n",
              "      <td>mers-cov</td>\n",
              "    </tr>\n",
              "    <tr>\n",
              "      <th>4</th>\n",
              "      <td>MN541264 |Middle East respiratory syndrome-rel...</td>\n",
              "      <td>TGTTGATTGTAAACAGTACGTTTGCAATGGTTTCCAGAAGTGTGAG...</td>\n",
              "      <td>mers-cov</td>\n",
              "    </tr>\n",
              "  </tbody>\n",
              "</table>\n",
              "</div>\n",
              "      <button class=\"colab-df-convert\" onclick=\"convertToInteractive('df-3c14ebf4-a41c-461b-a2e6-d989233625a1')\"\n",
              "              title=\"Convert this dataframe to an interactive table.\"\n",
              "              style=\"display:none;\">\n",
              "\n",
              "  <svg xmlns=\"http://www.w3.org/2000/svg\" height=\"24px\"viewBox=\"0 0 24 24\"\n",
              "       width=\"24px\">\n",
              "    <path d=\"M0 0h24v24H0V0z\" fill=\"none\"/>\n",
              "    <path d=\"M18.56 5.44l.94 2.06.94-2.06 2.06-.94-2.06-.94-.94-2.06-.94 2.06-2.06.94zm-11 1L8.5 8.5l.94-2.06 2.06-.94-2.06-.94L8.5 2.5l-.94 2.06-2.06.94zm10 10l.94 2.06.94-2.06 2.06-.94-2.06-.94-.94-2.06-.94 2.06-2.06.94z\"/><path d=\"M17.41 7.96l-1.37-1.37c-.4-.4-.92-.59-1.43-.59-.52 0-1.04.2-1.43.59L10.3 9.45l-7.72 7.72c-.78.78-.78 2.05 0 2.83L4 21.41c.39.39.9.59 1.41.59.51 0 1.02-.2 1.41-.59l7.78-7.78 2.81-2.81c.8-.78.8-2.07 0-2.86zM5.41 20L4 18.59l7.72-7.72 1.47 1.35L5.41 20z\"/>\n",
              "  </svg>\n",
              "      </button>\n",
              "\n",
              "\n",
              "\n",
              "    <div id=\"df-cefd1652-ec59-431f-9a1c-b192aaafac10\">\n",
              "      <button class=\"colab-df-quickchart\" onclick=\"quickchart('df-cefd1652-ec59-431f-9a1c-b192aaafac10')\"\n",
              "              title=\"Suggest charts.\"\n",
              "              style=\"display:none;\">\n",
              "\n",
              "<svg xmlns=\"http://www.w3.org/2000/svg\" height=\"24px\"viewBox=\"0 0 24 24\"\n",
              "     width=\"24px\">\n",
              "    <g>\n",
              "        <path d=\"M19 3H5c-1.1 0-2 .9-2 2v14c0 1.1.9 2 2 2h14c1.1 0 2-.9 2-2V5c0-1.1-.9-2-2-2zM9 17H7v-7h2v7zm4 0h-2V7h2v10zm4 0h-2v-4h2v4z\"/>\n",
              "    </g>\n",
              "</svg>\n",
              "      </button>\n",
              "    </div>\n",
              "\n",
              "<style>\n",
              "  .colab-df-quickchart {\n",
              "    background-color: #E8F0FE;\n",
              "    border: none;\n",
              "    border-radius: 50%;\n",
              "    cursor: pointer;\n",
              "    display: none;\n",
              "    fill: #1967D2;\n",
              "    height: 32px;\n",
              "    padding: 0 0 0 0;\n",
              "    width: 32px;\n",
              "  }\n",
              "\n",
              "  .colab-df-quickchart:hover {\n",
              "    background-color: #E2EBFA;\n",
              "    box-shadow: 0px 1px 2px rgba(60, 64, 67, 0.3), 0px 1px 3px 1px rgba(60, 64, 67, 0.15);\n",
              "    fill: #174EA6;\n",
              "  }\n",
              "\n",
              "  [theme=dark] .colab-df-quickchart {\n",
              "    background-color: #3B4455;\n",
              "    fill: #D2E3FC;\n",
              "  }\n",
              "\n",
              "  [theme=dark] .colab-df-quickchart:hover {\n",
              "    background-color: #434B5C;\n",
              "    box-shadow: 0px 1px 3px 1px rgba(0, 0, 0, 0.15);\n",
              "    filter: drop-shadow(0px 1px 2px rgba(0, 0, 0, 0.3));\n",
              "    fill: #FFFFFF;\n",
              "  }\n",
              "</style>\n",
              "\n",
              "    <script>\n",
              "      async function quickchart(key) {\n",
              "        const containerElement = document.querySelector('#' + key);\n",
              "        const charts = await google.colab.kernel.invokeFunction(\n",
              "            'suggestCharts', [key], {});\n",
              "      }\n",
              "    </script>\n",
              "\n",
              "      <script>\n",
              "\n",
              "function displayQuickchartButton(domScope) {\n",
              "  let quickchartButtonEl =\n",
              "    domScope.querySelector('#df-cefd1652-ec59-431f-9a1c-b192aaafac10 button.colab-df-quickchart');\n",
              "  quickchartButtonEl.style.display =\n",
              "    google.colab.kernel.accessAllowed ? 'block' : 'none';\n",
              "}\n",
              "\n",
              "        displayQuickchartButton(document);\n",
              "      </script>\n",
              "      <style>\n",
              "    .colab-df-container {\n",
              "      display:flex;\n",
              "      flex-wrap:wrap;\n",
              "      gap: 12px;\n",
              "    }\n",
              "\n",
              "    .colab-df-convert {\n",
              "      background-color: #E8F0FE;\n",
              "      border: none;\n",
              "      border-radius: 50%;\n",
              "      cursor: pointer;\n",
              "      display: none;\n",
              "      fill: #1967D2;\n",
              "      height: 32px;\n",
              "      padding: 0 0 0 0;\n",
              "      width: 32px;\n",
              "    }\n",
              "\n",
              "    .colab-df-convert:hover {\n",
              "      background-color: #E2EBFA;\n",
              "      box-shadow: 0px 1px 2px rgba(60, 64, 67, 0.3), 0px 1px 3px 1px rgba(60, 64, 67, 0.15);\n",
              "      fill: #174EA6;\n",
              "    }\n",
              "\n",
              "    [theme=dark] .colab-df-convert {\n",
              "      background-color: #3B4455;\n",
              "      fill: #D2E3FC;\n",
              "    }\n",
              "\n",
              "    [theme=dark] .colab-df-convert:hover {\n",
              "      background-color: #434B5C;\n",
              "      box-shadow: 0px 1px 3px 1px rgba(0, 0, 0, 0.15);\n",
              "      filter: drop-shadow(0px 1px 2px rgba(0, 0, 0, 0.3));\n",
              "      fill: #FFFFFF;\n",
              "    }\n",
              "  </style>\n",
              "\n",
              "      <script>\n",
              "        const buttonEl =\n",
              "          document.querySelector('#df-3c14ebf4-a41c-461b-a2e6-d989233625a1 button.colab-df-convert');\n",
              "        buttonEl.style.display =\n",
              "          google.colab.kernel.accessAllowed ? 'block' : 'none';\n",
              "\n",
              "        async function convertToInteractive(key) {\n",
              "          const element = document.querySelector('#df-3c14ebf4-a41c-461b-a2e6-d989233625a1');\n",
              "          const dataTable =\n",
              "            await google.colab.kernel.invokeFunction('convertToInteractive',\n",
              "                                                     [key], {});\n",
              "          if (!dataTable) return;\n",
              "\n",
              "          const docLinkHtml = 'Like what you see? Visit the ' +\n",
              "            '<a target=\"_blank\" href=https://colab.research.google.com/notebooks/data_table.ipynb>data table notebook</a>'\n",
              "            + ' to learn more about interactive tables.';\n",
              "          element.innerHTML = '';\n",
              "          dataTable['output_type'] = 'display_data';\n",
              "          await google.colab.output.renderOutput(dataTable, element);\n",
              "          const docLink = document.createElement('div');\n",
              "          docLink.innerHTML = docLinkHtml;\n",
              "          element.appendChild(docLink);\n",
              "        }\n",
              "      </script>\n",
              "    </div>\n",
              "  </div>\n"
            ]
          },
          "metadata": {},
          "execution_count": 30
        }
      ]
    },
    {
      "cell_type": "code",
      "source": [
        "max_len_mersCov = maxSeq_length(df_mersCov['Sequence'])\n",
        "max_len_mersCov"
      ],
      "metadata": {
        "colab": {
          "base_uri": "https://localhost:8080/"
        },
        "id": "K2Xce-hNgps6",
        "outputId": "96e240d8-cdd8-44ff-c9db-531e35de9660"
      },
      "execution_count": null,
      "outputs": [
        {
          "output_type": "execute_result",
          "data": {
            "text/plain": [
              "30484"
            ]
          },
          "metadata": {},
          "execution_count": 31
        }
      ]
    },
    {
      "cell_type": "code",
      "source": [
        "min_len_mersCov = minSeq_length(df_mersCov['Sequence'])\n",
        "min_len_mersCov"
      ],
      "metadata": {
        "colab": {
          "base_uri": "https://localhost:8080/"
        },
        "id": "TfaLBXttgrfY",
        "outputId": "5701e7fb-6121-4c39-a1c0-58c65c83e270"
      },
      "execution_count": null,
      "outputs": [
        {
          "output_type": "execute_result",
          "data": {
            "text/plain": [
              "110"
            ]
          },
          "metadata": {},
          "execution_count": 32
        }
      ]
    },
    {
      "cell_type": "code",
      "source": [
        "### containing all the 'sequences' whose length is greater than '25000'\n",
        "df_mersCov = df_mersCov[(df_mersCov['Sequence'].str.len() > 25000)]\n",
        "print(df_mersCov.shape)"
      ],
      "metadata": {
        "colab": {
          "base_uri": "https://localhost:8080/"
        },
        "id": "CVPB8VUggtQZ",
        "outputId": "f487de05-73fe-434b-d32f-d5f76937ad9f"
      },
      "execution_count": null,
      "outputs": [
        {
          "output_type": "stream",
          "name": "stdout",
          "text": [
            "(537, 3)\n"
          ]
        }
      ]
    },
    {
      "cell_type": "code",
      "source": [
        "df_mersCov"
      ],
      "metadata": {
        "colab": {
          "base_uri": "https://localhost:8080/",
          "height": 423
        },
        "id": "ZsqFoXUmgvJJ",
        "outputId": "10e0228c-80f2-4e7c-e121-1275080f0f1e"
      },
      "execution_count": null,
      "outputs": [
        {
          "output_type": "execute_result",
          "data": {
            "text/plain": [
              "                                            Sequence ID  \\\n",
              "0     NC_038294 |Betacoronavirus England 1| complete...   \n",
              "1     NC_019843 |Middle East respiratory syndrome co...   \n",
              "2     MG987420 |Middle East respiratory syndrome-rel...   \n",
              "3     MG987421 |Middle East respiratory syndrome-rel...   \n",
              "30    MN723544 |Middle East respiratory syndrome-rel...   \n",
              "...                                                 ...   \n",
              "997   KF186565 |Middle East respiratory syndrome cor...   \n",
              "998   KF192507 |Middle East respiratory syndrome cor...   \n",
              "999   KF186564 |Middle East respiratory syndrome cor...   \n",
              "1000  KC776174 |Human betacoronavirus 2c Jordan-N3/2...   \n",
              "1001  KC667074 |Human betacoronavirus 2c England-Qat...   \n",
              "\n",
              "                                               Sequence strain_name  \n",
              "0     ATTTAAGTGAATAGCTTGGCTATCTCACTTCCCCTCGTTCTCTTGC...    mers-cov  \n",
              "1     GATTTAAGTGAATAGCTTGGCTATCTCACTTCCCCTCGTTCTCTTG...    mers-cov  \n",
              "2     GATTTAAGTGAATAGCCTAGCTATCTCACCCCCTCTCGTTCTCTTG...    mers-cov  \n",
              "3     GATTTAAGTGAATAGCCTAGCTATCTCACCCCCTCTCGTTCTCTTG...    mers-cov  \n",
              "30    GATTTAAGTGAATAGCTTGGCTATCTCACTTTCCCTCGTTCTCTTG...    mers-cov  \n",
              "...                                                 ...         ...  \n",
              "997   AACTTTGATTTTAACGAACTTAAATAAAAGCCCTGTTGTTTAGCGT...    mers-cov  \n",
              "998   AAGTGAATAGCTTGGCTATCTCACTTCCCCTCGTTCTCTTGCAGAA...    mers-cov  \n",
              "999   CGTTCTCCTGCAGAACTTTGATTTTAACGAACTTAAATAAAAGCCC...    mers-cov  \n",
              "1000  CAGAACTTTGATTTTAACGAACTTAAATAAAAGCCCTGTTGTTTAG...    mers-cov  \n",
              "1001  GATTTAAGTGAATAGCTTGGCTATCTCACTTCCCCTCGTTCTCTTG...    mers-cov  \n",
              "\n",
              "[537 rows x 3 columns]"
            ],
            "text/html": [
              "\n",
              "\n",
              "  <div id=\"df-5c9e499b-847d-44b5-b3cb-5092569ad4ff\">\n",
              "    <div class=\"colab-df-container\">\n",
              "      <div>\n",
              "<style scoped>\n",
              "    .dataframe tbody tr th:only-of-type {\n",
              "        vertical-align: middle;\n",
              "    }\n",
              "\n",
              "    .dataframe tbody tr th {\n",
              "        vertical-align: top;\n",
              "    }\n",
              "\n",
              "    .dataframe thead th {\n",
              "        text-align: right;\n",
              "    }\n",
              "</style>\n",
              "<table border=\"1\" class=\"dataframe\">\n",
              "  <thead>\n",
              "    <tr style=\"text-align: right;\">\n",
              "      <th></th>\n",
              "      <th>Sequence ID</th>\n",
              "      <th>Sequence</th>\n",
              "      <th>strain_name</th>\n",
              "    </tr>\n",
              "  </thead>\n",
              "  <tbody>\n",
              "    <tr>\n",
              "      <th>0</th>\n",
              "      <td>NC_038294 |Betacoronavirus England 1| complete...</td>\n",
              "      <td>ATTTAAGTGAATAGCTTGGCTATCTCACTTCCCCTCGTTCTCTTGC...</td>\n",
              "      <td>mers-cov</td>\n",
              "    </tr>\n",
              "    <tr>\n",
              "      <th>1</th>\n",
              "      <td>NC_019843 |Middle East respiratory syndrome co...</td>\n",
              "      <td>GATTTAAGTGAATAGCTTGGCTATCTCACTTCCCCTCGTTCTCTTG...</td>\n",
              "      <td>mers-cov</td>\n",
              "    </tr>\n",
              "    <tr>\n",
              "      <th>2</th>\n",
              "      <td>MG987420 |Middle East respiratory syndrome-rel...</td>\n",
              "      <td>GATTTAAGTGAATAGCCTAGCTATCTCACCCCCTCTCGTTCTCTTG...</td>\n",
              "      <td>mers-cov</td>\n",
              "    </tr>\n",
              "    <tr>\n",
              "      <th>3</th>\n",
              "      <td>MG987421 |Middle East respiratory syndrome-rel...</td>\n",
              "      <td>GATTTAAGTGAATAGCCTAGCTATCTCACCCCCTCTCGTTCTCTTG...</td>\n",
              "      <td>mers-cov</td>\n",
              "    </tr>\n",
              "    <tr>\n",
              "      <th>30</th>\n",
              "      <td>MN723544 |Middle East respiratory syndrome-rel...</td>\n",
              "      <td>GATTTAAGTGAATAGCTTGGCTATCTCACTTTCCCTCGTTCTCTTG...</td>\n",
              "      <td>mers-cov</td>\n",
              "    </tr>\n",
              "    <tr>\n",
              "      <th>...</th>\n",
              "      <td>...</td>\n",
              "      <td>...</td>\n",
              "      <td>...</td>\n",
              "    </tr>\n",
              "    <tr>\n",
              "      <th>997</th>\n",
              "      <td>KF186565 |Middle East respiratory syndrome cor...</td>\n",
              "      <td>AACTTTGATTTTAACGAACTTAAATAAAAGCCCTGTTGTTTAGCGT...</td>\n",
              "      <td>mers-cov</td>\n",
              "    </tr>\n",
              "    <tr>\n",
              "      <th>998</th>\n",
              "      <td>KF192507 |Middle East respiratory syndrome cor...</td>\n",
              "      <td>AAGTGAATAGCTTGGCTATCTCACTTCCCCTCGTTCTCTTGCAGAA...</td>\n",
              "      <td>mers-cov</td>\n",
              "    </tr>\n",
              "    <tr>\n",
              "      <th>999</th>\n",
              "      <td>KF186564 |Middle East respiratory syndrome cor...</td>\n",
              "      <td>CGTTCTCCTGCAGAACTTTGATTTTAACGAACTTAAATAAAAGCCC...</td>\n",
              "      <td>mers-cov</td>\n",
              "    </tr>\n",
              "    <tr>\n",
              "      <th>1000</th>\n",
              "      <td>KC776174 |Human betacoronavirus 2c Jordan-N3/2...</td>\n",
              "      <td>CAGAACTTTGATTTTAACGAACTTAAATAAAAGCCCTGTTGTTTAG...</td>\n",
              "      <td>mers-cov</td>\n",
              "    </tr>\n",
              "    <tr>\n",
              "      <th>1001</th>\n",
              "      <td>KC667074 |Human betacoronavirus 2c England-Qat...</td>\n",
              "      <td>GATTTAAGTGAATAGCTTGGCTATCTCACTTCCCCTCGTTCTCTTG...</td>\n",
              "      <td>mers-cov</td>\n",
              "    </tr>\n",
              "  </tbody>\n",
              "</table>\n",
              "<p>537 rows × 3 columns</p>\n",
              "</div>\n",
              "      <button class=\"colab-df-convert\" onclick=\"convertToInteractive('df-5c9e499b-847d-44b5-b3cb-5092569ad4ff')\"\n",
              "              title=\"Convert this dataframe to an interactive table.\"\n",
              "              style=\"display:none;\">\n",
              "\n",
              "  <svg xmlns=\"http://www.w3.org/2000/svg\" height=\"24px\"viewBox=\"0 0 24 24\"\n",
              "       width=\"24px\">\n",
              "    <path d=\"M0 0h24v24H0V0z\" fill=\"none\"/>\n",
              "    <path d=\"M18.56 5.44l.94 2.06.94-2.06 2.06-.94-2.06-.94-.94-2.06-.94 2.06-2.06.94zm-11 1L8.5 8.5l.94-2.06 2.06-.94-2.06-.94L8.5 2.5l-.94 2.06-2.06.94zm10 10l.94 2.06.94-2.06 2.06-.94-2.06-.94-.94-2.06-.94 2.06-2.06.94z\"/><path d=\"M17.41 7.96l-1.37-1.37c-.4-.4-.92-.59-1.43-.59-.52 0-1.04.2-1.43.59L10.3 9.45l-7.72 7.72c-.78.78-.78 2.05 0 2.83L4 21.41c.39.39.9.59 1.41.59.51 0 1.02-.2 1.41-.59l7.78-7.78 2.81-2.81c.8-.78.8-2.07 0-2.86zM5.41 20L4 18.59l7.72-7.72 1.47 1.35L5.41 20z\"/>\n",
              "  </svg>\n",
              "      </button>\n",
              "\n",
              "\n",
              "\n",
              "    <div id=\"df-b38f1dd0-4703-4ae8-9ce4-e434c6d6def4\">\n",
              "      <button class=\"colab-df-quickchart\" onclick=\"quickchart('df-b38f1dd0-4703-4ae8-9ce4-e434c6d6def4')\"\n",
              "              title=\"Suggest charts.\"\n",
              "              style=\"display:none;\">\n",
              "\n",
              "<svg xmlns=\"http://www.w3.org/2000/svg\" height=\"24px\"viewBox=\"0 0 24 24\"\n",
              "     width=\"24px\">\n",
              "    <g>\n",
              "        <path d=\"M19 3H5c-1.1 0-2 .9-2 2v14c0 1.1.9 2 2 2h14c1.1 0 2-.9 2-2V5c0-1.1-.9-2-2-2zM9 17H7v-7h2v7zm4 0h-2V7h2v10zm4 0h-2v-4h2v4z\"/>\n",
              "    </g>\n",
              "</svg>\n",
              "      </button>\n",
              "    </div>\n",
              "\n",
              "<style>\n",
              "  .colab-df-quickchart {\n",
              "    background-color: #E8F0FE;\n",
              "    border: none;\n",
              "    border-radius: 50%;\n",
              "    cursor: pointer;\n",
              "    display: none;\n",
              "    fill: #1967D2;\n",
              "    height: 32px;\n",
              "    padding: 0 0 0 0;\n",
              "    width: 32px;\n",
              "  }\n",
              "\n",
              "  .colab-df-quickchart:hover {\n",
              "    background-color: #E2EBFA;\n",
              "    box-shadow: 0px 1px 2px rgba(60, 64, 67, 0.3), 0px 1px 3px 1px rgba(60, 64, 67, 0.15);\n",
              "    fill: #174EA6;\n",
              "  }\n",
              "\n",
              "  [theme=dark] .colab-df-quickchart {\n",
              "    background-color: #3B4455;\n",
              "    fill: #D2E3FC;\n",
              "  }\n",
              "\n",
              "  [theme=dark] .colab-df-quickchart:hover {\n",
              "    background-color: #434B5C;\n",
              "    box-shadow: 0px 1px 3px 1px rgba(0, 0, 0, 0.15);\n",
              "    filter: drop-shadow(0px 1px 2px rgba(0, 0, 0, 0.3));\n",
              "    fill: #FFFFFF;\n",
              "  }\n",
              "</style>\n",
              "\n",
              "    <script>\n",
              "      async function quickchart(key) {\n",
              "        const containerElement = document.querySelector('#' + key);\n",
              "        const charts = await google.colab.kernel.invokeFunction(\n",
              "            'suggestCharts', [key], {});\n",
              "      }\n",
              "    </script>\n",
              "\n",
              "      <script>\n",
              "\n",
              "function displayQuickchartButton(domScope) {\n",
              "  let quickchartButtonEl =\n",
              "    domScope.querySelector('#df-b38f1dd0-4703-4ae8-9ce4-e434c6d6def4 button.colab-df-quickchart');\n",
              "  quickchartButtonEl.style.display =\n",
              "    google.colab.kernel.accessAllowed ? 'block' : 'none';\n",
              "}\n",
              "\n",
              "        displayQuickchartButton(document);\n",
              "      </script>\n",
              "      <style>\n",
              "    .colab-df-container {\n",
              "      display:flex;\n",
              "      flex-wrap:wrap;\n",
              "      gap: 12px;\n",
              "    }\n",
              "\n",
              "    .colab-df-convert {\n",
              "      background-color: #E8F0FE;\n",
              "      border: none;\n",
              "      border-radius: 50%;\n",
              "      cursor: pointer;\n",
              "      display: none;\n",
              "      fill: #1967D2;\n",
              "      height: 32px;\n",
              "      padding: 0 0 0 0;\n",
              "      width: 32px;\n",
              "    }\n",
              "\n",
              "    .colab-df-convert:hover {\n",
              "      background-color: #E2EBFA;\n",
              "      box-shadow: 0px 1px 2px rgba(60, 64, 67, 0.3), 0px 1px 3px 1px rgba(60, 64, 67, 0.15);\n",
              "      fill: #174EA6;\n",
              "    }\n",
              "\n",
              "    [theme=dark] .colab-df-convert {\n",
              "      background-color: #3B4455;\n",
              "      fill: #D2E3FC;\n",
              "    }\n",
              "\n",
              "    [theme=dark] .colab-df-convert:hover {\n",
              "      background-color: #434B5C;\n",
              "      box-shadow: 0px 1px 3px 1px rgba(0, 0, 0, 0.15);\n",
              "      filter: drop-shadow(0px 1px 2px rgba(0, 0, 0, 0.3));\n",
              "      fill: #FFFFFF;\n",
              "    }\n",
              "  </style>\n",
              "\n",
              "      <script>\n",
              "        const buttonEl =\n",
              "          document.querySelector('#df-5c9e499b-847d-44b5-b3cb-5092569ad4ff button.colab-df-convert');\n",
              "        buttonEl.style.display =\n",
              "          google.colab.kernel.accessAllowed ? 'block' : 'none';\n",
              "\n",
              "        async function convertToInteractive(key) {\n",
              "          const element = document.querySelector('#df-5c9e499b-847d-44b5-b3cb-5092569ad4ff');\n",
              "          const dataTable =\n",
              "            await google.colab.kernel.invokeFunction('convertToInteractive',\n",
              "                                                     [key], {});\n",
              "          if (!dataTable) return;\n",
              "\n",
              "          const docLinkHtml = 'Like what you see? Visit the ' +\n",
              "            '<a target=\"_blank\" href=https://colab.research.google.com/notebooks/data_table.ipynb>data table notebook</a>'\n",
              "            + ' to learn more about interactive tables.';\n",
              "          element.innerHTML = '';\n",
              "          dataTable['output_type'] = 'display_data';\n",
              "          await google.colab.output.renderOutput(dataTable, element);\n",
              "          const docLink = document.createElement('div');\n",
              "          docLink.innerHTML = docLinkHtml;\n",
              "          element.appendChild(docLink);\n",
              "        }\n",
              "      </script>\n",
              "    </div>\n",
              "  </div>\n"
            ]
          },
          "metadata": {},
          "execution_count": 34
        }
      ]
    },
    {
      "cell_type": "code",
      "source": [
        "df_mersCov = df_mersCov.reset_index(drop=True)\n",
        "df_mersCov"
      ],
      "metadata": {
        "id": "5uRlD4QFgxRj",
        "colab": {
          "base_uri": "https://localhost:8080/",
          "height": 423
        },
        "outputId": "a5c8e08c-e007-40fb-b82b-04784dff0860"
      },
      "execution_count": null,
      "outputs": [
        {
          "output_type": "execute_result",
          "data": {
            "text/plain": [
              "                                           Sequence ID  \\\n",
              "0    NC_038294 |Betacoronavirus England 1| complete...   \n",
              "1    NC_019843 |Middle East respiratory syndrome co...   \n",
              "2    MG987420 |Middle East respiratory syndrome-rel...   \n",
              "3    MG987421 |Middle East respiratory syndrome-rel...   \n",
              "4    MN723544 |Middle East respiratory syndrome-rel...   \n",
              "..                                                 ...   \n",
              "532  KF186565 |Middle East respiratory syndrome cor...   \n",
              "533  KF192507 |Middle East respiratory syndrome cor...   \n",
              "534  KF186564 |Middle East respiratory syndrome cor...   \n",
              "535  KC776174 |Human betacoronavirus 2c Jordan-N3/2...   \n",
              "536  KC667074 |Human betacoronavirus 2c England-Qat...   \n",
              "\n",
              "                                              Sequence strain_name  \n",
              "0    ATTTAAGTGAATAGCTTGGCTATCTCACTTCCCCTCGTTCTCTTGC...    mers-cov  \n",
              "1    GATTTAAGTGAATAGCTTGGCTATCTCACTTCCCCTCGTTCTCTTG...    mers-cov  \n",
              "2    GATTTAAGTGAATAGCCTAGCTATCTCACCCCCTCTCGTTCTCTTG...    mers-cov  \n",
              "3    GATTTAAGTGAATAGCCTAGCTATCTCACCCCCTCTCGTTCTCTTG...    mers-cov  \n",
              "4    GATTTAAGTGAATAGCTTGGCTATCTCACTTTCCCTCGTTCTCTTG...    mers-cov  \n",
              "..                                                 ...         ...  \n",
              "532  AACTTTGATTTTAACGAACTTAAATAAAAGCCCTGTTGTTTAGCGT...    mers-cov  \n",
              "533  AAGTGAATAGCTTGGCTATCTCACTTCCCCTCGTTCTCTTGCAGAA...    mers-cov  \n",
              "534  CGTTCTCCTGCAGAACTTTGATTTTAACGAACTTAAATAAAAGCCC...    mers-cov  \n",
              "535  CAGAACTTTGATTTTAACGAACTTAAATAAAAGCCCTGTTGTTTAG...    mers-cov  \n",
              "536  GATTTAAGTGAATAGCTTGGCTATCTCACTTCCCCTCGTTCTCTTG...    mers-cov  \n",
              "\n",
              "[537 rows x 3 columns]"
            ],
            "text/html": [
              "\n",
              "\n",
              "  <div id=\"df-dbb97bc2-08dd-44b1-9ee8-73736cb1d87b\">\n",
              "    <div class=\"colab-df-container\">\n",
              "      <div>\n",
              "<style scoped>\n",
              "    .dataframe tbody tr th:only-of-type {\n",
              "        vertical-align: middle;\n",
              "    }\n",
              "\n",
              "    .dataframe tbody tr th {\n",
              "        vertical-align: top;\n",
              "    }\n",
              "\n",
              "    .dataframe thead th {\n",
              "        text-align: right;\n",
              "    }\n",
              "</style>\n",
              "<table border=\"1\" class=\"dataframe\">\n",
              "  <thead>\n",
              "    <tr style=\"text-align: right;\">\n",
              "      <th></th>\n",
              "      <th>Sequence ID</th>\n",
              "      <th>Sequence</th>\n",
              "      <th>strain_name</th>\n",
              "    </tr>\n",
              "  </thead>\n",
              "  <tbody>\n",
              "    <tr>\n",
              "      <th>0</th>\n",
              "      <td>NC_038294 |Betacoronavirus England 1| complete...</td>\n",
              "      <td>ATTTAAGTGAATAGCTTGGCTATCTCACTTCCCCTCGTTCTCTTGC...</td>\n",
              "      <td>mers-cov</td>\n",
              "    </tr>\n",
              "    <tr>\n",
              "      <th>1</th>\n",
              "      <td>NC_019843 |Middle East respiratory syndrome co...</td>\n",
              "      <td>GATTTAAGTGAATAGCTTGGCTATCTCACTTCCCCTCGTTCTCTTG...</td>\n",
              "      <td>mers-cov</td>\n",
              "    </tr>\n",
              "    <tr>\n",
              "      <th>2</th>\n",
              "      <td>MG987420 |Middle East respiratory syndrome-rel...</td>\n",
              "      <td>GATTTAAGTGAATAGCCTAGCTATCTCACCCCCTCTCGTTCTCTTG...</td>\n",
              "      <td>mers-cov</td>\n",
              "    </tr>\n",
              "    <tr>\n",
              "      <th>3</th>\n",
              "      <td>MG987421 |Middle East respiratory syndrome-rel...</td>\n",
              "      <td>GATTTAAGTGAATAGCCTAGCTATCTCACCCCCTCTCGTTCTCTTG...</td>\n",
              "      <td>mers-cov</td>\n",
              "    </tr>\n",
              "    <tr>\n",
              "      <th>4</th>\n",
              "      <td>MN723544 |Middle East respiratory syndrome-rel...</td>\n",
              "      <td>GATTTAAGTGAATAGCTTGGCTATCTCACTTTCCCTCGTTCTCTTG...</td>\n",
              "      <td>mers-cov</td>\n",
              "    </tr>\n",
              "    <tr>\n",
              "      <th>...</th>\n",
              "      <td>...</td>\n",
              "      <td>...</td>\n",
              "      <td>...</td>\n",
              "    </tr>\n",
              "    <tr>\n",
              "      <th>532</th>\n",
              "      <td>KF186565 |Middle East respiratory syndrome cor...</td>\n",
              "      <td>AACTTTGATTTTAACGAACTTAAATAAAAGCCCTGTTGTTTAGCGT...</td>\n",
              "      <td>mers-cov</td>\n",
              "    </tr>\n",
              "    <tr>\n",
              "      <th>533</th>\n",
              "      <td>KF192507 |Middle East respiratory syndrome cor...</td>\n",
              "      <td>AAGTGAATAGCTTGGCTATCTCACTTCCCCTCGTTCTCTTGCAGAA...</td>\n",
              "      <td>mers-cov</td>\n",
              "    </tr>\n",
              "    <tr>\n",
              "      <th>534</th>\n",
              "      <td>KF186564 |Middle East respiratory syndrome cor...</td>\n",
              "      <td>CGTTCTCCTGCAGAACTTTGATTTTAACGAACTTAAATAAAAGCCC...</td>\n",
              "      <td>mers-cov</td>\n",
              "    </tr>\n",
              "    <tr>\n",
              "      <th>535</th>\n",
              "      <td>KC776174 |Human betacoronavirus 2c Jordan-N3/2...</td>\n",
              "      <td>CAGAACTTTGATTTTAACGAACTTAAATAAAAGCCCTGTTGTTTAG...</td>\n",
              "      <td>mers-cov</td>\n",
              "    </tr>\n",
              "    <tr>\n",
              "      <th>536</th>\n",
              "      <td>KC667074 |Human betacoronavirus 2c England-Qat...</td>\n",
              "      <td>GATTTAAGTGAATAGCTTGGCTATCTCACTTCCCCTCGTTCTCTTG...</td>\n",
              "      <td>mers-cov</td>\n",
              "    </tr>\n",
              "  </tbody>\n",
              "</table>\n",
              "<p>537 rows × 3 columns</p>\n",
              "</div>\n",
              "      <button class=\"colab-df-convert\" onclick=\"convertToInteractive('df-dbb97bc2-08dd-44b1-9ee8-73736cb1d87b')\"\n",
              "              title=\"Convert this dataframe to an interactive table.\"\n",
              "              style=\"display:none;\">\n",
              "\n",
              "  <svg xmlns=\"http://www.w3.org/2000/svg\" height=\"24px\"viewBox=\"0 0 24 24\"\n",
              "       width=\"24px\">\n",
              "    <path d=\"M0 0h24v24H0V0z\" fill=\"none\"/>\n",
              "    <path d=\"M18.56 5.44l.94 2.06.94-2.06 2.06-.94-2.06-.94-.94-2.06-.94 2.06-2.06.94zm-11 1L8.5 8.5l.94-2.06 2.06-.94-2.06-.94L8.5 2.5l-.94 2.06-2.06.94zm10 10l.94 2.06.94-2.06 2.06-.94-2.06-.94-.94-2.06-.94 2.06-2.06.94z\"/><path d=\"M17.41 7.96l-1.37-1.37c-.4-.4-.92-.59-1.43-.59-.52 0-1.04.2-1.43.59L10.3 9.45l-7.72 7.72c-.78.78-.78 2.05 0 2.83L4 21.41c.39.39.9.59 1.41.59.51 0 1.02-.2 1.41-.59l7.78-7.78 2.81-2.81c.8-.78.8-2.07 0-2.86zM5.41 20L4 18.59l7.72-7.72 1.47 1.35L5.41 20z\"/>\n",
              "  </svg>\n",
              "      </button>\n",
              "\n",
              "\n",
              "\n",
              "    <div id=\"df-4c8af39e-fa41-43d7-9e1f-e3c7cf1d6524\">\n",
              "      <button class=\"colab-df-quickchart\" onclick=\"quickchart('df-4c8af39e-fa41-43d7-9e1f-e3c7cf1d6524')\"\n",
              "              title=\"Suggest charts.\"\n",
              "              style=\"display:none;\">\n",
              "\n",
              "<svg xmlns=\"http://www.w3.org/2000/svg\" height=\"24px\"viewBox=\"0 0 24 24\"\n",
              "     width=\"24px\">\n",
              "    <g>\n",
              "        <path d=\"M19 3H5c-1.1 0-2 .9-2 2v14c0 1.1.9 2 2 2h14c1.1 0 2-.9 2-2V5c0-1.1-.9-2-2-2zM9 17H7v-7h2v7zm4 0h-2V7h2v10zm4 0h-2v-4h2v4z\"/>\n",
              "    </g>\n",
              "</svg>\n",
              "      </button>\n",
              "    </div>\n",
              "\n",
              "<style>\n",
              "  .colab-df-quickchart {\n",
              "    background-color: #E8F0FE;\n",
              "    border: none;\n",
              "    border-radius: 50%;\n",
              "    cursor: pointer;\n",
              "    display: none;\n",
              "    fill: #1967D2;\n",
              "    height: 32px;\n",
              "    padding: 0 0 0 0;\n",
              "    width: 32px;\n",
              "  }\n",
              "\n",
              "  .colab-df-quickchart:hover {\n",
              "    background-color: #E2EBFA;\n",
              "    box-shadow: 0px 1px 2px rgba(60, 64, 67, 0.3), 0px 1px 3px 1px rgba(60, 64, 67, 0.15);\n",
              "    fill: #174EA6;\n",
              "  }\n",
              "\n",
              "  [theme=dark] .colab-df-quickchart {\n",
              "    background-color: #3B4455;\n",
              "    fill: #D2E3FC;\n",
              "  }\n",
              "\n",
              "  [theme=dark] .colab-df-quickchart:hover {\n",
              "    background-color: #434B5C;\n",
              "    box-shadow: 0px 1px 3px 1px rgba(0, 0, 0, 0.15);\n",
              "    filter: drop-shadow(0px 1px 2px rgba(0, 0, 0, 0.3));\n",
              "    fill: #FFFFFF;\n",
              "  }\n",
              "</style>\n",
              "\n",
              "    <script>\n",
              "      async function quickchart(key) {\n",
              "        const containerElement = document.querySelector('#' + key);\n",
              "        const charts = await google.colab.kernel.invokeFunction(\n",
              "            'suggestCharts', [key], {});\n",
              "      }\n",
              "    </script>\n",
              "\n",
              "      <script>\n",
              "\n",
              "function displayQuickchartButton(domScope) {\n",
              "  let quickchartButtonEl =\n",
              "    domScope.querySelector('#df-4c8af39e-fa41-43d7-9e1f-e3c7cf1d6524 button.colab-df-quickchart');\n",
              "  quickchartButtonEl.style.display =\n",
              "    google.colab.kernel.accessAllowed ? 'block' : 'none';\n",
              "}\n",
              "\n",
              "        displayQuickchartButton(document);\n",
              "      </script>\n",
              "      <style>\n",
              "    .colab-df-container {\n",
              "      display:flex;\n",
              "      flex-wrap:wrap;\n",
              "      gap: 12px;\n",
              "    }\n",
              "\n",
              "    .colab-df-convert {\n",
              "      background-color: #E8F0FE;\n",
              "      border: none;\n",
              "      border-radius: 50%;\n",
              "      cursor: pointer;\n",
              "      display: none;\n",
              "      fill: #1967D2;\n",
              "      height: 32px;\n",
              "      padding: 0 0 0 0;\n",
              "      width: 32px;\n",
              "    }\n",
              "\n",
              "    .colab-df-convert:hover {\n",
              "      background-color: #E2EBFA;\n",
              "      box-shadow: 0px 1px 2px rgba(60, 64, 67, 0.3), 0px 1px 3px 1px rgba(60, 64, 67, 0.15);\n",
              "      fill: #174EA6;\n",
              "    }\n",
              "\n",
              "    [theme=dark] .colab-df-convert {\n",
              "      background-color: #3B4455;\n",
              "      fill: #D2E3FC;\n",
              "    }\n",
              "\n",
              "    [theme=dark] .colab-df-convert:hover {\n",
              "      background-color: #434B5C;\n",
              "      box-shadow: 0px 1px 3px 1px rgba(0, 0, 0, 0.15);\n",
              "      filter: drop-shadow(0px 1px 2px rgba(0, 0, 0, 0.3));\n",
              "      fill: #FFFFFF;\n",
              "    }\n",
              "  </style>\n",
              "\n",
              "      <script>\n",
              "        const buttonEl =\n",
              "          document.querySelector('#df-dbb97bc2-08dd-44b1-9ee8-73736cb1d87b button.colab-df-convert');\n",
              "        buttonEl.style.display =\n",
              "          google.colab.kernel.accessAllowed ? 'block' : 'none';\n",
              "\n",
              "        async function convertToInteractive(key) {\n",
              "          const element = document.querySelector('#df-dbb97bc2-08dd-44b1-9ee8-73736cb1d87b');\n",
              "          const dataTable =\n",
              "            await google.colab.kernel.invokeFunction('convertToInteractive',\n",
              "                                                     [key], {});\n",
              "          if (!dataTable) return;\n",
              "\n",
              "          const docLinkHtml = 'Like what you see? Visit the ' +\n",
              "            '<a target=\"_blank\" href=https://colab.research.google.com/notebooks/data_table.ipynb>data table notebook</a>'\n",
              "            + ' to learn more about interactive tables.';\n",
              "          element.innerHTML = '';\n",
              "          dataTable['output_type'] = 'display_data';\n",
              "          await google.colab.output.renderOutput(dataTable, element);\n",
              "          const docLink = document.createElement('div');\n",
              "          docLink.innerHTML = docLinkHtml;\n",
              "          element.appendChild(docLink);\n",
              "        }\n",
              "      </script>\n",
              "    </div>\n",
              "  </div>\n"
            ]
          },
          "metadata": {},
          "execution_count": 35
        }
      ]
    },
    {
      "cell_type": "code",
      "source": [
        "## Labeling 'MERS-CoV' as 1\n",
        "df_mersCov['label'] = 1\n",
        "df_mersCov.head(2)"
      ],
      "metadata": {
        "colab": {
          "base_uri": "https://localhost:8080/",
          "height": 112
        },
        "id": "F0jpq8H4g19-",
        "outputId": "eae7a7e0-e10a-476d-9d32-913d532de23d"
      },
      "execution_count": null,
      "outputs": [
        {
          "output_type": "execute_result",
          "data": {
            "text/plain": [
              "                                         Sequence ID  \\\n",
              "0  NC_038294 |Betacoronavirus England 1| complete...   \n",
              "1  NC_019843 |Middle East respiratory syndrome co...   \n",
              "\n",
              "                                            Sequence strain_name  label  \n",
              "0  ATTTAAGTGAATAGCTTGGCTATCTCACTTCCCCTCGTTCTCTTGC...    mers-cov      1  \n",
              "1  GATTTAAGTGAATAGCTTGGCTATCTCACTTCCCCTCGTTCTCTTG...    mers-cov      1  "
            ],
            "text/html": [
              "\n",
              "\n",
              "  <div id=\"df-d90e05d1-337d-4963-8f97-f5622a8a6bfe\">\n",
              "    <div class=\"colab-df-container\">\n",
              "      <div>\n",
              "<style scoped>\n",
              "    .dataframe tbody tr th:only-of-type {\n",
              "        vertical-align: middle;\n",
              "    }\n",
              "\n",
              "    .dataframe tbody tr th {\n",
              "        vertical-align: top;\n",
              "    }\n",
              "\n",
              "    .dataframe thead th {\n",
              "        text-align: right;\n",
              "    }\n",
              "</style>\n",
              "<table border=\"1\" class=\"dataframe\">\n",
              "  <thead>\n",
              "    <tr style=\"text-align: right;\">\n",
              "      <th></th>\n",
              "      <th>Sequence ID</th>\n",
              "      <th>Sequence</th>\n",
              "      <th>strain_name</th>\n",
              "      <th>label</th>\n",
              "    </tr>\n",
              "  </thead>\n",
              "  <tbody>\n",
              "    <tr>\n",
              "      <th>0</th>\n",
              "      <td>NC_038294 |Betacoronavirus England 1| complete...</td>\n",
              "      <td>ATTTAAGTGAATAGCTTGGCTATCTCACTTCCCCTCGTTCTCTTGC...</td>\n",
              "      <td>mers-cov</td>\n",
              "      <td>1</td>\n",
              "    </tr>\n",
              "    <tr>\n",
              "      <th>1</th>\n",
              "      <td>NC_019843 |Middle East respiratory syndrome co...</td>\n",
              "      <td>GATTTAAGTGAATAGCTTGGCTATCTCACTTCCCCTCGTTCTCTTG...</td>\n",
              "      <td>mers-cov</td>\n",
              "      <td>1</td>\n",
              "    </tr>\n",
              "  </tbody>\n",
              "</table>\n",
              "</div>\n",
              "      <button class=\"colab-df-convert\" onclick=\"convertToInteractive('df-d90e05d1-337d-4963-8f97-f5622a8a6bfe')\"\n",
              "              title=\"Convert this dataframe to an interactive table.\"\n",
              "              style=\"display:none;\">\n",
              "\n",
              "  <svg xmlns=\"http://www.w3.org/2000/svg\" height=\"24px\"viewBox=\"0 0 24 24\"\n",
              "       width=\"24px\">\n",
              "    <path d=\"M0 0h24v24H0V0z\" fill=\"none\"/>\n",
              "    <path d=\"M18.56 5.44l.94 2.06.94-2.06 2.06-.94-2.06-.94-.94-2.06-.94 2.06-2.06.94zm-11 1L8.5 8.5l.94-2.06 2.06-.94-2.06-.94L8.5 2.5l-.94 2.06-2.06.94zm10 10l.94 2.06.94-2.06 2.06-.94-2.06-.94-.94-2.06-.94 2.06-2.06.94z\"/><path d=\"M17.41 7.96l-1.37-1.37c-.4-.4-.92-.59-1.43-.59-.52 0-1.04.2-1.43.59L10.3 9.45l-7.72 7.72c-.78.78-.78 2.05 0 2.83L4 21.41c.39.39.9.59 1.41.59.51 0 1.02-.2 1.41-.59l7.78-7.78 2.81-2.81c.8-.78.8-2.07 0-2.86zM5.41 20L4 18.59l7.72-7.72 1.47 1.35L5.41 20z\"/>\n",
              "  </svg>\n",
              "      </button>\n",
              "\n",
              "\n",
              "\n",
              "    <div id=\"df-dcb27dc4-9001-431e-97cd-8d3a444cb8d5\">\n",
              "      <button class=\"colab-df-quickchart\" onclick=\"quickchart('df-dcb27dc4-9001-431e-97cd-8d3a444cb8d5')\"\n",
              "              title=\"Suggest charts.\"\n",
              "              style=\"display:none;\">\n",
              "\n",
              "<svg xmlns=\"http://www.w3.org/2000/svg\" height=\"24px\"viewBox=\"0 0 24 24\"\n",
              "     width=\"24px\">\n",
              "    <g>\n",
              "        <path d=\"M19 3H5c-1.1 0-2 .9-2 2v14c0 1.1.9 2 2 2h14c1.1 0 2-.9 2-2V5c0-1.1-.9-2-2-2zM9 17H7v-7h2v7zm4 0h-2V7h2v10zm4 0h-2v-4h2v4z\"/>\n",
              "    </g>\n",
              "</svg>\n",
              "      </button>\n",
              "    </div>\n",
              "\n",
              "<style>\n",
              "  .colab-df-quickchart {\n",
              "    background-color: #E8F0FE;\n",
              "    border: none;\n",
              "    border-radius: 50%;\n",
              "    cursor: pointer;\n",
              "    display: none;\n",
              "    fill: #1967D2;\n",
              "    height: 32px;\n",
              "    padding: 0 0 0 0;\n",
              "    width: 32px;\n",
              "  }\n",
              "\n",
              "  .colab-df-quickchart:hover {\n",
              "    background-color: #E2EBFA;\n",
              "    box-shadow: 0px 1px 2px rgba(60, 64, 67, 0.3), 0px 1px 3px 1px rgba(60, 64, 67, 0.15);\n",
              "    fill: #174EA6;\n",
              "  }\n",
              "\n",
              "  [theme=dark] .colab-df-quickchart {\n",
              "    background-color: #3B4455;\n",
              "    fill: #D2E3FC;\n",
              "  }\n",
              "\n",
              "  [theme=dark] .colab-df-quickchart:hover {\n",
              "    background-color: #434B5C;\n",
              "    box-shadow: 0px 1px 3px 1px rgba(0, 0, 0, 0.15);\n",
              "    filter: drop-shadow(0px 1px 2px rgba(0, 0, 0, 0.3));\n",
              "    fill: #FFFFFF;\n",
              "  }\n",
              "</style>\n",
              "\n",
              "    <script>\n",
              "      async function quickchart(key) {\n",
              "        const containerElement = document.querySelector('#' + key);\n",
              "        const charts = await google.colab.kernel.invokeFunction(\n",
              "            'suggestCharts', [key], {});\n",
              "      }\n",
              "    </script>\n",
              "\n",
              "      <script>\n",
              "\n",
              "function displayQuickchartButton(domScope) {\n",
              "  let quickchartButtonEl =\n",
              "    domScope.querySelector('#df-dcb27dc4-9001-431e-97cd-8d3a444cb8d5 button.colab-df-quickchart');\n",
              "  quickchartButtonEl.style.display =\n",
              "    google.colab.kernel.accessAllowed ? 'block' : 'none';\n",
              "}\n",
              "\n",
              "        displayQuickchartButton(document);\n",
              "      </script>\n",
              "      <style>\n",
              "    .colab-df-container {\n",
              "      display:flex;\n",
              "      flex-wrap:wrap;\n",
              "      gap: 12px;\n",
              "    }\n",
              "\n",
              "    .colab-df-convert {\n",
              "      background-color: #E8F0FE;\n",
              "      border: none;\n",
              "      border-radius: 50%;\n",
              "      cursor: pointer;\n",
              "      display: none;\n",
              "      fill: #1967D2;\n",
              "      height: 32px;\n",
              "      padding: 0 0 0 0;\n",
              "      width: 32px;\n",
              "    }\n",
              "\n",
              "    .colab-df-convert:hover {\n",
              "      background-color: #E2EBFA;\n",
              "      box-shadow: 0px 1px 2px rgba(60, 64, 67, 0.3), 0px 1px 3px 1px rgba(60, 64, 67, 0.15);\n",
              "      fill: #174EA6;\n",
              "    }\n",
              "\n",
              "    [theme=dark] .colab-df-convert {\n",
              "      background-color: #3B4455;\n",
              "      fill: #D2E3FC;\n",
              "    }\n",
              "\n",
              "    [theme=dark] .colab-df-convert:hover {\n",
              "      background-color: #434B5C;\n",
              "      box-shadow: 0px 1px 3px 1px rgba(0, 0, 0, 0.15);\n",
              "      filter: drop-shadow(0px 1px 2px rgba(0, 0, 0, 0.3));\n",
              "      fill: #FFFFFF;\n",
              "    }\n",
              "  </style>\n",
              "\n",
              "      <script>\n",
              "        const buttonEl =\n",
              "          document.querySelector('#df-d90e05d1-337d-4963-8f97-f5622a8a6bfe button.colab-df-convert');\n",
              "        buttonEl.style.display =\n",
              "          google.colab.kernel.accessAllowed ? 'block' : 'none';\n",
              "\n",
              "        async function convertToInteractive(key) {\n",
              "          const element = document.querySelector('#df-d90e05d1-337d-4963-8f97-f5622a8a6bfe');\n",
              "          const dataTable =\n",
              "            await google.colab.kernel.invokeFunction('convertToInteractive',\n",
              "                                                     [key], {});\n",
              "          if (!dataTable) return;\n",
              "\n",
              "          const docLinkHtml = 'Like what you see? Visit the ' +\n",
              "            '<a target=\"_blank\" href=https://colab.research.google.com/notebooks/data_table.ipynb>data table notebook</a>'\n",
              "            + ' to learn more about interactive tables.';\n",
              "          element.innerHTML = '';\n",
              "          dataTable['output_type'] = 'display_data';\n",
              "          await google.colab.output.renderOutput(dataTable, element);\n",
              "          const docLink = document.createElement('div');\n",
              "          docLink.innerHTML = docLinkHtml;\n",
              "          element.appendChild(docLink);\n",
              "        }\n",
              "      </script>\n",
              "    </div>\n",
              "  </div>\n"
            ]
          },
          "metadata": {},
          "execution_count": 37
        }
      ]
    },
    {
      "cell_type": "markdown",
      "source": [
        "## Working with HCoV-OC43 Genome Sequences"
      ],
      "metadata": {
        "id": "GC3OLAH1g5zx"
      }
    },
    {
      "cell_type": "code",
      "source": [
        "convert_fasta_to_csv(datapath + 'HCoV-OC43.fasta','hcov_oc43.csv')"
      ],
      "metadata": {
        "colab": {
          "base_uri": "https://localhost:8080/"
        },
        "id": "w64Wj-qshVqL",
        "outputId": "4dc1cf25-4218-4176-f6c4-83c465c982cc"
      },
      "execution_count": null,
      "outputs": [
        {
          "output_type": "stream",
          "name": "stdout",
          "text": [
            "Conversion complete. CSV file saved as hcov_oc43.csv.\n"
          ]
        }
      ]
    },
    {
      "cell_type": "code",
      "source": [
        "df_hCov_oc43 = pd.read_csv('hcov_oc43.csv')\n",
        "df_hCov_oc43['strain_name'] = 'hcov-OC43'\n",
        "df_hCov_oc43.head()"
      ],
      "metadata": {
        "colab": {
          "base_uri": "https://localhost:8080/",
          "height": 206
        },
        "id": "0Q6HyWwvhd5u",
        "outputId": "fb7c933a-b777-4860-9bca-e39df50e0a75"
      },
      "execution_count": null,
      "outputs": [
        {
          "output_type": "execute_result",
          "data": {
            "text/plain": [
              "                                         Sequence ID  \\\n",
              "0  NC_006213.1 |Human coronavirus OC43 strain ATC...   \n",
              "1  OQ828657.1 |Human coronavirus OC43 isolate HCo...   \n",
              "2  LC756669.1 |Human coronavirus OC43 HCoVOC43_Fu...   \n",
              "3  LC756670.1 |Human coronavirus OC43 HCoVOC43_Fu...   \n",
              "4  ON461794.1 |Human coronavirus OC43 isolate OC4...   \n",
              "\n",
              "                                            Sequence strain_name  \n",
              "0  ATTGTGAGCGATTTGCGTGCGTGCATCCCGCTTCACTGATCTCTTG...   hcov-OC43  \n",
              "1  GCTTTCAGCCAGGGACGTGTTGTATCCTAGGCAGTGGCCCTCCCAT...   hcov-OC43  \n",
              "2  ATTTGCGTGCGTGCATCCCGCTTCACTGATCTCTTGTTAGATCTTT...   hcov-OC43  \n",
              "3  ATTTGCGTGCGTGCATCCCGCTTCACTGATCTCTTGTTAGATCTTT...   hcov-OC43  \n",
              "4  GCGTGCATCCCGCTTCACTGATCTCTTGTTAGATCTTTTTGTAATC...   hcov-OC43  "
            ],
            "text/html": [
              "\n",
              "\n",
              "  <div id=\"df-a4a5f5e4-946a-429d-bc87-74771df16c01\">\n",
              "    <div class=\"colab-df-container\">\n",
              "      <div>\n",
              "<style scoped>\n",
              "    .dataframe tbody tr th:only-of-type {\n",
              "        vertical-align: middle;\n",
              "    }\n",
              "\n",
              "    .dataframe tbody tr th {\n",
              "        vertical-align: top;\n",
              "    }\n",
              "\n",
              "    .dataframe thead th {\n",
              "        text-align: right;\n",
              "    }\n",
              "</style>\n",
              "<table border=\"1\" class=\"dataframe\">\n",
              "  <thead>\n",
              "    <tr style=\"text-align: right;\">\n",
              "      <th></th>\n",
              "      <th>Sequence ID</th>\n",
              "      <th>Sequence</th>\n",
              "      <th>strain_name</th>\n",
              "    </tr>\n",
              "  </thead>\n",
              "  <tbody>\n",
              "    <tr>\n",
              "      <th>0</th>\n",
              "      <td>NC_006213.1 |Human coronavirus OC43 strain ATC...</td>\n",
              "      <td>ATTGTGAGCGATTTGCGTGCGTGCATCCCGCTTCACTGATCTCTTG...</td>\n",
              "      <td>hcov-OC43</td>\n",
              "    </tr>\n",
              "    <tr>\n",
              "      <th>1</th>\n",
              "      <td>OQ828657.1 |Human coronavirus OC43 isolate HCo...</td>\n",
              "      <td>GCTTTCAGCCAGGGACGTGTTGTATCCTAGGCAGTGGCCCTCCCAT...</td>\n",
              "      <td>hcov-OC43</td>\n",
              "    </tr>\n",
              "    <tr>\n",
              "      <th>2</th>\n",
              "      <td>LC756669.1 |Human coronavirus OC43 HCoVOC43_Fu...</td>\n",
              "      <td>ATTTGCGTGCGTGCATCCCGCTTCACTGATCTCTTGTTAGATCTTT...</td>\n",
              "      <td>hcov-OC43</td>\n",
              "    </tr>\n",
              "    <tr>\n",
              "      <th>3</th>\n",
              "      <td>LC756670.1 |Human coronavirus OC43 HCoVOC43_Fu...</td>\n",
              "      <td>ATTTGCGTGCGTGCATCCCGCTTCACTGATCTCTTGTTAGATCTTT...</td>\n",
              "      <td>hcov-OC43</td>\n",
              "    </tr>\n",
              "    <tr>\n",
              "      <th>4</th>\n",
              "      <td>ON461794.1 |Human coronavirus OC43 isolate OC4...</td>\n",
              "      <td>GCGTGCATCCCGCTTCACTGATCTCTTGTTAGATCTTTTTGTAATC...</td>\n",
              "      <td>hcov-OC43</td>\n",
              "    </tr>\n",
              "  </tbody>\n",
              "</table>\n",
              "</div>\n",
              "      <button class=\"colab-df-convert\" onclick=\"convertToInteractive('df-a4a5f5e4-946a-429d-bc87-74771df16c01')\"\n",
              "              title=\"Convert this dataframe to an interactive table.\"\n",
              "              style=\"display:none;\">\n",
              "\n",
              "  <svg xmlns=\"http://www.w3.org/2000/svg\" height=\"24px\"viewBox=\"0 0 24 24\"\n",
              "       width=\"24px\">\n",
              "    <path d=\"M0 0h24v24H0V0z\" fill=\"none\"/>\n",
              "    <path d=\"M18.56 5.44l.94 2.06.94-2.06 2.06-.94-2.06-.94-.94-2.06-.94 2.06-2.06.94zm-11 1L8.5 8.5l.94-2.06 2.06-.94-2.06-.94L8.5 2.5l-.94 2.06-2.06.94zm10 10l.94 2.06.94-2.06 2.06-.94-2.06-.94-.94-2.06-.94 2.06-2.06.94z\"/><path d=\"M17.41 7.96l-1.37-1.37c-.4-.4-.92-.59-1.43-.59-.52 0-1.04.2-1.43.59L10.3 9.45l-7.72 7.72c-.78.78-.78 2.05 0 2.83L4 21.41c.39.39.9.59 1.41.59.51 0 1.02-.2 1.41-.59l7.78-7.78 2.81-2.81c.8-.78.8-2.07 0-2.86zM5.41 20L4 18.59l7.72-7.72 1.47 1.35L5.41 20z\"/>\n",
              "  </svg>\n",
              "      </button>\n",
              "\n",
              "\n",
              "\n",
              "    <div id=\"df-4f15ed30-7c6c-4dfb-99ca-1aa0c5be1a1d\">\n",
              "      <button class=\"colab-df-quickchart\" onclick=\"quickchart('df-4f15ed30-7c6c-4dfb-99ca-1aa0c5be1a1d')\"\n",
              "              title=\"Suggest charts.\"\n",
              "              style=\"display:none;\">\n",
              "\n",
              "<svg xmlns=\"http://www.w3.org/2000/svg\" height=\"24px\"viewBox=\"0 0 24 24\"\n",
              "     width=\"24px\">\n",
              "    <g>\n",
              "        <path d=\"M19 3H5c-1.1 0-2 .9-2 2v14c0 1.1.9 2 2 2h14c1.1 0 2-.9 2-2V5c0-1.1-.9-2-2-2zM9 17H7v-7h2v7zm4 0h-2V7h2v10zm4 0h-2v-4h2v4z\"/>\n",
              "    </g>\n",
              "</svg>\n",
              "      </button>\n",
              "    </div>\n",
              "\n",
              "<style>\n",
              "  .colab-df-quickchart {\n",
              "    background-color: #E8F0FE;\n",
              "    border: none;\n",
              "    border-radius: 50%;\n",
              "    cursor: pointer;\n",
              "    display: none;\n",
              "    fill: #1967D2;\n",
              "    height: 32px;\n",
              "    padding: 0 0 0 0;\n",
              "    width: 32px;\n",
              "  }\n",
              "\n",
              "  .colab-df-quickchart:hover {\n",
              "    background-color: #E2EBFA;\n",
              "    box-shadow: 0px 1px 2px rgba(60, 64, 67, 0.3), 0px 1px 3px 1px rgba(60, 64, 67, 0.15);\n",
              "    fill: #174EA6;\n",
              "  }\n",
              "\n",
              "  [theme=dark] .colab-df-quickchart {\n",
              "    background-color: #3B4455;\n",
              "    fill: #D2E3FC;\n",
              "  }\n",
              "\n",
              "  [theme=dark] .colab-df-quickchart:hover {\n",
              "    background-color: #434B5C;\n",
              "    box-shadow: 0px 1px 3px 1px rgba(0, 0, 0, 0.15);\n",
              "    filter: drop-shadow(0px 1px 2px rgba(0, 0, 0, 0.3));\n",
              "    fill: #FFFFFF;\n",
              "  }\n",
              "</style>\n",
              "\n",
              "    <script>\n",
              "      async function quickchart(key) {\n",
              "        const containerElement = document.querySelector('#' + key);\n",
              "        const charts = await google.colab.kernel.invokeFunction(\n",
              "            'suggestCharts', [key], {});\n",
              "      }\n",
              "    </script>\n",
              "\n",
              "      <script>\n",
              "\n",
              "function displayQuickchartButton(domScope) {\n",
              "  let quickchartButtonEl =\n",
              "    domScope.querySelector('#df-4f15ed30-7c6c-4dfb-99ca-1aa0c5be1a1d button.colab-df-quickchart');\n",
              "  quickchartButtonEl.style.display =\n",
              "    google.colab.kernel.accessAllowed ? 'block' : 'none';\n",
              "}\n",
              "\n",
              "        displayQuickchartButton(document);\n",
              "      </script>\n",
              "      <style>\n",
              "    .colab-df-container {\n",
              "      display:flex;\n",
              "      flex-wrap:wrap;\n",
              "      gap: 12px;\n",
              "    }\n",
              "\n",
              "    .colab-df-convert {\n",
              "      background-color: #E8F0FE;\n",
              "      border: none;\n",
              "      border-radius: 50%;\n",
              "      cursor: pointer;\n",
              "      display: none;\n",
              "      fill: #1967D2;\n",
              "      height: 32px;\n",
              "      padding: 0 0 0 0;\n",
              "      width: 32px;\n",
              "    }\n",
              "\n",
              "    .colab-df-convert:hover {\n",
              "      background-color: #E2EBFA;\n",
              "      box-shadow: 0px 1px 2px rgba(60, 64, 67, 0.3), 0px 1px 3px 1px rgba(60, 64, 67, 0.15);\n",
              "      fill: #174EA6;\n",
              "    }\n",
              "\n",
              "    [theme=dark] .colab-df-convert {\n",
              "      background-color: #3B4455;\n",
              "      fill: #D2E3FC;\n",
              "    }\n",
              "\n",
              "    [theme=dark] .colab-df-convert:hover {\n",
              "      background-color: #434B5C;\n",
              "      box-shadow: 0px 1px 3px 1px rgba(0, 0, 0, 0.15);\n",
              "      filter: drop-shadow(0px 1px 2px rgba(0, 0, 0, 0.3));\n",
              "      fill: #FFFFFF;\n",
              "    }\n",
              "  </style>\n",
              "\n",
              "      <script>\n",
              "        const buttonEl =\n",
              "          document.querySelector('#df-a4a5f5e4-946a-429d-bc87-74771df16c01 button.colab-df-convert');\n",
              "        buttonEl.style.display =\n",
              "          google.colab.kernel.accessAllowed ? 'block' : 'none';\n",
              "\n",
              "        async function convertToInteractive(key) {\n",
              "          const element = document.querySelector('#df-a4a5f5e4-946a-429d-bc87-74771df16c01');\n",
              "          const dataTable =\n",
              "            await google.colab.kernel.invokeFunction('convertToInteractive',\n",
              "                                                     [key], {});\n",
              "          if (!dataTable) return;\n",
              "\n",
              "          const docLinkHtml = 'Like what you see? Visit the ' +\n",
              "            '<a target=\"_blank\" href=https://colab.research.google.com/notebooks/data_table.ipynb>data table notebook</a>'\n",
              "            + ' to learn more about interactive tables.';\n",
              "          element.innerHTML = '';\n",
              "          dataTable['output_type'] = 'display_data';\n",
              "          await google.colab.output.renderOutput(dataTable, element);\n",
              "          const docLink = document.createElement('div');\n",
              "          docLink.innerHTML = docLinkHtml;\n",
              "          element.appendChild(docLink);\n",
              "        }\n",
              "      </script>\n",
              "    </div>\n",
              "  </div>\n"
            ]
          },
          "metadata": {},
          "execution_count": 39
        }
      ]
    },
    {
      "cell_type": "code",
      "source": [
        "df_hCov_oc43.shape"
      ],
      "metadata": {
        "colab": {
          "base_uri": "https://localhost:8080/"
        },
        "id": "NP5epT9XhnzU",
        "outputId": "8ca0c9b2-9130-4435-9807-ff2f51bd2365"
      },
      "execution_count": null,
      "outputs": [
        {
          "output_type": "execute_result",
          "data": {
            "text/plain": [
              "(200, 3)"
            ]
          },
          "metadata": {},
          "execution_count": 40
        }
      ]
    },
    {
      "cell_type": "code",
      "source": [
        "max_len_hCov_oc43 = maxSeq_length(df_hCov_oc43['Sequence'])\n",
        "max_len_hCov_oc43"
      ],
      "metadata": {
        "colab": {
          "base_uri": "https://localhost:8080/"
        },
        "id": "Z1VBKm34hqKW",
        "outputId": "0e18c9c1-b685-40b5-eb7b-153d89e05fd9"
      },
      "execution_count": null,
      "outputs": [
        {
          "output_type": "execute_result",
          "data": {
            "text/plain": [
              "31104"
            ]
          },
          "metadata": {},
          "execution_count": 42
        }
      ]
    },
    {
      "cell_type": "code",
      "source": [
        "min_len_hCov_oc43 = minSeq_length(df_hCov_oc43['Sequence'])\n",
        "min_len_hCov_oc43"
      ],
      "metadata": {
        "colab": {
          "base_uri": "https://localhost:8080/"
        },
        "id": "oeXgRTMrhr6R",
        "outputId": "34fe7d3f-b23b-4435-9989-447c69258b7f"
      },
      "execution_count": null,
      "outputs": [
        {
          "output_type": "execute_result",
          "data": {
            "text/plain": [
              "123"
            ]
          },
          "metadata": {},
          "execution_count": 43
        }
      ]
    },
    {
      "cell_type": "code",
      "source": [
        "df_hCov_oc43 = df_hCov_oc43[(df_hCov_oc43['Sequence'].str.len() > 25000)]\n",
        "df_hCov_oc43.shape"
      ],
      "metadata": {
        "colab": {
          "base_uri": "https://localhost:8080/"
        },
        "id": "CQh1dSyZhtmy",
        "outputId": "9f9388a0-b4f0-4312-fa96-ca822a56c9b3"
      },
      "execution_count": null,
      "outputs": [
        {
          "output_type": "execute_result",
          "data": {
            "text/plain": [
              "(117, 3)"
            ]
          },
          "metadata": {},
          "execution_count": 44
        }
      ]
    },
    {
      "cell_type": "code",
      "source": [
        "## Labeling 'hcov-OC43' as '2'\n",
        "df_hCov_oc43['label'] = 2\n",
        "df_hCov_oc43.head()"
      ],
      "metadata": {
        "colab": {
          "base_uri": "https://localhost:8080/",
          "height": 206
        },
        "id": "ympPUyhVhvpM",
        "outputId": "9085faa4-93d7-46cd-8f8b-fe7d28df1879"
      },
      "execution_count": null,
      "outputs": [
        {
          "output_type": "execute_result",
          "data": {
            "text/plain": [
              "                                         Sequence ID  \\\n",
              "0  NC_006213.1 |Human coronavirus OC43 strain ATC...   \n",
              "1  OQ828657.1 |Human coronavirus OC43 isolate HCo...   \n",
              "2  LC756669.1 |Human coronavirus OC43 HCoVOC43_Fu...   \n",
              "3  LC756670.1 |Human coronavirus OC43 HCoVOC43_Fu...   \n",
              "4  ON461794.1 |Human coronavirus OC43 isolate OC4...   \n",
              "\n",
              "                                            Sequence strain_name  label  \n",
              "0  ATTGTGAGCGATTTGCGTGCGTGCATCCCGCTTCACTGATCTCTTG...   hcov-OC43      2  \n",
              "1  GCTTTCAGCCAGGGACGTGTTGTATCCTAGGCAGTGGCCCTCCCAT...   hcov-OC43      2  \n",
              "2  ATTTGCGTGCGTGCATCCCGCTTCACTGATCTCTTGTTAGATCTTT...   hcov-OC43      2  \n",
              "3  ATTTGCGTGCGTGCATCCCGCTTCACTGATCTCTTGTTAGATCTTT...   hcov-OC43      2  \n",
              "4  GCGTGCATCCCGCTTCACTGATCTCTTGTTAGATCTTTTTGTAATC...   hcov-OC43      2  "
            ],
            "text/html": [
              "\n",
              "\n",
              "  <div id=\"df-09fcdcde-9f55-4bf3-ba2e-9b1006722d58\">\n",
              "    <div class=\"colab-df-container\">\n",
              "      <div>\n",
              "<style scoped>\n",
              "    .dataframe tbody tr th:only-of-type {\n",
              "        vertical-align: middle;\n",
              "    }\n",
              "\n",
              "    .dataframe tbody tr th {\n",
              "        vertical-align: top;\n",
              "    }\n",
              "\n",
              "    .dataframe thead th {\n",
              "        text-align: right;\n",
              "    }\n",
              "</style>\n",
              "<table border=\"1\" class=\"dataframe\">\n",
              "  <thead>\n",
              "    <tr style=\"text-align: right;\">\n",
              "      <th></th>\n",
              "      <th>Sequence ID</th>\n",
              "      <th>Sequence</th>\n",
              "      <th>strain_name</th>\n",
              "      <th>label</th>\n",
              "    </tr>\n",
              "  </thead>\n",
              "  <tbody>\n",
              "    <tr>\n",
              "      <th>0</th>\n",
              "      <td>NC_006213.1 |Human coronavirus OC43 strain ATC...</td>\n",
              "      <td>ATTGTGAGCGATTTGCGTGCGTGCATCCCGCTTCACTGATCTCTTG...</td>\n",
              "      <td>hcov-OC43</td>\n",
              "      <td>2</td>\n",
              "    </tr>\n",
              "    <tr>\n",
              "      <th>1</th>\n",
              "      <td>OQ828657.1 |Human coronavirus OC43 isolate HCo...</td>\n",
              "      <td>GCTTTCAGCCAGGGACGTGTTGTATCCTAGGCAGTGGCCCTCCCAT...</td>\n",
              "      <td>hcov-OC43</td>\n",
              "      <td>2</td>\n",
              "    </tr>\n",
              "    <tr>\n",
              "      <th>2</th>\n",
              "      <td>LC756669.1 |Human coronavirus OC43 HCoVOC43_Fu...</td>\n",
              "      <td>ATTTGCGTGCGTGCATCCCGCTTCACTGATCTCTTGTTAGATCTTT...</td>\n",
              "      <td>hcov-OC43</td>\n",
              "      <td>2</td>\n",
              "    </tr>\n",
              "    <tr>\n",
              "      <th>3</th>\n",
              "      <td>LC756670.1 |Human coronavirus OC43 HCoVOC43_Fu...</td>\n",
              "      <td>ATTTGCGTGCGTGCATCCCGCTTCACTGATCTCTTGTTAGATCTTT...</td>\n",
              "      <td>hcov-OC43</td>\n",
              "      <td>2</td>\n",
              "    </tr>\n",
              "    <tr>\n",
              "      <th>4</th>\n",
              "      <td>ON461794.1 |Human coronavirus OC43 isolate OC4...</td>\n",
              "      <td>GCGTGCATCCCGCTTCACTGATCTCTTGTTAGATCTTTTTGTAATC...</td>\n",
              "      <td>hcov-OC43</td>\n",
              "      <td>2</td>\n",
              "    </tr>\n",
              "  </tbody>\n",
              "</table>\n",
              "</div>\n",
              "      <button class=\"colab-df-convert\" onclick=\"convertToInteractive('df-09fcdcde-9f55-4bf3-ba2e-9b1006722d58')\"\n",
              "              title=\"Convert this dataframe to an interactive table.\"\n",
              "              style=\"display:none;\">\n",
              "\n",
              "  <svg xmlns=\"http://www.w3.org/2000/svg\" height=\"24px\"viewBox=\"0 0 24 24\"\n",
              "       width=\"24px\">\n",
              "    <path d=\"M0 0h24v24H0V0z\" fill=\"none\"/>\n",
              "    <path d=\"M18.56 5.44l.94 2.06.94-2.06 2.06-.94-2.06-.94-.94-2.06-.94 2.06-2.06.94zm-11 1L8.5 8.5l.94-2.06 2.06-.94-2.06-.94L8.5 2.5l-.94 2.06-2.06.94zm10 10l.94 2.06.94-2.06 2.06-.94-2.06-.94-.94-2.06-.94 2.06-2.06.94z\"/><path d=\"M17.41 7.96l-1.37-1.37c-.4-.4-.92-.59-1.43-.59-.52 0-1.04.2-1.43.59L10.3 9.45l-7.72 7.72c-.78.78-.78 2.05 0 2.83L4 21.41c.39.39.9.59 1.41.59.51 0 1.02-.2 1.41-.59l7.78-7.78 2.81-2.81c.8-.78.8-2.07 0-2.86zM5.41 20L4 18.59l7.72-7.72 1.47 1.35L5.41 20z\"/>\n",
              "  </svg>\n",
              "      </button>\n",
              "\n",
              "\n",
              "\n",
              "    <div id=\"df-ec5e3ea8-44b1-4f21-b76c-12519e9e9474\">\n",
              "      <button class=\"colab-df-quickchart\" onclick=\"quickchart('df-ec5e3ea8-44b1-4f21-b76c-12519e9e9474')\"\n",
              "              title=\"Suggest charts.\"\n",
              "              style=\"display:none;\">\n",
              "\n",
              "<svg xmlns=\"http://www.w3.org/2000/svg\" height=\"24px\"viewBox=\"0 0 24 24\"\n",
              "     width=\"24px\">\n",
              "    <g>\n",
              "        <path d=\"M19 3H5c-1.1 0-2 .9-2 2v14c0 1.1.9 2 2 2h14c1.1 0 2-.9 2-2V5c0-1.1-.9-2-2-2zM9 17H7v-7h2v7zm4 0h-2V7h2v10zm4 0h-2v-4h2v4z\"/>\n",
              "    </g>\n",
              "</svg>\n",
              "      </button>\n",
              "    </div>\n",
              "\n",
              "<style>\n",
              "  .colab-df-quickchart {\n",
              "    background-color: #E8F0FE;\n",
              "    border: none;\n",
              "    border-radius: 50%;\n",
              "    cursor: pointer;\n",
              "    display: none;\n",
              "    fill: #1967D2;\n",
              "    height: 32px;\n",
              "    padding: 0 0 0 0;\n",
              "    width: 32px;\n",
              "  }\n",
              "\n",
              "  .colab-df-quickchart:hover {\n",
              "    background-color: #E2EBFA;\n",
              "    box-shadow: 0px 1px 2px rgba(60, 64, 67, 0.3), 0px 1px 3px 1px rgba(60, 64, 67, 0.15);\n",
              "    fill: #174EA6;\n",
              "  }\n",
              "\n",
              "  [theme=dark] .colab-df-quickchart {\n",
              "    background-color: #3B4455;\n",
              "    fill: #D2E3FC;\n",
              "  }\n",
              "\n",
              "  [theme=dark] .colab-df-quickchart:hover {\n",
              "    background-color: #434B5C;\n",
              "    box-shadow: 0px 1px 3px 1px rgba(0, 0, 0, 0.15);\n",
              "    filter: drop-shadow(0px 1px 2px rgba(0, 0, 0, 0.3));\n",
              "    fill: #FFFFFF;\n",
              "  }\n",
              "</style>\n",
              "\n",
              "    <script>\n",
              "      async function quickchart(key) {\n",
              "        const containerElement = document.querySelector('#' + key);\n",
              "        const charts = await google.colab.kernel.invokeFunction(\n",
              "            'suggestCharts', [key], {});\n",
              "      }\n",
              "    </script>\n",
              "\n",
              "      <script>\n",
              "\n",
              "function displayQuickchartButton(domScope) {\n",
              "  let quickchartButtonEl =\n",
              "    domScope.querySelector('#df-ec5e3ea8-44b1-4f21-b76c-12519e9e9474 button.colab-df-quickchart');\n",
              "  quickchartButtonEl.style.display =\n",
              "    google.colab.kernel.accessAllowed ? 'block' : 'none';\n",
              "}\n",
              "\n",
              "        displayQuickchartButton(document);\n",
              "      </script>\n",
              "      <style>\n",
              "    .colab-df-container {\n",
              "      display:flex;\n",
              "      flex-wrap:wrap;\n",
              "      gap: 12px;\n",
              "    }\n",
              "\n",
              "    .colab-df-convert {\n",
              "      background-color: #E8F0FE;\n",
              "      border: none;\n",
              "      border-radius: 50%;\n",
              "      cursor: pointer;\n",
              "      display: none;\n",
              "      fill: #1967D2;\n",
              "      height: 32px;\n",
              "      padding: 0 0 0 0;\n",
              "      width: 32px;\n",
              "    }\n",
              "\n",
              "    .colab-df-convert:hover {\n",
              "      background-color: #E2EBFA;\n",
              "      box-shadow: 0px 1px 2px rgba(60, 64, 67, 0.3), 0px 1px 3px 1px rgba(60, 64, 67, 0.15);\n",
              "      fill: #174EA6;\n",
              "    }\n",
              "\n",
              "    [theme=dark] .colab-df-convert {\n",
              "      background-color: #3B4455;\n",
              "      fill: #D2E3FC;\n",
              "    }\n",
              "\n",
              "    [theme=dark] .colab-df-convert:hover {\n",
              "      background-color: #434B5C;\n",
              "      box-shadow: 0px 1px 3px 1px rgba(0, 0, 0, 0.15);\n",
              "      filter: drop-shadow(0px 1px 2px rgba(0, 0, 0, 0.3));\n",
              "      fill: #FFFFFF;\n",
              "    }\n",
              "  </style>\n",
              "\n",
              "      <script>\n",
              "        const buttonEl =\n",
              "          document.querySelector('#df-09fcdcde-9f55-4bf3-ba2e-9b1006722d58 button.colab-df-convert');\n",
              "        buttonEl.style.display =\n",
              "          google.colab.kernel.accessAllowed ? 'block' : 'none';\n",
              "\n",
              "        async function convertToInteractive(key) {\n",
              "          const element = document.querySelector('#df-09fcdcde-9f55-4bf3-ba2e-9b1006722d58');\n",
              "          const dataTable =\n",
              "            await google.colab.kernel.invokeFunction('convertToInteractive',\n",
              "                                                     [key], {});\n",
              "          if (!dataTable) return;\n",
              "\n",
              "          const docLinkHtml = 'Like what you see? Visit the ' +\n",
              "            '<a target=\"_blank\" href=https://colab.research.google.com/notebooks/data_table.ipynb>data table notebook</a>'\n",
              "            + ' to learn more about interactive tables.';\n",
              "          element.innerHTML = '';\n",
              "          dataTable['output_type'] = 'display_data';\n",
              "          await google.colab.output.renderOutput(dataTable, element);\n",
              "          const docLink = document.createElement('div');\n",
              "          docLink.innerHTML = docLinkHtml;\n",
              "          element.appendChild(docLink);\n",
              "        }\n",
              "      </script>\n",
              "    </div>\n",
              "  </div>\n"
            ]
          },
          "metadata": {},
          "execution_count": 45
        }
      ]
    },
    {
      "cell_type": "markdown",
      "source": [
        "## Working with HCoV-229E Genome Sequences\n"
      ],
      "metadata": {
        "id": "38fGazhZh2hC"
      }
    },
    {
      "cell_type": "code",
      "source": [
        "convert_fasta_to_csv(datapath + 'HCoV-229E.fasta','hcov_229E.csv')"
      ],
      "metadata": {
        "colab": {
          "base_uri": "https://localhost:8080/"
        },
        "id": "WJ__bmpeh-jf",
        "outputId": "5ce72831-6ce5-4593-9391-041c659358be"
      },
      "execution_count": null,
      "outputs": [
        {
          "output_type": "stream",
          "name": "stdout",
          "text": [
            "Conversion complete. CSV file saved as hcov_229E.csv.\n"
          ]
        }
      ]
    },
    {
      "cell_type": "code",
      "source": [
        "df_hCov_229e = pd.read_csv('hcov_229E.csv')\n",
        "df_hCov_229e['strain_name'] = 'hcov-229E'\n",
        "df_hCov_229e.head()"
      ],
      "metadata": {
        "colab": {
          "base_uri": "https://localhost:8080/",
          "height": 206
        },
        "id": "Co-DXFrgiA-Y",
        "outputId": "2a5687f1-011f-4a00-a1a7-c3972eaa0702"
      },
      "execution_count": null,
      "outputs": [
        {
          "output_type": "execute_result",
          "data": {
            "text/plain": [
              "                                         Sequence ID  \\\n",
              "0  NC_028752.1 |Camel alphacoronavirus isolate ca...   \n",
              "1  NC_002645.1 |Human coronavirus 229E, complete ...   \n",
              "2  OQ920097.1 |Mutant Human coronavirus 229E isol...   \n",
              "3  OQ920098.1 |Mutant Human coronavirus 229E isol...   \n",
              "4  OQ920099.1 |Mutant Human coronavirus 229E isol...   \n",
              "\n",
              "                                            Sequence strain_name  \n",
              "0  ACTTAAGTGTCTTATCTATCTATAGATAGAAAAGTCGCTTTTTAGA...   hcov-229E  \n",
              "1  ACTTAAGTACCTTATCTATCTACAGATAGAAAAGTTGCTTTTTAGA...   hcov-229E  \n",
              "2  TTATCTATCTACAGATAGAAAAGTTGCTTTTTAGACTTTGTGTCTA...   hcov-229E  \n",
              "3  TTATCTATCTACAGATAGAAAAGTTGCTTTTTAGACTTTGTGTCTA...   hcov-229E  \n",
              "4  TTATCTATCTACAGATAGAAAAGTTGCTTTTTAGACTTTGTGTCTA...   hcov-229E  "
            ],
            "text/html": [
              "\n",
              "\n",
              "  <div id=\"df-6c3d63a9-6c20-47de-8792-de282b190f89\">\n",
              "    <div class=\"colab-df-container\">\n",
              "      <div>\n",
              "<style scoped>\n",
              "    .dataframe tbody tr th:only-of-type {\n",
              "        vertical-align: middle;\n",
              "    }\n",
              "\n",
              "    .dataframe tbody tr th {\n",
              "        vertical-align: top;\n",
              "    }\n",
              "\n",
              "    .dataframe thead th {\n",
              "        text-align: right;\n",
              "    }\n",
              "</style>\n",
              "<table border=\"1\" class=\"dataframe\">\n",
              "  <thead>\n",
              "    <tr style=\"text-align: right;\">\n",
              "      <th></th>\n",
              "      <th>Sequence ID</th>\n",
              "      <th>Sequence</th>\n",
              "      <th>strain_name</th>\n",
              "    </tr>\n",
              "  </thead>\n",
              "  <tbody>\n",
              "    <tr>\n",
              "      <th>0</th>\n",
              "      <td>NC_028752.1 |Camel alphacoronavirus isolate ca...</td>\n",
              "      <td>ACTTAAGTGTCTTATCTATCTATAGATAGAAAAGTCGCTTTTTAGA...</td>\n",
              "      <td>hcov-229E</td>\n",
              "    </tr>\n",
              "    <tr>\n",
              "      <th>1</th>\n",
              "      <td>NC_002645.1 |Human coronavirus 229E, complete ...</td>\n",
              "      <td>ACTTAAGTACCTTATCTATCTACAGATAGAAAAGTTGCTTTTTAGA...</td>\n",
              "      <td>hcov-229E</td>\n",
              "    </tr>\n",
              "    <tr>\n",
              "      <th>2</th>\n",
              "      <td>OQ920097.1 |Mutant Human coronavirus 229E isol...</td>\n",
              "      <td>TTATCTATCTACAGATAGAAAAGTTGCTTTTTAGACTTTGTGTCTA...</td>\n",
              "      <td>hcov-229E</td>\n",
              "    </tr>\n",
              "    <tr>\n",
              "      <th>3</th>\n",
              "      <td>OQ920098.1 |Mutant Human coronavirus 229E isol...</td>\n",
              "      <td>TTATCTATCTACAGATAGAAAAGTTGCTTTTTAGACTTTGTGTCTA...</td>\n",
              "      <td>hcov-229E</td>\n",
              "    </tr>\n",
              "    <tr>\n",
              "      <th>4</th>\n",
              "      <td>OQ920099.1 |Mutant Human coronavirus 229E isol...</td>\n",
              "      <td>TTATCTATCTACAGATAGAAAAGTTGCTTTTTAGACTTTGTGTCTA...</td>\n",
              "      <td>hcov-229E</td>\n",
              "    </tr>\n",
              "  </tbody>\n",
              "</table>\n",
              "</div>\n",
              "      <button class=\"colab-df-convert\" onclick=\"convertToInteractive('df-6c3d63a9-6c20-47de-8792-de282b190f89')\"\n",
              "              title=\"Convert this dataframe to an interactive table.\"\n",
              "              style=\"display:none;\">\n",
              "\n",
              "  <svg xmlns=\"http://www.w3.org/2000/svg\" height=\"24px\"viewBox=\"0 0 24 24\"\n",
              "       width=\"24px\">\n",
              "    <path d=\"M0 0h24v24H0V0z\" fill=\"none\"/>\n",
              "    <path d=\"M18.56 5.44l.94 2.06.94-2.06 2.06-.94-2.06-.94-.94-2.06-.94 2.06-2.06.94zm-11 1L8.5 8.5l.94-2.06 2.06-.94-2.06-.94L8.5 2.5l-.94 2.06-2.06.94zm10 10l.94 2.06.94-2.06 2.06-.94-2.06-.94-.94-2.06-.94 2.06-2.06.94z\"/><path d=\"M17.41 7.96l-1.37-1.37c-.4-.4-.92-.59-1.43-.59-.52 0-1.04.2-1.43.59L10.3 9.45l-7.72 7.72c-.78.78-.78 2.05 0 2.83L4 21.41c.39.39.9.59 1.41.59.51 0 1.02-.2 1.41-.59l7.78-7.78 2.81-2.81c.8-.78.8-2.07 0-2.86zM5.41 20L4 18.59l7.72-7.72 1.47 1.35L5.41 20z\"/>\n",
              "  </svg>\n",
              "      </button>\n",
              "\n",
              "\n",
              "\n",
              "    <div id=\"df-d2c68df6-f30a-4f67-af5e-dd27eb1f88b2\">\n",
              "      <button class=\"colab-df-quickchart\" onclick=\"quickchart('df-d2c68df6-f30a-4f67-af5e-dd27eb1f88b2')\"\n",
              "              title=\"Suggest charts.\"\n",
              "              style=\"display:none;\">\n",
              "\n",
              "<svg xmlns=\"http://www.w3.org/2000/svg\" height=\"24px\"viewBox=\"0 0 24 24\"\n",
              "     width=\"24px\">\n",
              "    <g>\n",
              "        <path d=\"M19 3H5c-1.1 0-2 .9-2 2v14c0 1.1.9 2 2 2h14c1.1 0 2-.9 2-2V5c0-1.1-.9-2-2-2zM9 17H7v-7h2v7zm4 0h-2V7h2v10zm4 0h-2v-4h2v4z\"/>\n",
              "    </g>\n",
              "</svg>\n",
              "      </button>\n",
              "    </div>\n",
              "\n",
              "<style>\n",
              "  .colab-df-quickchart {\n",
              "    background-color: #E8F0FE;\n",
              "    border: none;\n",
              "    border-radius: 50%;\n",
              "    cursor: pointer;\n",
              "    display: none;\n",
              "    fill: #1967D2;\n",
              "    height: 32px;\n",
              "    padding: 0 0 0 0;\n",
              "    width: 32px;\n",
              "  }\n",
              "\n",
              "  .colab-df-quickchart:hover {\n",
              "    background-color: #E2EBFA;\n",
              "    box-shadow: 0px 1px 2px rgba(60, 64, 67, 0.3), 0px 1px 3px 1px rgba(60, 64, 67, 0.15);\n",
              "    fill: #174EA6;\n",
              "  }\n",
              "\n",
              "  [theme=dark] .colab-df-quickchart {\n",
              "    background-color: #3B4455;\n",
              "    fill: #D2E3FC;\n",
              "  }\n",
              "\n",
              "  [theme=dark] .colab-df-quickchart:hover {\n",
              "    background-color: #434B5C;\n",
              "    box-shadow: 0px 1px 3px 1px rgba(0, 0, 0, 0.15);\n",
              "    filter: drop-shadow(0px 1px 2px rgba(0, 0, 0, 0.3));\n",
              "    fill: #FFFFFF;\n",
              "  }\n",
              "</style>\n",
              "\n",
              "    <script>\n",
              "      async function quickchart(key) {\n",
              "        const containerElement = document.querySelector('#' + key);\n",
              "        const charts = await google.colab.kernel.invokeFunction(\n",
              "            'suggestCharts', [key], {});\n",
              "      }\n",
              "    </script>\n",
              "\n",
              "      <script>\n",
              "\n",
              "function displayQuickchartButton(domScope) {\n",
              "  let quickchartButtonEl =\n",
              "    domScope.querySelector('#df-d2c68df6-f30a-4f67-af5e-dd27eb1f88b2 button.colab-df-quickchart');\n",
              "  quickchartButtonEl.style.display =\n",
              "    google.colab.kernel.accessAllowed ? 'block' : 'none';\n",
              "}\n",
              "\n",
              "        displayQuickchartButton(document);\n",
              "      </script>\n",
              "      <style>\n",
              "    .colab-df-container {\n",
              "      display:flex;\n",
              "      flex-wrap:wrap;\n",
              "      gap: 12px;\n",
              "    }\n",
              "\n",
              "    .colab-df-convert {\n",
              "      background-color: #E8F0FE;\n",
              "      border: none;\n",
              "      border-radius: 50%;\n",
              "      cursor: pointer;\n",
              "      display: none;\n",
              "      fill: #1967D2;\n",
              "      height: 32px;\n",
              "      padding: 0 0 0 0;\n",
              "      width: 32px;\n",
              "    }\n",
              "\n",
              "    .colab-df-convert:hover {\n",
              "      background-color: #E2EBFA;\n",
              "      box-shadow: 0px 1px 2px rgba(60, 64, 67, 0.3), 0px 1px 3px 1px rgba(60, 64, 67, 0.15);\n",
              "      fill: #174EA6;\n",
              "    }\n",
              "\n",
              "    [theme=dark] .colab-df-convert {\n",
              "      background-color: #3B4455;\n",
              "      fill: #D2E3FC;\n",
              "    }\n",
              "\n",
              "    [theme=dark] .colab-df-convert:hover {\n",
              "      background-color: #434B5C;\n",
              "      box-shadow: 0px 1px 3px 1px rgba(0, 0, 0, 0.15);\n",
              "      filter: drop-shadow(0px 1px 2px rgba(0, 0, 0, 0.3));\n",
              "      fill: #FFFFFF;\n",
              "    }\n",
              "  </style>\n",
              "\n",
              "      <script>\n",
              "        const buttonEl =\n",
              "          document.querySelector('#df-6c3d63a9-6c20-47de-8792-de282b190f89 button.colab-df-convert');\n",
              "        buttonEl.style.display =\n",
              "          google.colab.kernel.accessAllowed ? 'block' : 'none';\n",
              "\n",
              "        async function convertToInteractive(key) {\n",
              "          const element = document.querySelector('#df-6c3d63a9-6c20-47de-8792-de282b190f89');\n",
              "          const dataTable =\n",
              "            await google.colab.kernel.invokeFunction('convertToInteractive',\n",
              "                                                     [key], {});\n",
              "          if (!dataTable) return;\n",
              "\n",
              "          const docLinkHtml = 'Like what you see? Visit the ' +\n",
              "            '<a target=\"_blank\" href=https://colab.research.google.com/notebooks/data_table.ipynb>data table notebook</a>'\n",
              "            + ' to learn more about interactive tables.';\n",
              "          element.innerHTML = '';\n",
              "          dataTable['output_type'] = 'display_data';\n",
              "          await google.colab.output.renderOutput(dataTable, element);\n",
              "          const docLink = document.createElement('div');\n",
              "          docLink.innerHTML = docLinkHtml;\n",
              "          element.appendChild(docLink);\n",
              "        }\n",
              "      </script>\n",
              "    </div>\n",
              "  </div>\n"
            ]
          },
          "metadata": {},
          "execution_count": 48
        }
      ]
    },
    {
      "cell_type": "code",
      "source": [
        "df_hCov_229e.shape"
      ],
      "metadata": {
        "colab": {
          "base_uri": "https://localhost:8080/"
        },
        "id": "eiVwecqhiG8d",
        "outputId": "6e353362-9924-4147-d84a-a82e74f6bd46"
      },
      "execution_count": null,
      "outputs": [
        {
          "output_type": "execute_result",
          "data": {
            "text/plain": [
              "(200, 3)"
            ]
          },
          "metadata": {},
          "execution_count": 49
        }
      ]
    },
    {
      "cell_type": "code",
      "source": [
        "max_len_hCov_229e = maxSeq_length(df_hCov_229e['Sequence'])\n",
        "max_len_hCov_229e"
      ],
      "metadata": {
        "colab": {
          "base_uri": "https://localhost:8080/"
        },
        "id": "KM7xFyXJiKSU",
        "outputId": "85e7ece8-12b3-43b9-8840-477ed1d792a5"
      },
      "execution_count": null,
      "outputs": [
        {
          "output_type": "execute_result",
          "data": {
            "text/plain": [
              "27395"
            ]
          },
          "metadata": {},
          "execution_count": 50
        }
      ]
    },
    {
      "cell_type": "code",
      "source": [
        "min_len_hCov_229e = minSeq_length(df_hCov_229e['Sequence'])\n",
        "min_len_hCov_229e"
      ],
      "metadata": {
        "colab": {
          "base_uri": "https://localhost:8080/"
        },
        "id": "kF_rbQcFiSbn",
        "outputId": "a4038996-5f34-4400-f8cb-a636f20c2e99"
      },
      "execution_count": null,
      "outputs": [
        {
          "output_type": "execute_result",
          "data": {
            "text/plain": [
              "286"
            ]
          },
          "metadata": {},
          "execution_count": 51
        }
      ]
    },
    {
      "cell_type": "code",
      "source": [
        "df_hCov_229e = df_hCov_229e[(df_hCov_229e['Sequence'].str.len() > 25000)] # 29903\n",
        "df_hCov_229e.shape"
      ],
      "metadata": {
        "colab": {
          "base_uri": "https://localhost:8080/"
        },
        "id": "r7CtZHJsiNJF",
        "outputId": "2121e72b-4614-45f2-fcd8-48d8d9c91806"
      },
      "execution_count": null,
      "outputs": [
        {
          "output_type": "execute_result",
          "data": {
            "text/plain": [
              "(80, 3)"
            ]
          },
          "metadata": {},
          "execution_count": 52
        }
      ]
    },
    {
      "cell_type": "code",
      "source": [
        "## Labeling 'hCov_229e' as '3'\n",
        "df_hCov_229e['label'] = 3\n",
        "df_hCov_229e.head()"
      ],
      "metadata": {
        "colab": {
          "base_uri": "https://localhost:8080/",
          "height": 206
        },
        "id": "Vre9NOuCiOwt",
        "outputId": "4817000e-86a2-428b-af52-db0dcb656830"
      },
      "execution_count": null,
      "outputs": [
        {
          "output_type": "execute_result",
          "data": {
            "text/plain": [
              "                                         Sequence ID  \\\n",
              "0  NC_028752.1 |Camel alphacoronavirus isolate ca...   \n",
              "1  NC_002645.1 |Human coronavirus 229E, complete ...   \n",
              "3  OQ920098.1 |Mutant Human coronavirus 229E isol...   \n",
              "4  OQ920099.1 |Mutant Human coronavirus 229E isol...   \n",
              "7  ON461751.1 |Human coronavirus 229E isolate 229...   \n",
              "\n",
              "                                            Sequence strain_name  label  \n",
              "0  ACTTAAGTGTCTTATCTATCTATAGATAGAAAAGTCGCTTTTTAGA...   hcov-229E      3  \n",
              "1  ACTTAAGTACCTTATCTATCTACAGATAGAAAAGTTGCTTTTTAGA...   hcov-229E      3  \n",
              "3  TTATCTATCTACAGATAGAAAAGTTGCTTTTTAGACTTTGTGTCTA...   hcov-229E      3  \n",
              "4  TTATCTATCTACAGATAGAAAAGTTGCTTTTTAGACTTTGTGTCTA...   hcov-229E      3  \n",
              "7  GATAGAAAAGTTGCTTTTTAGACTTTGTGTCTACTTTTCTCAACTA...   hcov-229E      3  "
            ],
            "text/html": [
              "\n",
              "\n",
              "  <div id=\"df-87ff8d99-e48e-46be-b3fc-bf9088d6ddf2\">\n",
              "    <div class=\"colab-df-container\">\n",
              "      <div>\n",
              "<style scoped>\n",
              "    .dataframe tbody tr th:only-of-type {\n",
              "        vertical-align: middle;\n",
              "    }\n",
              "\n",
              "    .dataframe tbody tr th {\n",
              "        vertical-align: top;\n",
              "    }\n",
              "\n",
              "    .dataframe thead th {\n",
              "        text-align: right;\n",
              "    }\n",
              "</style>\n",
              "<table border=\"1\" class=\"dataframe\">\n",
              "  <thead>\n",
              "    <tr style=\"text-align: right;\">\n",
              "      <th></th>\n",
              "      <th>Sequence ID</th>\n",
              "      <th>Sequence</th>\n",
              "      <th>strain_name</th>\n",
              "      <th>label</th>\n",
              "    </tr>\n",
              "  </thead>\n",
              "  <tbody>\n",
              "    <tr>\n",
              "      <th>0</th>\n",
              "      <td>NC_028752.1 |Camel alphacoronavirus isolate ca...</td>\n",
              "      <td>ACTTAAGTGTCTTATCTATCTATAGATAGAAAAGTCGCTTTTTAGA...</td>\n",
              "      <td>hcov-229E</td>\n",
              "      <td>3</td>\n",
              "    </tr>\n",
              "    <tr>\n",
              "      <th>1</th>\n",
              "      <td>NC_002645.1 |Human coronavirus 229E, complete ...</td>\n",
              "      <td>ACTTAAGTACCTTATCTATCTACAGATAGAAAAGTTGCTTTTTAGA...</td>\n",
              "      <td>hcov-229E</td>\n",
              "      <td>3</td>\n",
              "    </tr>\n",
              "    <tr>\n",
              "      <th>3</th>\n",
              "      <td>OQ920098.1 |Mutant Human coronavirus 229E isol...</td>\n",
              "      <td>TTATCTATCTACAGATAGAAAAGTTGCTTTTTAGACTTTGTGTCTA...</td>\n",
              "      <td>hcov-229E</td>\n",
              "      <td>3</td>\n",
              "    </tr>\n",
              "    <tr>\n",
              "      <th>4</th>\n",
              "      <td>OQ920099.1 |Mutant Human coronavirus 229E isol...</td>\n",
              "      <td>TTATCTATCTACAGATAGAAAAGTTGCTTTTTAGACTTTGTGTCTA...</td>\n",
              "      <td>hcov-229E</td>\n",
              "      <td>3</td>\n",
              "    </tr>\n",
              "    <tr>\n",
              "      <th>7</th>\n",
              "      <td>ON461751.1 |Human coronavirus 229E isolate 229...</td>\n",
              "      <td>GATAGAAAAGTTGCTTTTTAGACTTTGTGTCTACTTTTCTCAACTA...</td>\n",
              "      <td>hcov-229E</td>\n",
              "      <td>3</td>\n",
              "    </tr>\n",
              "  </tbody>\n",
              "</table>\n",
              "</div>\n",
              "      <button class=\"colab-df-convert\" onclick=\"convertToInteractive('df-87ff8d99-e48e-46be-b3fc-bf9088d6ddf2')\"\n",
              "              title=\"Convert this dataframe to an interactive table.\"\n",
              "              style=\"display:none;\">\n",
              "\n",
              "  <svg xmlns=\"http://www.w3.org/2000/svg\" height=\"24px\"viewBox=\"0 0 24 24\"\n",
              "       width=\"24px\">\n",
              "    <path d=\"M0 0h24v24H0V0z\" fill=\"none\"/>\n",
              "    <path d=\"M18.56 5.44l.94 2.06.94-2.06 2.06-.94-2.06-.94-.94-2.06-.94 2.06-2.06.94zm-11 1L8.5 8.5l.94-2.06 2.06-.94-2.06-.94L8.5 2.5l-.94 2.06-2.06.94zm10 10l.94 2.06.94-2.06 2.06-.94-2.06-.94-.94-2.06-.94 2.06-2.06.94z\"/><path d=\"M17.41 7.96l-1.37-1.37c-.4-.4-.92-.59-1.43-.59-.52 0-1.04.2-1.43.59L10.3 9.45l-7.72 7.72c-.78.78-.78 2.05 0 2.83L4 21.41c.39.39.9.59 1.41.59.51 0 1.02-.2 1.41-.59l7.78-7.78 2.81-2.81c.8-.78.8-2.07 0-2.86zM5.41 20L4 18.59l7.72-7.72 1.47 1.35L5.41 20z\"/>\n",
              "  </svg>\n",
              "      </button>\n",
              "\n",
              "\n",
              "\n",
              "    <div id=\"df-28c05fb2-d07b-403e-b9d3-7b6a710a5a76\">\n",
              "      <button class=\"colab-df-quickchart\" onclick=\"quickchart('df-28c05fb2-d07b-403e-b9d3-7b6a710a5a76')\"\n",
              "              title=\"Suggest charts.\"\n",
              "              style=\"display:none;\">\n",
              "\n",
              "<svg xmlns=\"http://www.w3.org/2000/svg\" height=\"24px\"viewBox=\"0 0 24 24\"\n",
              "     width=\"24px\">\n",
              "    <g>\n",
              "        <path d=\"M19 3H5c-1.1 0-2 .9-2 2v14c0 1.1.9 2 2 2h14c1.1 0 2-.9 2-2V5c0-1.1-.9-2-2-2zM9 17H7v-7h2v7zm4 0h-2V7h2v10zm4 0h-2v-4h2v4z\"/>\n",
              "    </g>\n",
              "</svg>\n",
              "      </button>\n",
              "    </div>\n",
              "\n",
              "<style>\n",
              "  .colab-df-quickchart {\n",
              "    background-color: #E8F0FE;\n",
              "    border: none;\n",
              "    border-radius: 50%;\n",
              "    cursor: pointer;\n",
              "    display: none;\n",
              "    fill: #1967D2;\n",
              "    height: 32px;\n",
              "    padding: 0 0 0 0;\n",
              "    width: 32px;\n",
              "  }\n",
              "\n",
              "  .colab-df-quickchart:hover {\n",
              "    background-color: #E2EBFA;\n",
              "    box-shadow: 0px 1px 2px rgba(60, 64, 67, 0.3), 0px 1px 3px 1px rgba(60, 64, 67, 0.15);\n",
              "    fill: #174EA6;\n",
              "  }\n",
              "\n",
              "  [theme=dark] .colab-df-quickchart {\n",
              "    background-color: #3B4455;\n",
              "    fill: #D2E3FC;\n",
              "  }\n",
              "\n",
              "  [theme=dark] .colab-df-quickchart:hover {\n",
              "    background-color: #434B5C;\n",
              "    box-shadow: 0px 1px 3px 1px rgba(0, 0, 0, 0.15);\n",
              "    filter: drop-shadow(0px 1px 2px rgba(0, 0, 0, 0.3));\n",
              "    fill: #FFFFFF;\n",
              "  }\n",
              "</style>\n",
              "\n",
              "    <script>\n",
              "      async function quickchart(key) {\n",
              "        const containerElement = document.querySelector('#' + key);\n",
              "        const charts = await google.colab.kernel.invokeFunction(\n",
              "            'suggestCharts', [key], {});\n",
              "      }\n",
              "    </script>\n",
              "\n",
              "      <script>\n",
              "\n",
              "function displayQuickchartButton(domScope) {\n",
              "  let quickchartButtonEl =\n",
              "    domScope.querySelector('#df-28c05fb2-d07b-403e-b9d3-7b6a710a5a76 button.colab-df-quickchart');\n",
              "  quickchartButtonEl.style.display =\n",
              "    google.colab.kernel.accessAllowed ? 'block' : 'none';\n",
              "}\n",
              "\n",
              "        displayQuickchartButton(document);\n",
              "      </script>\n",
              "      <style>\n",
              "    .colab-df-container {\n",
              "      display:flex;\n",
              "      flex-wrap:wrap;\n",
              "      gap: 12px;\n",
              "    }\n",
              "\n",
              "    .colab-df-convert {\n",
              "      background-color: #E8F0FE;\n",
              "      border: none;\n",
              "      border-radius: 50%;\n",
              "      cursor: pointer;\n",
              "      display: none;\n",
              "      fill: #1967D2;\n",
              "      height: 32px;\n",
              "      padding: 0 0 0 0;\n",
              "      width: 32px;\n",
              "    }\n",
              "\n",
              "    .colab-df-convert:hover {\n",
              "      background-color: #E2EBFA;\n",
              "      box-shadow: 0px 1px 2px rgba(60, 64, 67, 0.3), 0px 1px 3px 1px rgba(60, 64, 67, 0.15);\n",
              "      fill: #174EA6;\n",
              "    }\n",
              "\n",
              "    [theme=dark] .colab-df-convert {\n",
              "      background-color: #3B4455;\n",
              "      fill: #D2E3FC;\n",
              "    }\n",
              "\n",
              "    [theme=dark] .colab-df-convert:hover {\n",
              "      background-color: #434B5C;\n",
              "      box-shadow: 0px 1px 3px 1px rgba(0, 0, 0, 0.15);\n",
              "      filter: drop-shadow(0px 1px 2px rgba(0, 0, 0, 0.3));\n",
              "      fill: #FFFFFF;\n",
              "    }\n",
              "  </style>\n",
              "\n",
              "      <script>\n",
              "        const buttonEl =\n",
              "          document.querySelector('#df-87ff8d99-e48e-46be-b3fc-bf9088d6ddf2 button.colab-df-convert');\n",
              "        buttonEl.style.display =\n",
              "          google.colab.kernel.accessAllowed ? 'block' : 'none';\n",
              "\n",
              "        async function convertToInteractive(key) {\n",
              "          const element = document.querySelector('#df-87ff8d99-e48e-46be-b3fc-bf9088d6ddf2');\n",
              "          const dataTable =\n",
              "            await google.colab.kernel.invokeFunction('convertToInteractive',\n",
              "                                                     [key], {});\n",
              "          if (!dataTable) return;\n",
              "\n",
              "          const docLinkHtml = 'Like what you see? Visit the ' +\n",
              "            '<a target=\"_blank\" href=https://colab.research.google.com/notebooks/data_table.ipynb>data table notebook</a>'\n",
              "            + ' to learn more about interactive tables.';\n",
              "          element.innerHTML = '';\n",
              "          dataTable['output_type'] = 'display_data';\n",
              "          await google.colab.output.renderOutput(dataTable, element);\n",
              "          const docLink = document.createElement('div');\n",
              "          docLink.innerHTML = docLinkHtml;\n",
              "          element.appendChild(docLink);\n",
              "        }\n",
              "      </script>\n",
              "    </div>\n",
              "  </div>\n"
            ]
          },
          "metadata": {},
          "execution_count": 53
        }
      ]
    },
    {
      "cell_type": "markdown",
      "source": [
        "### Working with 'HCoV-NL63' Genome Sequences"
      ],
      "metadata": {
        "id": "gG8wq-ZfibyW"
      }
    },
    {
      "cell_type": "code",
      "source": [
        "convert_fasta_to_csv(datapath + 'HCoV-NL63.fasta','hcov_nl63.csv')"
      ],
      "metadata": {
        "colab": {
          "base_uri": "https://localhost:8080/"
        },
        "id": "JpFdQ2M9jcgD",
        "outputId": "04b666d5-c75c-4402-c30f-010b54a0107a"
      },
      "execution_count": null,
      "outputs": [
        {
          "output_type": "stream",
          "name": "stdout",
          "text": [
            "Conversion complete. CSV file saved as hcov_nl63.csv.\n"
          ]
        }
      ]
    },
    {
      "cell_type": "code",
      "source": [
        "df_hCov_nl63 = pd.read_csv('hcov_nl63.csv')\n",
        "df_hCov_nl63['strain_name'] = 'hcov-NL63'\n",
        "df_hCov_nl63.head()"
      ],
      "metadata": {
        "id": "TZsuqqWWjePS",
        "colab": {
          "base_uri": "https://localhost:8080/",
          "height": 206
        },
        "outputId": "b9443189-0c6a-4b85-f06a-c74984366cc2"
      },
      "execution_count": null,
      "outputs": [
        {
          "output_type": "execute_result",
          "data": {
            "text/plain": [
              "                                         Sequence ID  \\\n",
              "0  NC_005831.2 |Human Coronavirus NL63, complete ...   \n",
              "1  LC756668.1 |Human coronavirus NL63 HCoVNL63_Fu...   \n",
              "2  ON461782.1 |Human coronavirus NL63 isolate NL6...   \n",
              "3  ON461783.1 |Human coronavirus NL63 isolate NL6...   \n",
              "4  ON461784.1 |Human coronavirus NL63 isolate NL6...   \n",
              "\n",
              "                                            Sequence strain_name  \n",
              "0  CTTAAAGAATTTTTCTATCTATAGATAGAGAATTTTCTTATTTAGA...   hcov-NL63  \n",
              "1  ATTTTTCTATCTATAGATAGAGAATTTTCTTATTTAGACTTTGTGT...   hcov-NL63  \n",
              "2  GTTCCGTCACNGCTTATTGTGGAAGCAACGTTCTGTCGNNNNNNNN...   hcov-NL63  \n",
              "3  GTGTTGTATNNNNNNNNNNNNNNCACTGGTGATTCTGTTCACTAGT...   hcov-NL63  \n",
              "4  AAGTGGTGTTCCGTCACTGCTTATTGTGGAAGCAACGTTCTGTCGT...   hcov-NL63  "
            ],
            "text/html": [
              "\n",
              "\n",
              "  <div id=\"df-b3d05717-296c-4dc2-b615-1baccc463120\">\n",
              "    <div class=\"colab-df-container\">\n",
              "      <div>\n",
              "<style scoped>\n",
              "    .dataframe tbody tr th:only-of-type {\n",
              "        vertical-align: middle;\n",
              "    }\n",
              "\n",
              "    .dataframe tbody tr th {\n",
              "        vertical-align: top;\n",
              "    }\n",
              "\n",
              "    .dataframe thead th {\n",
              "        text-align: right;\n",
              "    }\n",
              "</style>\n",
              "<table border=\"1\" class=\"dataframe\">\n",
              "  <thead>\n",
              "    <tr style=\"text-align: right;\">\n",
              "      <th></th>\n",
              "      <th>Sequence ID</th>\n",
              "      <th>Sequence</th>\n",
              "      <th>strain_name</th>\n",
              "    </tr>\n",
              "  </thead>\n",
              "  <tbody>\n",
              "    <tr>\n",
              "      <th>0</th>\n",
              "      <td>NC_005831.2 |Human Coronavirus NL63, complete ...</td>\n",
              "      <td>CTTAAAGAATTTTTCTATCTATAGATAGAGAATTTTCTTATTTAGA...</td>\n",
              "      <td>hcov-NL63</td>\n",
              "    </tr>\n",
              "    <tr>\n",
              "      <th>1</th>\n",
              "      <td>LC756668.1 |Human coronavirus NL63 HCoVNL63_Fu...</td>\n",
              "      <td>ATTTTTCTATCTATAGATAGAGAATTTTCTTATTTAGACTTTGTGT...</td>\n",
              "      <td>hcov-NL63</td>\n",
              "    </tr>\n",
              "    <tr>\n",
              "      <th>2</th>\n",
              "      <td>ON461782.1 |Human coronavirus NL63 isolate NL6...</td>\n",
              "      <td>GTTCCGTCACNGCTTATTGTGGAAGCAACGTTCTGTCGNNNNNNNN...</td>\n",
              "      <td>hcov-NL63</td>\n",
              "    </tr>\n",
              "    <tr>\n",
              "      <th>3</th>\n",
              "      <td>ON461783.1 |Human coronavirus NL63 isolate NL6...</td>\n",
              "      <td>GTGTTGTATNNNNNNNNNNNNNNCACTGGTGATTCTGTTCACTAGT...</td>\n",
              "      <td>hcov-NL63</td>\n",
              "    </tr>\n",
              "    <tr>\n",
              "      <th>4</th>\n",
              "      <td>ON461784.1 |Human coronavirus NL63 isolate NL6...</td>\n",
              "      <td>AAGTGGTGTTCCGTCACTGCTTATTGTGGAAGCAACGTTCTGTCGT...</td>\n",
              "      <td>hcov-NL63</td>\n",
              "    </tr>\n",
              "  </tbody>\n",
              "</table>\n",
              "</div>\n",
              "      <button class=\"colab-df-convert\" onclick=\"convertToInteractive('df-b3d05717-296c-4dc2-b615-1baccc463120')\"\n",
              "              title=\"Convert this dataframe to an interactive table.\"\n",
              "              style=\"display:none;\">\n",
              "\n",
              "  <svg xmlns=\"http://www.w3.org/2000/svg\" height=\"24px\"viewBox=\"0 0 24 24\"\n",
              "       width=\"24px\">\n",
              "    <path d=\"M0 0h24v24H0V0z\" fill=\"none\"/>\n",
              "    <path d=\"M18.56 5.44l.94 2.06.94-2.06 2.06-.94-2.06-.94-.94-2.06-.94 2.06-2.06.94zm-11 1L8.5 8.5l.94-2.06 2.06-.94-2.06-.94L8.5 2.5l-.94 2.06-2.06.94zm10 10l.94 2.06.94-2.06 2.06-.94-2.06-.94-.94-2.06-.94 2.06-2.06.94z\"/><path d=\"M17.41 7.96l-1.37-1.37c-.4-.4-.92-.59-1.43-.59-.52 0-1.04.2-1.43.59L10.3 9.45l-7.72 7.72c-.78.78-.78 2.05 0 2.83L4 21.41c.39.39.9.59 1.41.59.51 0 1.02-.2 1.41-.59l7.78-7.78 2.81-2.81c.8-.78.8-2.07 0-2.86zM5.41 20L4 18.59l7.72-7.72 1.47 1.35L5.41 20z\"/>\n",
              "  </svg>\n",
              "      </button>\n",
              "\n",
              "\n",
              "\n",
              "    <div id=\"df-fe0dd7f7-41a3-4247-90f1-0f15e62bc785\">\n",
              "      <button class=\"colab-df-quickchart\" onclick=\"quickchart('df-fe0dd7f7-41a3-4247-90f1-0f15e62bc785')\"\n",
              "              title=\"Suggest charts.\"\n",
              "              style=\"display:none;\">\n",
              "\n",
              "<svg xmlns=\"http://www.w3.org/2000/svg\" height=\"24px\"viewBox=\"0 0 24 24\"\n",
              "     width=\"24px\">\n",
              "    <g>\n",
              "        <path d=\"M19 3H5c-1.1 0-2 .9-2 2v14c0 1.1.9 2 2 2h14c1.1 0 2-.9 2-2V5c0-1.1-.9-2-2-2zM9 17H7v-7h2v7zm4 0h-2V7h2v10zm4 0h-2v-4h2v4z\"/>\n",
              "    </g>\n",
              "</svg>\n",
              "      </button>\n",
              "    </div>\n",
              "\n",
              "<style>\n",
              "  .colab-df-quickchart {\n",
              "    background-color: #E8F0FE;\n",
              "    border: none;\n",
              "    border-radius: 50%;\n",
              "    cursor: pointer;\n",
              "    display: none;\n",
              "    fill: #1967D2;\n",
              "    height: 32px;\n",
              "    padding: 0 0 0 0;\n",
              "    width: 32px;\n",
              "  }\n",
              "\n",
              "  .colab-df-quickchart:hover {\n",
              "    background-color: #E2EBFA;\n",
              "    box-shadow: 0px 1px 2px rgba(60, 64, 67, 0.3), 0px 1px 3px 1px rgba(60, 64, 67, 0.15);\n",
              "    fill: #174EA6;\n",
              "  }\n",
              "\n",
              "  [theme=dark] .colab-df-quickchart {\n",
              "    background-color: #3B4455;\n",
              "    fill: #D2E3FC;\n",
              "  }\n",
              "\n",
              "  [theme=dark] .colab-df-quickchart:hover {\n",
              "    background-color: #434B5C;\n",
              "    box-shadow: 0px 1px 3px 1px rgba(0, 0, 0, 0.15);\n",
              "    filter: drop-shadow(0px 1px 2px rgba(0, 0, 0, 0.3));\n",
              "    fill: #FFFFFF;\n",
              "  }\n",
              "</style>\n",
              "\n",
              "    <script>\n",
              "      async function quickchart(key) {\n",
              "        const containerElement = document.querySelector('#' + key);\n",
              "        const charts = await google.colab.kernel.invokeFunction(\n",
              "            'suggestCharts', [key], {});\n",
              "      }\n",
              "    </script>\n",
              "\n",
              "      <script>\n",
              "\n",
              "function displayQuickchartButton(domScope) {\n",
              "  let quickchartButtonEl =\n",
              "    domScope.querySelector('#df-fe0dd7f7-41a3-4247-90f1-0f15e62bc785 button.colab-df-quickchart');\n",
              "  quickchartButtonEl.style.display =\n",
              "    google.colab.kernel.accessAllowed ? 'block' : 'none';\n",
              "}\n",
              "\n",
              "        displayQuickchartButton(document);\n",
              "      </script>\n",
              "      <style>\n",
              "    .colab-df-container {\n",
              "      display:flex;\n",
              "      flex-wrap:wrap;\n",
              "      gap: 12px;\n",
              "    }\n",
              "\n",
              "    .colab-df-convert {\n",
              "      background-color: #E8F0FE;\n",
              "      border: none;\n",
              "      border-radius: 50%;\n",
              "      cursor: pointer;\n",
              "      display: none;\n",
              "      fill: #1967D2;\n",
              "      height: 32px;\n",
              "      padding: 0 0 0 0;\n",
              "      width: 32px;\n",
              "    }\n",
              "\n",
              "    .colab-df-convert:hover {\n",
              "      background-color: #E2EBFA;\n",
              "      box-shadow: 0px 1px 2px rgba(60, 64, 67, 0.3), 0px 1px 3px 1px rgba(60, 64, 67, 0.15);\n",
              "      fill: #174EA6;\n",
              "    }\n",
              "\n",
              "    [theme=dark] .colab-df-convert {\n",
              "      background-color: #3B4455;\n",
              "      fill: #D2E3FC;\n",
              "    }\n",
              "\n",
              "    [theme=dark] .colab-df-convert:hover {\n",
              "      background-color: #434B5C;\n",
              "      box-shadow: 0px 1px 3px 1px rgba(0, 0, 0, 0.15);\n",
              "      filter: drop-shadow(0px 1px 2px rgba(0, 0, 0, 0.3));\n",
              "      fill: #FFFFFF;\n",
              "    }\n",
              "  </style>\n",
              "\n",
              "      <script>\n",
              "        const buttonEl =\n",
              "          document.querySelector('#df-b3d05717-296c-4dc2-b615-1baccc463120 button.colab-df-convert');\n",
              "        buttonEl.style.display =\n",
              "          google.colab.kernel.accessAllowed ? 'block' : 'none';\n",
              "\n",
              "        async function convertToInteractive(key) {\n",
              "          const element = document.querySelector('#df-b3d05717-296c-4dc2-b615-1baccc463120');\n",
              "          const dataTable =\n",
              "            await google.colab.kernel.invokeFunction('convertToInteractive',\n",
              "                                                     [key], {});\n",
              "          if (!dataTable) return;\n",
              "\n",
              "          const docLinkHtml = 'Like what you see? Visit the ' +\n",
              "            '<a target=\"_blank\" href=https://colab.research.google.com/notebooks/data_table.ipynb>data table notebook</a>'\n",
              "            + ' to learn more about interactive tables.';\n",
              "          element.innerHTML = '';\n",
              "          dataTable['output_type'] = 'display_data';\n",
              "          await google.colab.output.renderOutput(dataTable, element);\n",
              "          const docLink = document.createElement('div');\n",
              "          docLink.innerHTML = docLinkHtml;\n",
              "          element.appendChild(docLink);\n",
              "        }\n",
              "      </script>\n",
              "    </div>\n",
              "  </div>\n"
            ]
          },
          "metadata": {},
          "execution_count": 55
        }
      ]
    },
    {
      "cell_type": "code",
      "source": [
        "max_len_hCov_nl63 = max([len(seq) for seq in df_hCov_nl63['Sequence']])\n",
        "max_len_hCov_nl63"
      ],
      "metadata": {
        "colab": {
          "base_uri": "https://localhost:8080/"
        },
        "id": "REqcIA1djl-R",
        "outputId": "d94de7b7-eaf8-44ed-90f0-77d3d74a8a49"
      },
      "execution_count": null,
      "outputs": [
        {
          "output_type": "execute_result",
          "data": {
            "text/plain": [
              "27590"
            ]
          },
          "metadata": {},
          "execution_count": 56
        }
      ]
    },
    {
      "cell_type": "code",
      "source": [
        "min_len_hCov_nl63 = min([len(seq) for seq in df_hCov_nl63['Sequence']])\n",
        "min_len_hCov_nl63"
      ],
      "metadata": {
        "colab": {
          "base_uri": "https://localhost:8080/"
        },
        "id": "PbubJjzPjn8C",
        "outputId": "3004fcd8-4fa4-4cd9-cd9b-ef592d1efd63"
      },
      "execution_count": null,
      "outputs": [
        {
          "output_type": "execute_result",
          "data": {
            "text/plain": [
              "286"
            ]
          },
          "metadata": {},
          "execution_count": 57
        }
      ]
    },
    {
      "cell_type": "code",
      "source": [
        "df_hCov_nl63 = df_hCov_nl63[(df_hCov_nl63['Sequence'].str.len() > 25000)]\n",
        "df_hCov_nl63.shape"
      ],
      "metadata": {
        "colab": {
          "base_uri": "https://localhost:8080/"
        },
        "id": "__P7anVdjpwg",
        "outputId": "a8f8371f-a315-4c97-d8c9-a2874ad00746"
      },
      "execution_count": null,
      "outputs": [
        {
          "output_type": "execute_result",
          "data": {
            "text/plain": [
              "(102, 3)"
            ]
          },
          "metadata": {},
          "execution_count": 58
        }
      ]
    },
    {
      "cell_type": "code",
      "source": [
        "## Labeling 'hCov_nl63' as '4'\n",
        "df_hCov_nl63['label'] = 4\n",
        "df_hCov_nl63.head()"
      ],
      "metadata": {
        "colab": {
          "base_uri": "https://localhost:8080/",
          "height": 206
        },
        "id": "p59rBgFvjsqf",
        "outputId": "0b541cd5-9f5b-46d7-9da3-4079f9f8c901"
      },
      "execution_count": null,
      "outputs": [
        {
          "output_type": "execute_result",
          "data": {
            "text/plain": [
              "                                         Sequence ID  \\\n",
              "0  NC_005831.2 |Human Coronavirus NL63, complete ...   \n",
              "1  LC756668.1 |Human coronavirus NL63 HCoVNL63_Fu...   \n",
              "2  ON461782.1 |Human coronavirus NL63 isolate NL6...   \n",
              "3  ON461783.1 |Human coronavirus NL63 isolate NL6...   \n",
              "4  ON461784.1 |Human coronavirus NL63 isolate NL6...   \n",
              "\n",
              "                                            Sequence strain_name  label  \n",
              "0  CTTAAAGAATTTTTCTATCTATAGATAGAGAATTTTCTTATTTAGA...   hcov-NL63      4  \n",
              "1  ATTTTTCTATCTATAGATAGAGAATTTTCTTATTTAGACTTTGTGT...   hcov-NL63      4  \n",
              "2  GTTCCGTCACNGCTTATTGTGGAAGCAACGTTCTGTCGNNNNNNNN...   hcov-NL63      4  \n",
              "3  GTGTTGTATNNNNNNNNNNNNNNCACTGGTGATTCTGTTCACTAGT...   hcov-NL63      4  \n",
              "4  AAGTGGTGTTCCGTCACTGCTTATTGTGGAAGCAACGTTCTGTCGT...   hcov-NL63      4  "
            ],
            "text/html": [
              "\n",
              "\n",
              "  <div id=\"df-4065577a-c9e1-4831-9cb7-b6879b3638c0\">\n",
              "    <div class=\"colab-df-container\">\n",
              "      <div>\n",
              "<style scoped>\n",
              "    .dataframe tbody tr th:only-of-type {\n",
              "        vertical-align: middle;\n",
              "    }\n",
              "\n",
              "    .dataframe tbody tr th {\n",
              "        vertical-align: top;\n",
              "    }\n",
              "\n",
              "    .dataframe thead th {\n",
              "        text-align: right;\n",
              "    }\n",
              "</style>\n",
              "<table border=\"1\" class=\"dataframe\">\n",
              "  <thead>\n",
              "    <tr style=\"text-align: right;\">\n",
              "      <th></th>\n",
              "      <th>Sequence ID</th>\n",
              "      <th>Sequence</th>\n",
              "      <th>strain_name</th>\n",
              "      <th>label</th>\n",
              "    </tr>\n",
              "  </thead>\n",
              "  <tbody>\n",
              "    <tr>\n",
              "      <th>0</th>\n",
              "      <td>NC_005831.2 |Human Coronavirus NL63, complete ...</td>\n",
              "      <td>CTTAAAGAATTTTTCTATCTATAGATAGAGAATTTTCTTATTTAGA...</td>\n",
              "      <td>hcov-NL63</td>\n",
              "      <td>4</td>\n",
              "    </tr>\n",
              "    <tr>\n",
              "      <th>1</th>\n",
              "      <td>LC756668.1 |Human coronavirus NL63 HCoVNL63_Fu...</td>\n",
              "      <td>ATTTTTCTATCTATAGATAGAGAATTTTCTTATTTAGACTTTGTGT...</td>\n",
              "      <td>hcov-NL63</td>\n",
              "      <td>4</td>\n",
              "    </tr>\n",
              "    <tr>\n",
              "      <th>2</th>\n",
              "      <td>ON461782.1 |Human coronavirus NL63 isolate NL6...</td>\n",
              "      <td>GTTCCGTCACNGCTTATTGTGGAAGCAACGTTCTGTCGNNNNNNNN...</td>\n",
              "      <td>hcov-NL63</td>\n",
              "      <td>4</td>\n",
              "    </tr>\n",
              "    <tr>\n",
              "      <th>3</th>\n",
              "      <td>ON461783.1 |Human coronavirus NL63 isolate NL6...</td>\n",
              "      <td>GTGTTGTATNNNNNNNNNNNNNNCACTGGTGATTCTGTTCACTAGT...</td>\n",
              "      <td>hcov-NL63</td>\n",
              "      <td>4</td>\n",
              "    </tr>\n",
              "    <tr>\n",
              "      <th>4</th>\n",
              "      <td>ON461784.1 |Human coronavirus NL63 isolate NL6...</td>\n",
              "      <td>AAGTGGTGTTCCGTCACTGCTTATTGTGGAAGCAACGTTCTGTCGT...</td>\n",
              "      <td>hcov-NL63</td>\n",
              "      <td>4</td>\n",
              "    </tr>\n",
              "  </tbody>\n",
              "</table>\n",
              "</div>\n",
              "      <button class=\"colab-df-convert\" onclick=\"convertToInteractive('df-4065577a-c9e1-4831-9cb7-b6879b3638c0')\"\n",
              "              title=\"Convert this dataframe to an interactive table.\"\n",
              "              style=\"display:none;\">\n",
              "\n",
              "  <svg xmlns=\"http://www.w3.org/2000/svg\" height=\"24px\"viewBox=\"0 0 24 24\"\n",
              "       width=\"24px\">\n",
              "    <path d=\"M0 0h24v24H0V0z\" fill=\"none\"/>\n",
              "    <path d=\"M18.56 5.44l.94 2.06.94-2.06 2.06-.94-2.06-.94-.94-2.06-.94 2.06-2.06.94zm-11 1L8.5 8.5l.94-2.06 2.06-.94-2.06-.94L8.5 2.5l-.94 2.06-2.06.94zm10 10l.94 2.06.94-2.06 2.06-.94-2.06-.94-.94-2.06-.94 2.06-2.06.94z\"/><path d=\"M17.41 7.96l-1.37-1.37c-.4-.4-.92-.59-1.43-.59-.52 0-1.04.2-1.43.59L10.3 9.45l-7.72 7.72c-.78.78-.78 2.05 0 2.83L4 21.41c.39.39.9.59 1.41.59.51 0 1.02-.2 1.41-.59l7.78-7.78 2.81-2.81c.8-.78.8-2.07 0-2.86zM5.41 20L4 18.59l7.72-7.72 1.47 1.35L5.41 20z\"/>\n",
              "  </svg>\n",
              "      </button>\n",
              "\n",
              "\n",
              "\n",
              "    <div id=\"df-db4870a4-8c67-4172-a225-9033a93a7ed7\">\n",
              "      <button class=\"colab-df-quickchart\" onclick=\"quickchart('df-db4870a4-8c67-4172-a225-9033a93a7ed7')\"\n",
              "              title=\"Suggest charts.\"\n",
              "              style=\"display:none;\">\n",
              "\n",
              "<svg xmlns=\"http://www.w3.org/2000/svg\" height=\"24px\"viewBox=\"0 0 24 24\"\n",
              "     width=\"24px\">\n",
              "    <g>\n",
              "        <path d=\"M19 3H5c-1.1 0-2 .9-2 2v14c0 1.1.9 2 2 2h14c1.1 0 2-.9 2-2V5c0-1.1-.9-2-2-2zM9 17H7v-7h2v7zm4 0h-2V7h2v10zm4 0h-2v-4h2v4z\"/>\n",
              "    </g>\n",
              "</svg>\n",
              "      </button>\n",
              "    </div>\n",
              "\n",
              "<style>\n",
              "  .colab-df-quickchart {\n",
              "    background-color: #E8F0FE;\n",
              "    border: none;\n",
              "    border-radius: 50%;\n",
              "    cursor: pointer;\n",
              "    display: none;\n",
              "    fill: #1967D2;\n",
              "    height: 32px;\n",
              "    padding: 0 0 0 0;\n",
              "    width: 32px;\n",
              "  }\n",
              "\n",
              "  .colab-df-quickchart:hover {\n",
              "    background-color: #E2EBFA;\n",
              "    box-shadow: 0px 1px 2px rgba(60, 64, 67, 0.3), 0px 1px 3px 1px rgba(60, 64, 67, 0.15);\n",
              "    fill: #174EA6;\n",
              "  }\n",
              "\n",
              "  [theme=dark] .colab-df-quickchart {\n",
              "    background-color: #3B4455;\n",
              "    fill: #D2E3FC;\n",
              "  }\n",
              "\n",
              "  [theme=dark] .colab-df-quickchart:hover {\n",
              "    background-color: #434B5C;\n",
              "    box-shadow: 0px 1px 3px 1px rgba(0, 0, 0, 0.15);\n",
              "    filter: drop-shadow(0px 1px 2px rgba(0, 0, 0, 0.3));\n",
              "    fill: #FFFFFF;\n",
              "  }\n",
              "</style>\n",
              "\n",
              "    <script>\n",
              "      async function quickchart(key) {\n",
              "        const containerElement = document.querySelector('#' + key);\n",
              "        const charts = await google.colab.kernel.invokeFunction(\n",
              "            'suggestCharts', [key], {});\n",
              "      }\n",
              "    </script>\n",
              "\n",
              "      <script>\n",
              "\n",
              "function displayQuickchartButton(domScope) {\n",
              "  let quickchartButtonEl =\n",
              "    domScope.querySelector('#df-db4870a4-8c67-4172-a225-9033a93a7ed7 button.colab-df-quickchart');\n",
              "  quickchartButtonEl.style.display =\n",
              "    google.colab.kernel.accessAllowed ? 'block' : 'none';\n",
              "}\n",
              "\n",
              "        displayQuickchartButton(document);\n",
              "      </script>\n",
              "      <style>\n",
              "    .colab-df-container {\n",
              "      display:flex;\n",
              "      flex-wrap:wrap;\n",
              "      gap: 12px;\n",
              "    }\n",
              "\n",
              "    .colab-df-convert {\n",
              "      background-color: #E8F0FE;\n",
              "      border: none;\n",
              "      border-radius: 50%;\n",
              "      cursor: pointer;\n",
              "      display: none;\n",
              "      fill: #1967D2;\n",
              "      height: 32px;\n",
              "      padding: 0 0 0 0;\n",
              "      width: 32px;\n",
              "    }\n",
              "\n",
              "    .colab-df-convert:hover {\n",
              "      background-color: #E2EBFA;\n",
              "      box-shadow: 0px 1px 2px rgba(60, 64, 67, 0.3), 0px 1px 3px 1px rgba(60, 64, 67, 0.15);\n",
              "      fill: #174EA6;\n",
              "    }\n",
              "\n",
              "    [theme=dark] .colab-df-convert {\n",
              "      background-color: #3B4455;\n",
              "      fill: #D2E3FC;\n",
              "    }\n",
              "\n",
              "    [theme=dark] .colab-df-convert:hover {\n",
              "      background-color: #434B5C;\n",
              "      box-shadow: 0px 1px 3px 1px rgba(0, 0, 0, 0.15);\n",
              "      filter: drop-shadow(0px 1px 2px rgba(0, 0, 0, 0.3));\n",
              "      fill: #FFFFFF;\n",
              "    }\n",
              "  </style>\n",
              "\n",
              "      <script>\n",
              "        const buttonEl =\n",
              "          document.querySelector('#df-4065577a-c9e1-4831-9cb7-b6879b3638c0 button.colab-df-convert');\n",
              "        buttonEl.style.display =\n",
              "          google.colab.kernel.accessAllowed ? 'block' : 'none';\n",
              "\n",
              "        async function convertToInteractive(key) {\n",
              "          const element = document.querySelector('#df-4065577a-c9e1-4831-9cb7-b6879b3638c0');\n",
              "          const dataTable =\n",
              "            await google.colab.kernel.invokeFunction('convertToInteractive',\n",
              "                                                     [key], {});\n",
              "          if (!dataTable) return;\n",
              "\n",
              "          const docLinkHtml = 'Like what you see? Visit the ' +\n",
              "            '<a target=\"_blank\" href=https://colab.research.google.com/notebooks/data_table.ipynb>data table notebook</a>'\n",
              "            + ' to learn more about interactive tables.';\n",
              "          element.innerHTML = '';\n",
              "          dataTable['output_type'] = 'display_data';\n",
              "          await google.colab.output.renderOutput(dataTable, element);\n",
              "          const docLink = document.createElement('div');\n",
              "          docLink.innerHTML = docLinkHtml;\n",
              "          element.appendChild(docLink);\n",
              "        }\n",
              "      </script>\n",
              "    </div>\n",
              "  </div>\n"
            ]
          },
          "metadata": {},
          "execution_count": 59
        }
      ]
    },
    {
      "cell_type": "markdown",
      "source": [
        "### Working with HCoV-HKU1 Genome Sequences"
      ],
      "metadata": {
        "id": "6wbRqfjPjv1a"
      }
    },
    {
      "cell_type": "code",
      "source": [
        "convert_fasta_to_csv(datapath + 'HCoV-HKU1.fasta','hcov_hku1.csv')"
      ],
      "metadata": {
        "colab": {
          "base_uri": "https://localhost:8080/"
        },
        "id": "qGm_RFSgj7Em",
        "outputId": "8ad8a54f-cfe6-40b0-90be-f390449cbe19"
      },
      "execution_count": null,
      "outputs": [
        {
          "output_type": "stream",
          "name": "stdout",
          "text": [
            "Conversion complete. CSV file saved as hcov_hku1.csv.\n"
          ]
        }
      ]
    },
    {
      "cell_type": "code",
      "source": [
        "df_hCov_hku1= pd.read_csv('hcov_hku1.csv')\n",
        "df_hCov_hku1['strain_name'] = 'hcov-HKU1'\n",
        "df_hCov_hku1.head()"
      ],
      "metadata": {
        "colab": {
          "base_uri": "https://localhost:8080/",
          "height": 206
        },
        "id": "OMaWb1GFj8qw",
        "outputId": "d1566ac2-9af5-429a-a56f-7f887baaf287"
      },
      "execution_count": null,
      "outputs": [
        {
          "output_type": "execute_result",
          "data": {
            "text/plain": [
              "                                         Sequence ID  \\\n",
              "0  NC_006577.2 |Human coronavirus HKU1, complete ...   \n",
              "1  ON381261.1 |Human coronavirus HKU1 isolate KHA...   \n",
              "2  ON461755.1 |Human coronavirus HKU1 isolate HKU...   \n",
              "3  ON461756.1 |Human coronavirus HKU1 isolate HKU...   \n",
              "4  ON461757.1 |Human coronavirus HKU1 isolate HKU...   \n",
              "\n",
              "                                            Sequence strain_name  \n",
              "0  GAGTTTGAGCGATTGACGTTCGTACCGTCTATCAGCTTACGATCTC...   hcov-HKU1  \n",
              "1  AGAGCTATGCCAAATATTTTGCGTATTGTTAGTAGTTTAGTTTTGG...   hcov-HKU1  \n",
              "2  TCTATCAGCTTACGATCTCTTGTCAGATCTCATTAAATCTAAACTT...   hcov-HKU1  \n",
              "3  ATTGACGTTCGTACCGTCTATCAGCTTACGATCTCTTGTCAGATCT...   hcov-HKU1  \n",
              "4  TTGAGCGATTGACGTTCGTACCGTCTATCAGCTTACGATCTCTTGT...   hcov-HKU1  "
            ],
            "text/html": [
              "\n",
              "\n",
              "  <div id=\"df-ebc0e86f-7c5a-4f96-a5e3-4613f59f0a77\">\n",
              "    <div class=\"colab-df-container\">\n",
              "      <div>\n",
              "<style scoped>\n",
              "    .dataframe tbody tr th:only-of-type {\n",
              "        vertical-align: middle;\n",
              "    }\n",
              "\n",
              "    .dataframe tbody tr th {\n",
              "        vertical-align: top;\n",
              "    }\n",
              "\n",
              "    .dataframe thead th {\n",
              "        text-align: right;\n",
              "    }\n",
              "</style>\n",
              "<table border=\"1\" class=\"dataframe\">\n",
              "  <thead>\n",
              "    <tr style=\"text-align: right;\">\n",
              "      <th></th>\n",
              "      <th>Sequence ID</th>\n",
              "      <th>Sequence</th>\n",
              "      <th>strain_name</th>\n",
              "    </tr>\n",
              "  </thead>\n",
              "  <tbody>\n",
              "    <tr>\n",
              "      <th>0</th>\n",
              "      <td>NC_006577.2 |Human coronavirus HKU1, complete ...</td>\n",
              "      <td>GAGTTTGAGCGATTGACGTTCGTACCGTCTATCAGCTTACGATCTC...</td>\n",
              "      <td>hcov-HKU1</td>\n",
              "    </tr>\n",
              "    <tr>\n",
              "      <th>1</th>\n",
              "      <td>ON381261.1 |Human coronavirus HKU1 isolate KHA...</td>\n",
              "      <td>AGAGCTATGCCAAATATTTTGCGTATTGTTAGTAGTTTAGTTTTGG...</td>\n",
              "      <td>hcov-HKU1</td>\n",
              "    </tr>\n",
              "    <tr>\n",
              "      <th>2</th>\n",
              "      <td>ON461755.1 |Human coronavirus HKU1 isolate HKU...</td>\n",
              "      <td>TCTATCAGCTTACGATCTCTTGTCAGATCTCATTAAATCTAAACTT...</td>\n",
              "      <td>hcov-HKU1</td>\n",
              "    </tr>\n",
              "    <tr>\n",
              "      <th>3</th>\n",
              "      <td>ON461756.1 |Human coronavirus HKU1 isolate HKU...</td>\n",
              "      <td>ATTGACGTTCGTACCGTCTATCAGCTTACGATCTCTTGTCAGATCT...</td>\n",
              "      <td>hcov-HKU1</td>\n",
              "    </tr>\n",
              "    <tr>\n",
              "      <th>4</th>\n",
              "      <td>ON461757.1 |Human coronavirus HKU1 isolate HKU...</td>\n",
              "      <td>TTGAGCGATTGACGTTCGTACCGTCTATCAGCTTACGATCTCTTGT...</td>\n",
              "      <td>hcov-HKU1</td>\n",
              "    </tr>\n",
              "  </tbody>\n",
              "</table>\n",
              "</div>\n",
              "      <button class=\"colab-df-convert\" onclick=\"convertToInteractive('df-ebc0e86f-7c5a-4f96-a5e3-4613f59f0a77')\"\n",
              "              title=\"Convert this dataframe to an interactive table.\"\n",
              "              style=\"display:none;\">\n",
              "\n",
              "  <svg xmlns=\"http://www.w3.org/2000/svg\" height=\"24px\"viewBox=\"0 0 24 24\"\n",
              "       width=\"24px\">\n",
              "    <path d=\"M0 0h24v24H0V0z\" fill=\"none\"/>\n",
              "    <path d=\"M18.56 5.44l.94 2.06.94-2.06 2.06-.94-2.06-.94-.94-2.06-.94 2.06-2.06.94zm-11 1L8.5 8.5l.94-2.06 2.06-.94-2.06-.94L8.5 2.5l-.94 2.06-2.06.94zm10 10l.94 2.06.94-2.06 2.06-.94-2.06-.94-.94-2.06-.94 2.06-2.06.94z\"/><path d=\"M17.41 7.96l-1.37-1.37c-.4-.4-.92-.59-1.43-.59-.52 0-1.04.2-1.43.59L10.3 9.45l-7.72 7.72c-.78.78-.78 2.05 0 2.83L4 21.41c.39.39.9.59 1.41.59.51 0 1.02-.2 1.41-.59l7.78-7.78 2.81-2.81c.8-.78.8-2.07 0-2.86zM5.41 20L4 18.59l7.72-7.72 1.47 1.35L5.41 20z\"/>\n",
              "  </svg>\n",
              "      </button>\n",
              "\n",
              "\n",
              "\n",
              "    <div id=\"df-937c1678-c613-4e33-9434-feb6a37ad2de\">\n",
              "      <button class=\"colab-df-quickchart\" onclick=\"quickchart('df-937c1678-c613-4e33-9434-feb6a37ad2de')\"\n",
              "              title=\"Suggest charts.\"\n",
              "              style=\"display:none;\">\n",
              "\n",
              "<svg xmlns=\"http://www.w3.org/2000/svg\" height=\"24px\"viewBox=\"0 0 24 24\"\n",
              "     width=\"24px\">\n",
              "    <g>\n",
              "        <path d=\"M19 3H5c-1.1 0-2 .9-2 2v14c0 1.1.9 2 2 2h14c1.1 0 2-.9 2-2V5c0-1.1-.9-2-2-2zM9 17H7v-7h2v7zm4 0h-2V7h2v10zm4 0h-2v-4h2v4z\"/>\n",
              "    </g>\n",
              "</svg>\n",
              "      </button>\n",
              "    </div>\n",
              "\n",
              "<style>\n",
              "  .colab-df-quickchart {\n",
              "    background-color: #E8F0FE;\n",
              "    border: none;\n",
              "    border-radius: 50%;\n",
              "    cursor: pointer;\n",
              "    display: none;\n",
              "    fill: #1967D2;\n",
              "    height: 32px;\n",
              "    padding: 0 0 0 0;\n",
              "    width: 32px;\n",
              "  }\n",
              "\n",
              "  .colab-df-quickchart:hover {\n",
              "    background-color: #E2EBFA;\n",
              "    box-shadow: 0px 1px 2px rgba(60, 64, 67, 0.3), 0px 1px 3px 1px rgba(60, 64, 67, 0.15);\n",
              "    fill: #174EA6;\n",
              "  }\n",
              "\n",
              "  [theme=dark] .colab-df-quickchart {\n",
              "    background-color: #3B4455;\n",
              "    fill: #D2E3FC;\n",
              "  }\n",
              "\n",
              "  [theme=dark] .colab-df-quickchart:hover {\n",
              "    background-color: #434B5C;\n",
              "    box-shadow: 0px 1px 3px 1px rgba(0, 0, 0, 0.15);\n",
              "    filter: drop-shadow(0px 1px 2px rgba(0, 0, 0, 0.3));\n",
              "    fill: #FFFFFF;\n",
              "  }\n",
              "</style>\n",
              "\n",
              "    <script>\n",
              "      async function quickchart(key) {\n",
              "        const containerElement = document.querySelector('#' + key);\n",
              "        const charts = await google.colab.kernel.invokeFunction(\n",
              "            'suggestCharts', [key], {});\n",
              "      }\n",
              "    </script>\n",
              "\n",
              "      <script>\n",
              "\n",
              "function displayQuickchartButton(domScope) {\n",
              "  let quickchartButtonEl =\n",
              "    domScope.querySelector('#df-937c1678-c613-4e33-9434-feb6a37ad2de button.colab-df-quickchart');\n",
              "  quickchartButtonEl.style.display =\n",
              "    google.colab.kernel.accessAllowed ? 'block' : 'none';\n",
              "}\n",
              "\n",
              "        displayQuickchartButton(document);\n",
              "      </script>\n",
              "      <style>\n",
              "    .colab-df-container {\n",
              "      display:flex;\n",
              "      flex-wrap:wrap;\n",
              "      gap: 12px;\n",
              "    }\n",
              "\n",
              "    .colab-df-convert {\n",
              "      background-color: #E8F0FE;\n",
              "      border: none;\n",
              "      border-radius: 50%;\n",
              "      cursor: pointer;\n",
              "      display: none;\n",
              "      fill: #1967D2;\n",
              "      height: 32px;\n",
              "      padding: 0 0 0 0;\n",
              "      width: 32px;\n",
              "    }\n",
              "\n",
              "    .colab-df-convert:hover {\n",
              "      background-color: #E2EBFA;\n",
              "      box-shadow: 0px 1px 2px rgba(60, 64, 67, 0.3), 0px 1px 3px 1px rgba(60, 64, 67, 0.15);\n",
              "      fill: #174EA6;\n",
              "    }\n",
              "\n",
              "    [theme=dark] .colab-df-convert {\n",
              "      background-color: #3B4455;\n",
              "      fill: #D2E3FC;\n",
              "    }\n",
              "\n",
              "    [theme=dark] .colab-df-convert:hover {\n",
              "      background-color: #434B5C;\n",
              "      box-shadow: 0px 1px 3px 1px rgba(0, 0, 0, 0.15);\n",
              "      filter: drop-shadow(0px 1px 2px rgba(0, 0, 0, 0.3));\n",
              "      fill: #FFFFFF;\n",
              "    }\n",
              "  </style>\n",
              "\n",
              "      <script>\n",
              "        const buttonEl =\n",
              "          document.querySelector('#df-ebc0e86f-7c5a-4f96-a5e3-4613f59f0a77 button.colab-df-convert');\n",
              "        buttonEl.style.display =\n",
              "          google.colab.kernel.accessAllowed ? 'block' : 'none';\n",
              "\n",
              "        async function convertToInteractive(key) {\n",
              "          const element = document.querySelector('#df-ebc0e86f-7c5a-4f96-a5e3-4613f59f0a77');\n",
              "          const dataTable =\n",
              "            await google.colab.kernel.invokeFunction('convertToInteractive',\n",
              "                                                     [key], {});\n",
              "          if (!dataTable) return;\n",
              "\n",
              "          const docLinkHtml = 'Like what you see? Visit the ' +\n",
              "            '<a target=\"_blank\" href=https://colab.research.google.com/notebooks/data_table.ipynb>data table notebook</a>'\n",
              "            + ' to learn more about interactive tables.';\n",
              "          element.innerHTML = '';\n",
              "          dataTable['output_type'] = 'display_data';\n",
              "          await google.colab.output.renderOutput(dataTable, element);\n",
              "          const docLink = document.createElement('div');\n",
              "          docLink.innerHTML = docLinkHtml;\n",
              "          element.appendChild(docLink);\n",
              "        }\n",
              "      </script>\n",
              "    </div>\n",
              "  </div>\n"
            ]
          },
          "metadata": {},
          "execution_count": 61
        }
      ]
    },
    {
      "cell_type": "code",
      "source": [
        "max_len_hCov_hku1 = max([len(seq) for seq in df_hCov_hku1['Sequence']])\n",
        "max_len_hCov_hku1"
      ],
      "metadata": {
        "colab": {
          "base_uri": "https://localhost:8080/"
        },
        "id": "JOY3m5F0kAQK",
        "outputId": "6215bb8c-5e51-49e1-e5d7-cd05e23022db"
      },
      "execution_count": null,
      "outputs": [
        {
          "output_type": "execute_result",
          "data": {
            "text/plain": [
              "30144"
            ]
          },
          "metadata": {},
          "execution_count": 62
        }
      ]
    },
    {
      "cell_type": "code",
      "source": [
        "min_len_hCov_hku1 = min([len(seq) for seq in df_hCov_hku1['Sequence']])\n",
        "min_len_hCov_hku1"
      ],
      "metadata": {
        "colab": {
          "base_uri": "https://localhost:8080/"
        },
        "id": "jgqQenHDkB-2",
        "outputId": "fa06526b-1428-432f-f961-80018e1e081d"
      },
      "execution_count": null,
      "outputs": [
        {
          "output_type": "execute_result",
          "data": {
            "text/plain": [
              "212"
            ]
          },
          "metadata": {},
          "execution_count": 63
        }
      ]
    },
    {
      "cell_type": "code",
      "source": [
        "df_hCov_hku1 = df_hCov_hku1[(df_hCov_hku1['Sequence'].str.len() > 25000)]\n",
        "df_hCov_hku1.shape"
      ],
      "metadata": {
        "colab": {
          "base_uri": "https://localhost:8080/"
        },
        "id": "6GUoJr1KkHma",
        "outputId": "d6c85e07-5b28-41c2-b1fb-498e891dce2f"
      },
      "execution_count": null,
      "outputs": [
        {
          "output_type": "execute_result",
          "data": {
            "text/plain": [
              "(60, 3)"
            ]
          },
          "metadata": {},
          "execution_count": 96
        }
      ]
    },
    {
      "cell_type": "code",
      "source": [
        "## Labeling 'hCov_hku1' as '5'\n",
        "df_hCov_hku1['label'] = 5\n",
        "df_hCov_hku1.head()"
      ],
      "metadata": {
        "colab": {
          "base_uri": "https://localhost:8080/",
          "height": 206
        },
        "id": "CCw4hWiykJHp",
        "outputId": "d345cb2d-36f5-40c0-ac69-4a76e0c8e3ce"
      },
      "execution_count": null,
      "outputs": [
        {
          "output_type": "execute_result",
          "data": {
            "text/plain": [
              "                                         Sequence ID  \\\n",
              "0  NC_006577.2 |Human coronavirus HKU1, complete ...   \n",
              "1  ON381261.1 |Human coronavirus HKU1 isolate KHA...   \n",
              "2  ON461755.1 |Human coronavirus HKU1 isolate HKU...   \n",
              "3  ON461756.1 |Human coronavirus HKU1 isolate HKU...   \n",
              "4  ON461757.1 |Human coronavirus HKU1 isolate HKU...   \n",
              "\n",
              "                                            Sequence strain_name  label  \n",
              "0  GAGTTTGAGCGATTGACGTTCGTACCGTCTATCAGCTTACGATCTC...   hcov-HKU1      5  \n",
              "1  AGAGCTATGCCAAATATTTTGCGTATTGTTAGTAGTTTAGTTTTGG...   hcov-HKU1      5  \n",
              "2  TCTATCAGCTTACGATCTCTTGTCAGATCTCATTAAATCTAAACTT...   hcov-HKU1      5  \n",
              "3  ATTGACGTTCGTACCGTCTATCAGCTTACGATCTCTTGTCAGATCT...   hcov-HKU1      5  \n",
              "4  TTGAGCGATTGACGTTCGTACCGTCTATCAGCTTACGATCTCTTGT...   hcov-HKU1      5  "
            ],
            "text/html": [
              "\n",
              "\n",
              "  <div id=\"df-9e2f9319-c3f7-484f-ad92-8914745043a3\">\n",
              "    <div class=\"colab-df-container\">\n",
              "      <div>\n",
              "<style scoped>\n",
              "    .dataframe tbody tr th:only-of-type {\n",
              "        vertical-align: middle;\n",
              "    }\n",
              "\n",
              "    .dataframe tbody tr th {\n",
              "        vertical-align: top;\n",
              "    }\n",
              "\n",
              "    .dataframe thead th {\n",
              "        text-align: right;\n",
              "    }\n",
              "</style>\n",
              "<table border=\"1\" class=\"dataframe\">\n",
              "  <thead>\n",
              "    <tr style=\"text-align: right;\">\n",
              "      <th></th>\n",
              "      <th>Sequence ID</th>\n",
              "      <th>Sequence</th>\n",
              "      <th>strain_name</th>\n",
              "      <th>label</th>\n",
              "    </tr>\n",
              "  </thead>\n",
              "  <tbody>\n",
              "    <tr>\n",
              "      <th>0</th>\n",
              "      <td>NC_006577.2 |Human coronavirus HKU1, complete ...</td>\n",
              "      <td>GAGTTTGAGCGATTGACGTTCGTACCGTCTATCAGCTTACGATCTC...</td>\n",
              "      <td>hcov-HKU1</td>\n",
              "      <td>5</td>\n",
              "    </tr>\n",
              "    <tr>\n",
              "      <th>1</th>\n",
              "      <td>ON381261.1 |Human coronavirus HKU1 isolate KHA...</td>\n",
              "      <td>AGAGCTATGCCAAATATTTTGCGTATTGTTAGTAGTTTAGTTTTGG...</td>\n",
              "      <td>hcov-HKU1</td>\n",
              "      <td>5</td>\n",
              "    </tr>\n",
              "    <tr>\n",
              "      <th>2</th>\n",
              "      <td>ON461755.1 |Human coronavirus HKU1 isolate HKU...</td>\n",
              "      <td>TCTATCAGCTTACGATCTCTTGTCAGATCTCATTAAATCTAAACTT...</td>\n",
              "      <td>hcov-HKU1</td>\n",
              "      <td>5</td>\n",
              "    </tr>\n",
              "    <tr>\n",
              "      <th>3</th>\n",
              "      <td>ON461756.1 |Human coronavirus HKU1 isolate HKU...</td>\n",
              "      <td>ATTGACGTTCGTACCGTCTATCAGCTTACGATCTCTTGTCAGATCT...</td>\n",
              "      <td>hcov-HKU1</td>\n",
              "      <td>5</td>\n",
              "    </tr>\n",
              "    <tr>\n",
              "      <th>4</th>\n",
              "      <td>ON461757.1 |Human coronavirus HKU1 isolate HKU...</td>\n",
              "      <td>TTGAGCGATTGACGTTCGTACCGTCTATCAGCTTACGATCTCTTGT...</td>\n",
              "      <td>hcov-HKU1</td>\n",
              "      <td>5</td>\n",
              "    </tr>\n",
              "  </tbody>\n",
              "</table>\n",
              "</div>\n",
              "      <button class=\"colab-df-convert\" onclick=\"convertToInteractive('df-9e2f9319-c3f7-484f-ad92-8914745043a3')\"\n",
              "              title=\"Convert this dataframe to an interactive table.\"\n",
              "              style=\"display:none;\">\n",
              "\n",
              "  <svg xmlns=\"http://www.w3.org/2000/svg\" height=\"24px\"viewBox=\"0 0 24 24\"\n",
              "       width=\"24px\">\n",
              "    <path d=\"M0 0h24v24H0V0z\" fill=\"none\"/>\n",
              "    <path d=\"M18.56 5.44l.94 2.06.94-2.06 2.06-.94-2.06-.94-.94-2.06-.94 2.06-2.06.94zm-11 1L8.5 8.5l.94-2.06 2.06-.94-2.06-.94L8.5 2.5l-.94 2.06-2.06.94zm10 10l.94 2.06.94-2.06 2.06-.94-2.06-.94-.94-2.06-.94 2.06-2.06.94z\"/><path d=\"M17.41 7.96l-1.37-1.37c-.4-.4-.92-.59-1.43-.59-.52 0-1.04.2-1.43.59L10.3 9.45l-7.72 7.72c-.78.78-.78 2.05 0 2.83L4 21.41c.39.39.9.59 1.41.59.51 0 1.02-.2 1.41-.59l7.78-7.78 2.81-2.81c.8-.78.8-2.07 0-2.86zM5.41 20L4 18.59l7.72-7.72 1.47 1.35L5.41 20z\"/>\n",
              "  </svg>\n",
              "      </button>\n",
              "\n",
              "\n",
              "\n",
              "    <div id=\"df-8100f9e9-3874-4161-998e-54de3f48c866\">\n",
              "      <button class=\"colab-df-quickchart\" onclick=\"quickchart('df-8100f9e9-3874-4161-998e-54de3f48c866')\"\n",
              "              title=\"Suggest charts.\"\n",
              "              style=\"display:none;\">\n",
              "\n",
              "<svg xmlns=\"http://www.w3.org/2000/svg\" height=\"24px\"viewBox=\"0 0 24 24\"\n",
              "     width=\"24px\">\n",
              "    <g>\n",
              "        <path d=\"M19 3H5c-1.1 0-2 .9-2 2v14c0 1.1.9 2 2 2h14c1.1 0 2-.9 2-2V5c0-1.1-.9-2-2-2zM9 17H7v-7h2v7zm4 0h-2V7h2v10zm4 0h-2v-4h2v4z\"/>\n",
              "    </g>\n",
              "</svg>\n",
              "      </button>\n",
              "    </div>\n",
              "\n",
              "<style>\n",
              "  .colab-df-quickchart {\n",
              "    background-color: #E8F0FE;\n",
              "    border: none;\n",
              "    border-radius: 50%;\n",
              "    cursor: pointer;\n",
              "    display: none;\n",
              "    fill: #1967D2;\n",
              "    height: 32px;\n",
              "    padding: 0 0 0 0;\n",
              "    width: 32px;\n",
              "  }\n",
              "\n",
              "  .colab-df-quickchart:hover {\n",
              "    background-color: #E2EBFA;\n",
              "    box-shadow: 0px 1px 2px rgba(60, 64, 67, 0.3), 0px 1px 3px 1px rgba(60, 64, 67, 0.15);\n",
              "    fill: #174EA6;\n",
              "  }\n",
              "\n",
              "  [theme=dark] .colab-df-quickchart {\n",
              "    background-color: #3B4455;\n",
              "    fill: #D2E3FC;\n",
              "  }\n",
              "\n",
              "  [theme=dark] .colab-df-quickchart:hover {\n",
              "    background-color: #434B5C;\n",
              "    box-shadow: 0px 1px 3px 1px rgba(0, 0, 0, 0.15);\n",
              "    filter: drop-shadow(0px 1px 2px rgba(0, 0, 0, 0.3));\n",
              "    fill: #FFFFFF;\n",
              "  }\n",
              "</style>\n",
              "\n",
              "    <script>\n",
              "      async function quickchart(key) {\n",
              "        const containerElement = document.querySelector('#' + key);\n",
              "        const charts = await google.colab.kernel.invokeFunction(\n",
              "            'suggestCharts', [key], {});\n",
              "      }\n",
              "    </script>\n",
              "\n",
              "      <script>\n",
              "\n",
              "function displayQuickchartButton(domScope) {\n",
              "  let quickchartButtonEl =\n",
              "    domScope.querySelector('#df-8100f9e9-3874-4161-998e-54de3f48c866 button.colab-df-quickchart');\n",
              "  quickchartButtonEl.style.display =\n",
              "    google.colab.kernel.accessAllowed ? 'block' : 'none';\n",
              "}\n",
              "\n",
              "        displayQuickchartButton(document);\n",
              "      </script>\n",
              "      <style>\n",
              "    .colab-df-container {\n",
              "      display:flex;\n",
              "      flex-wrap:wrap;\n",
              "      gap: 12px;\n",
              "    }\n",
              "\n",
              "    .colab-df-convert {\n",
              "      background-color: #E8F0FE;\n",
              "      border: none;\n",
              "      border-radius: 50%;\n",
              "      cursor: pointer;\n",
              "      display: none;\n",
              "      fill: #1967D2;\n",
              "      height: 32px;\n",
              "      padding: 0 0 0 0;\n",
              "      width: 32px;\n",
              "    }\n",
              "\n",
              "    .colab-df-convert:hover {\n",
              "      background-color: #E2EBFA;\n",
              "      box-shadow: 0px 1px 2px rgba(60, 64, 67, 0.3), 0px 1px 3px 1px rgba(60, 64, 67, 0.15);\n",
              "      fill: #174EA6;\n",
              "    }\n",
              "\n",
              "    [theme=dark] .colab-df-convert {\n",
              "      background-color: #3B4455;\n",
              "      fill: #D2E3FC;\n",
              "    }\n",
              "\n",
              "    [theme=dark] .colab-df-convert:hover {\n",
              "      background-color: #434B5C;\n",
              "      box-shadow: 0px 1px 3px 1px rgba(0, 0, 0, 0.15);\n",
              "      filter: drop-shadow(0px 1px 2px rgba(0, 0, 0, 0.3));\n",
              "      fill: #FFFFFF;\n",
              "    }\n",
              "  </style>\n",
              "\n",
              "      <script>\n",
              "        const buttonEl =\n",
              "          document.querySelector('#df-9e2f9319-c3f7-484f-ad92-8914745043a3 button.colab-df-convert');\n",
              "        buttonEl.style.display =\n",
              "          google.colab.kernel.accessAllowed ? 'block' : 'none';\n",
              "\n",
              "        async function convertToInteractive(key) {\n",
              "          const element = document.querySelector('#df-9e2f9319-c3f7-484f-ad92-8914745043a3');\n",
              "          const dataTable =\n",
              "            await google.colab.kernel.invokeFunction('convertToInteractive',\n",
              "                                                     [key], {});\n",
              "          if (!dataTable) return;\n",
              "\n",
              "          const docLinkHtml = 'Like what you see? Visit the ' +\n",
              "            '<a target=\"_blank\" href=https://colab.research.google.com/notebooks/data_table.ipynb>data table notebook</a>'\n",
              "            + ' to learn more about interactive tables.';\n",
              "          element.innerHTML = '';\n",
              "          dataTable['output_type'] = 'display_data';\n",
              "          await google.colab.output.renderOutput(dataTable, element);\n",
              "          const docLink = document.createElement('div');\n",
              "          docLink.innerHTML = docLinkHtml;\n",
              "          element.appendChild(docLink);\n",
              "        }\n",
              "      </script>\n",
              "    </div>\n",
              "  </div>\n"
            ]
          },
          "metadata": {},
          "execution_count": 64
        }
      ]
    },
    {
      "cell_type": "markdown",
      "source": [
        "### Working with SARS-CoV Genome Sequences"
      ],
      "metadata": {
        "id": "PfBUZReXkNeh"
      }
    },
    {
      "cell_type": "code",
      "source": [
        "convert_fasta_to_csv(datapath + 'SARSr-COV.fasta', 'sars-cov.csv')"
      ],
      "metadata": {
        "colab": {
          "base_uri": "https://localhost:8080/"
        },
        "id": "w1iC3OGykT8k",
        "outputId": "3483b6a7-76ec-4a81-ea82-7e5f202e6c69"
      },
      "execution_count": null,
      "outputs": [
        {
          "output_type": "stream",
          "name": "stdout",
          "text": [
            "Conversion complete. CSV file saved as sars-cov.csv.\n"
          ]
        }
      ]
    },
    {
      "cell_type": "code",
      "source": [
        "df_sarsCov = pd.read_csv('sars-cov.csv')\n",
        "df_sarsCov['strain_name'] = 'sars-cov'\n",
        "df_sarsCov.head()"
      ],
      "metadata": {
        "colab": {
          "base_uri": "https://localhost:8080/",
          "height": 206
        },
        "id": "voCGVpfHkVX0",
        "outputId": "53eaa5ae-574e-4d40-99ad-7f518b4530f5"
      },
      "execution_count": null,
      "outputs": [
        {
          "output_type": "execute_result",
          "data": {
            "text/plain": [
              "                                         Sequence ID  \\\n",
              "0  NC_045512 |Wuhan seafood market pneumonia viru...   \n",
              "1       NC_004718 |SARS coronavirus| complete genome   \n",
              "2  MT186676 |Severe acute respiratory syndrome co...   \n",
              "3  MT186677 |Severe acute respiratory syndrome co...   \n",
              "4  MT186678 |Severe acute respiratory syndrome co...   \n",
              "\n",
              "                                            Sequence strain_name  \n",
              "0  ATTAAAGGTTTATACCTTCCCAGGTAACAAACCAACCAACTTTCGA...    sars-cov  \n",
              "1  ATATTAGGTTTTTACCTACCCAGGAAAAGCCAACCAACCTCGATCT...    sars-cov  \n",
              "2  CGCGATCAAAACAACGTCGGCCCCAAGGTTTACCCAATAATACTGC...    sars-cov  \n",
              "3  CGCGATCAAAACAACGTCGGCCCCAAGGTTTACCCAATAATACTGC...    sars-cov  \n",
              "4  CGCGATCAAAACAACGTCGGCCCCAAGGTTTACCCAATAATACTGC...    sars-cov  "
            ],
            "text/html": [
              "\n",
              "\n",
              "  <div id=\"df-529e9de9-ff53-4f69-aa9b-ef59950c96f8\">\n",
              "    <div class=\"colab-df-container\">\n",
              "      <div>\n",
              "<style scoped>\n",
              "    .dataframe tbody tr th:only-of-type {\n",
              "        vertical-align: middle;\n",
              "    }\n",
              "\n",
              "    .dataframe tbody tr th {\n",
              "        vertical-align: top;\n",
              "    }\n",
              "\n",
              "    .dataframe thead th {\n",
              "        text-align: right;\n",
              "    }\n",
              "</style>\n",
              "<table border=\"1\" class=\"dataframe\">\n",
              "  <thead>\n",
              "    <tr style=\"text-align: right;\">\n",
              "      <th></th>\n",
              "      <th>Sequence ID</th>\n",
              "      <th>Sequence</th>\n",
              "      <th>strain_name</th>\n",
              "    </tr>\n",
              "  </thead>\n",
              "  <tbody>\n",
              "    <tr>\n",
              "      <th>0</th>\n",
              "      <td>NC_045512 |Wuhan seafood market pneumonia viru...</td>\n",
              "      <td>ATTAAAGGTTTATACCTTCCCAGGTAACAAACCAACCAACTTTCGA...</td>\n",
              "      <td>sars-cov</td>\n",
              "    </tr>\n",
              "    <tr>\n",
              "      <th>1</th>\n",
              "      <td>NC_004718 |SARS coronavirus| complete genome</td>\n",
              "      <td>ATATTAGGTTTTTACCTACCCAGGAAAAGCCAACCAACCTCGATCT...</td>\n",
              "      <td>sars-cov</td>\n",
              "    </tr>\n",
              "    <tr>\n",
              "      <th>2</th>\n",
              "      <td>MT186676 |Severe acute respiratory syndrome co...</td>\n",
              "      <td>CGCGATCAAAACAACGTCGGCCCCAAGGTTTACCCAATAATACTGC...</td>\n",
              "      <td>sars-cov</td>\n",
              "    </tr>\n",
              "    <tr>\n",
              "      <th>3</th>\n",
              "      <td>MT186677 |Severe acute respiratory syndrome co...</td>\n",
              "      <td>CGCGATCAAAACAACGTCGGCCCCAAGGTTTACCCAATAATACTGC...</td>\n",
              "      <td>sars-cov</td>\n",
              "    </tr>\n",
              "    <tr>\n",
              "      <th>4</th>\n",
              "      <td>MT186678 |Severe acute respiratory syndrome co...</td>\n",
              "      <td>CGCGATCAAAACAACGTCGGCCCCAAGGTTTACCCAATAATACTGC...</td>\n",
              "      <td>sars-cov</td>\n",
              "    </tr>\n",
              "  </tbody>\n",
              "</table>\n",
              "</div>\n",
              "      <button class=\"colab-df-convert\" onclick=\"convertToInteractive('df-529e9de9-ff53-4f69-aa9b-ef59950c96f8')\"\n",
              "              title=\"Convert this dataframe to an interactive table.\"\n",
              "              style=\"display:none;\">\n",
              "\n",
              "  <svg xmlns=\"http://www.w3.org/2000/svg\" height=\"24px\"viewBox=\"0 0 24 24\"\n",
              "       width=\"24px\">\n",
              "    <path d=\"M0 0h24v24H0V0z\" fill=\"none\"/>\n",
              "    <path d=\"M18.56 5.44l.94 2.06.94-2.06 2.06-.94-2.06-.94-.94-2.06-.94 2.06-2.06.94zm-11 1L8.5 8.5l.94-2.06 2.06-.94-2.06-.94L8.5 2.5l-.94 2.06-2.06.94zm10 10l.94 2.06.94-2.06 2.06-.94-2.06-.94-.94-2.06-.94 2.06-2.06.94z\"/><path d=\"M17.41 7.96l-1.37-1.37c-.4-.4-.92-.59-1.43-.59-.52 0-1.04.2-1.43.59L10.3 9.45l-7.72 7.72c-.78.78-.78 2.05 0 2.83L4 21.41c.39.39.9.59 1.41.59.51 0 1.02-.2 1.41-.59l7.78-7.78 2.81-2.81c.8-.78.8-2.07 0-2.86zM5.41 20L4 18.59l7.72-7.72 1.47 1.35L5.41 20z\"/>\n",
              "  </svg>\n",
              "      </button>\n",
              "\n",
              "\n",
              "\n",
              "    <div id=\"df-e43e9ebe-a803-4f4e-b09e-14b2f1f7ffd8\">\n",
              "      <button class=\"colab-df-quickchart\" onclick=\"quickchart('df-e43e9ebe-a803-4f4e-b09e-14b2f1f7ffd8')\"\n",
              "              title=\"Suggest charts.\"\n",
              "              style=\"display:none;\">\n",
              "\n",
              "<svg xmlns=\"http://www.w3.org/2000/svg\" height=\"24px\"viewBox=\"0 0 24 24\"\n",
              "     width=\"24px\">\n",
              "    <g>\n",
              "        <path d=\"M19 3H5c-1.1 0-2 .9-2 2v14c0 1.1.9 2 2 2h14c1.1 0 2-.9 2-2V5c0-1.1-.9-2-2-2zM9 17H7v-7h2v7zm4 0h-2V7h2v10zm4 0h-2v-4h2v4z\"/>\n",
              "    </g>\n",
              "</svg>\n",
              "      </button>\n",
              "    </div>\n",
              "\n",
              "<style>\n",
              "  .colab-df-quickchart {\n",
              "    background-color: #E8F0FE;\n",
              "    border: none;\n",
              "    border-radius: 50%;\n",
              "    cursor: pointer;\n",
              "    display: none;\n",
              "    fill: #1967D2;\n",
              "    height: 32px;\n",
              "    padding: 0 0 0 0;\n",
              "    width: 32px;\n",
              "  }\n",
              "\n",
              "  .colab-df-quickchart:hover {\n",
              "    background-color: #E2EBFA;\n",
              "    box-shadow: 0px 1px 2px rgba(60, 64, 67, 0.3), 0px 1px 3px 1px rgba(60, 64, 67, 0.15);\n",
              "    fill: #174EA6;\n",
              "  }\n",
              "\n",
              "  [theme=dark] .colab-df-quickchart {\n",
              "    background-color: #3B4455;\n",
              "    fill: #D2E3FC;\n",
              "  }\n",
              "\n",
              "  [theme=dark] .colab-df-quickchart:hover {\n",
              "    background-color: #434B5C;\n",
              "    box-shadow: 0px 1px 3px 1px rgba(0, 0, 0, 0.15);\n",
              "    filter: drop-shadow(0px 1px 2px rgba(0, 0, 0, 0.3));\n",
              "    fill: #FFFFFF;\n",
              "  }\n",
              "</style>\n",
              "\n",
              "    <script>\n",
              "      async function quickchart(key) {\n",
              "        const containerElement = document.querySelector('#' + key);\n",
              "        const charts = await google.colab.kernel.invokeFunction(\n",
              "            'suggestCharts', [key], {});\n",
              "      }\n",
              "    </script>\n",
              "\n",
              "      <script>\n",
              "\n",
              "function displayQuickchartButton(domScope) {\n",
              "  let quickchartButtonEl =\n",
              "    domScope.querySelector('#df-e43e9ebe-a803-4f4e-b09e-14b2f1f7ffd8 button.colab-df-quickchart');\n",
              "  quickchartButtonEl.style.display =\n",
              "    google.colab.kernel.accessAllowed ? 'block' : 'none';\n",
              "}\n",
              "\n",
              "        displayQuickchartButton(document);\n",
              "      </script>\n",
              "      <style>\n",
              "    .colab-df-container {\n",
              "      display:flex;\n",
              "      flex-wrap:wrap;\n",
              "      gap: 12px;\n",
              "    }\n",
              "\n",
              "    .colab-df-convert {\n",
              "      background-color: #E8F0FE;\n",
              "      border: none;\n",
              "      border-radius: 50%;\n",
              "      cursor: pointer;\n",
              "      display: none;\n",
              "      fill: #1967D2;\n",
              "      height: 32px;\n",
              "      padding: 0 0 0 0;\n",
              "      width: 32px;\n",
              "    }\n",
              "\n",
              "    .colab-df-convert:hover {\n",
              "      background-color: #E2EBFA;\n",
              "      box-shadow: 0px 1px 2px rgba(60, 64, 67, 0.3), 0px 1px 3px 1px rgba(60, 64, 67, 0.15);\n",
              "      fill: #174EA6;\n",
              "    }\n",
              "\n",
              "    [theme=dark] .colab-df-convert {\n",
              "      background-color: #3B4455;\n",
              "      fill: #D2E3FC;\n",
              "    }\n",
              "\n",
              "    [theme=dark] .colab-df-convert:hover {\n",
              "      background-color: #434B5C;\n",
              "      box-shadow: 0px 1px 3px 1px rgba(0, 0, 0, 0.15);\n",
              "      filter: drop-shadow(0px 1px 2px rgba(0, 0, 0, 0.3));\n",
              "      fill: #FFFFFF;\n",
              "    }\n",
              "  </style>\n",
              "\n",
              "      <script>\n",
              "        const buttonEl =\n",
              "          document.querySelector('#df-529e9de9-ff53-4f69-aa9b-ef59950c96f8 button.colab-df-convert');\n",
              "        buttonEl.style.display =\n",
              "          google.colab.kernel.accessAllowed ? 'block' : 'none';\n",
              "\n",
              "        async function convertToInteractive(key) {\n",
              "          const element = document.querySelector('#df-529e9de9-ff53-4f69-aa9b-ef59950c96f8');\n",
              "          const dataTable =\n",
              "            await google.colab.kernel.invokeFunction('convertToInteractive',\n",
              "                                                     [key], {});\n",
              "          if (!dataTable) return;\n",
              "\n",
              "          const docLinkHtml = 'Like what you see? Visit the ' +\n",
              "            '<a target=\"_blank\" href=https://colab.research.google.com/notebooks/data_table.ipynb>data table notebook</a>'\n",
              "            + ' to learn more about interactive tables.';\n",
              "          element.innerHTML = '';\n",
              "          dataTable['output_type'] = 'display_data';\n",
              "          await google.colab.output.renderOutput(dataTable, element);\n",
              "          const docLink = document.createElement('div');\n",
              "          docLink.innerHTML = docLinkHtml;\n",
              "          element.appendChild(docLink);\n",
              "        }\n",
              "      </script>\n",
              "    </div>\n",
              "  </div>\n"
            ]
          },
          "metadata": {},
          "execution_count": 66
        }
      ]
    },
    {
      "cell_type": "code",
      "source": [
        "df_sarsCov['Sequence'].nunique()"
      ],
      "metadata": {
        "colab": {
          "base_uri": "https://localhost:8080/"
        },
        "id": "qyws6ehYkhUA",
        "outputId": "36d7ea71-c9f8-4dda-cd46-26f970d0ca44"
      },
      "execution_count": null,
      "outputs": [
        {
          "output_type": "execute_result",
          "data": {
            "text/plain": [
              "957"
            ]
          },
          "metadata": {},
          "execution_count": 67
        }
      ]
    },
    {
      "cell_type": "code",
      "source": [
        "# Removing duplicate rows based on 'Sequence' column\n",
        "df_sarsCov = df_sarsCov.drop_duplicates(subset='Sequence')\n",
        "df_sarsCov.shape"
      ],
      "metadata": {
        "colab": {
          "base_uri": "https://localhost:8080/"
        },
        "id": "oeW_9hH_klfB",
        "outputId": "9c467d83-ab06-4862-ee9a-8c4eb2a64ef0"
      },
      "execution_count": null,
      "outputs": [
        {
          "output_type": "execute_result",
          "data": {
            "text/plain": [
              "(957, 3)"
            ]
          },
          "metadata": {},
          "execution_count": 70
        }
      ]
    },
    {
      "cell_type": "code",
      "source": [
        "max_len_sarsCov = maxSeq_length(df_sarsCov['Sequence'])\n",
        "max_len_sarsCov"
      ],
      "metadata": {
        "colab": {
          "base_uri": "https://localhost:8080/"
        },
        "id": "jy9yYzliknOR",
        "outputId": "3a7e3b5a-83ce-4f6e-f1ea-67b1ec0e9767"
      },
      "execution_count": null,
      "outputs": [
        {
          "output_type": "execute_result",
          "data": {
            "text/plain": [
              "37971"
            ]
          },
          "metadata": {},
          "execution_count": 71
        }
      ]
    },
    {
      "cell_type": "code",
      "source": [
        "min_len_sarsCov = minSeq_length(df_sarsCov['Sequence'])\n",
        "min_len_sarsCov"
      ],
      "metadata": {
        "colab": {
          "base_uri": "https://localhost:8080/"
        },
        "id": "ZwS66CE2kph7",
        "outputId": "de383dcb-8de5-4619-8c67-d618792799e3"
      },
      "execution_count": null,
      "outputs": [
        {
          "output_type": "execute_result",
          "data": {
            "text/plain": [
              "8"
            ]
          },
          "metadata": {},
          "execution_count": 72
        }
      ]
    },
    {
      "cell_type": "code",
      "source": [
        "df_sarsCov = df_sarsCov[df_sarsCov['Sequence'].str.len() > 25000]\n",
        "df_sarsCov.shape"
      ],
      "metadata": {
        "colab": {
          "base_uri": "https://localhost:8080/"
        },
        "id": "HHBdvJhskrG2",
        "outputId": "f0397c71-82b9-44b4-cc8f-0864c22482df"
      },
      "execution_count": null,
      "outputs": [
        {
          "output_type": "execute_result",
          "data": {
            "text/plain": [
              "(348, 3)"
            ]
          },
          "metadata": {},
          "execution_count": 73
        }
      ]
    },
    {
      "cell_type": "code",
      "source": [
        "df_sarsCov.head()"
      ],
      "metadata": {
        "colab": {
          "base_uri": "https://localhost:8080/",
          "height": 206
        },
        "id": "Pgm-UCr_ksin",
        "outputId": "e2951980-e11c-4044-9a94-fa217c6e37d7"
      },
      "execution_count": null,
      "outputs": [
        {
          "output_type": "execute_result",
          "data": {
            "text/plain": [
              "                                          Sequence ID  \\\n",
              "0   NC_045512 |Wuhan seafood market pneumonia viru...   \n",
              "1        NC_004718 |SARS coronavirus| complete genome   \n",
              "9   MT188339 |Severe acute respiratory syndrome co...   \n",
              "10  MT188340 |Severe acute respiratory syndrome co...   \n",
              "11  MT188341 |Severe acute respiratory syndrome co...   \n",
              "\n",
              "                                             Sequence strain_name  \n",
              "0   ATTAAAGGTTTATACCTTCCCAGGTAACAAACCAACCAACTTTCGA...    sars-cov  \n",
              "1   ATATTAGGTTTTTACCTACCCAGGAAAAGCCAACCAACCTCGATCT...    sars-cov  \n",
              "9   AGATCTGTTCTCTAAACGAACTTTAAAATCTGTGTGGCTGTCACTC...    sars-cov  \n",
              "10  AGATCTGTTCTCTAAACGAACTTTAAAATCTGTGTGGCTGTCACTC...    sars-cov  \n",
              "11  AGATCTGTTCTCTAAACGAACTTTAAAATCTGTGTGGCTGTCACTC...    sars-cov  "
            ],
            "text/html": [
              "\n",
              "\n",
              "  <div id=\"df-584c5fa3-6836-4aa3-b212-53ca36f6f15d\">\n",
              "    <div class=\"colab-df-container\">\n",
              "      <div>\n",
              "<style scoped>\n",
              "    .dataframe tbody tr th:only-of-type {\n",
              "        vertical-align: middle;\n",
              "    }\n",
              "\n",
              "    .dataframe tbody tr th {\n",
              "        vertical-align: top;\n",
              "    }\n",
              "\n",
              "    .dataframe thead th {\n",
              "        text-align: right;\n",
              "    }\n",
              "</style>\n",
              "<table border=\"1\" class=\"dataframe\">\n",
              "  <thead>\n",
              "    <tr style=\"text-align: right;\">\n",
              "      <th></th>\n",
              "      <th>Sequence ID</th>\n",
              "      <th>Sequence</th>\n",
              "      <th>strain_name</th>\n",
              "    </tr>\n",
              "  </thead>\n",
              "  <tbody>\n",
              "    <tr>\n",
              "      <th>0</th>\n",
              "      <td>NC_045512 |Wuhan seafood market pneumonia viru...</td>\n",
              "      <td>ATTAAAGGTTTATACCTTCCCAGGTAACAAACCAACCAACTTTCGA...</td>\n",
              "      <td>sars-cov</td>\n",
              "    </tr>\n",
              "    <tr>\n",
              "      <th>1</th>\n",
              "      <td>NC_004718 |SARS coronavirus| complete genome</td>\n",
              "      <td>ATATTAGGTTTTTACCTACCCAGGAAAAGCCAACCAACCTCGATCT...</td>\n",
              "      <td>sars-cov</td>\n",
              "    </tr>\n",
              "    <tr>\n",
              "      <th>9</th>\n",
              "      <td>MT188339 |Severe acute respiratory syndrome co...</td>\n",
              "      <td>AGATCTGTTCTCTAAACGAACTTTAAAATCTGTGTGGCTGTCACTC...</td>\n",
              "      <td>sars-cov</td>\n",
              "    </tr>\n",
              "    <tr>\n",
              "      <th>10</th>\n",
              "      <td>MT188340 |Severe acute respiratory syndrome co...</td>\n",
              "      <td>AGATCTGTTCTCTAAACGAACTTTAAAATCTGTGTGGCTGTCACTC...</td>\n",
              "      <td>sars-cov</td>\n",
              "    </tr>\n",
              "    <tr>\n",
              "      <th>11</th>\n",
              "      <td>MT188341 |Severe acute respiratory syndrome co...</td>\n",
              "      <td>AGATCTGTTCTCTAAACGAACTTTAAAATCTGTGTGGCTGTCACTC...</td>\n",
              "      <td>sars-cov</td>\n",
              "    </tr>\n",
              "  </tbody>\n",
              "</table>\n",
              "</div>\n",
              "      <button class=\"colab-df-convert\" onclick=\"convertToInteractive('df-584c5fa3-6836-4aa3-b212-53ca36f6f15d')\"\n",
              "              title=\"Convert this dataframe to an interactive table.\"\n",
              "              style=\"display:none;\">\n",
              "\n",
              "  <svg xmlns=\"http://www.w3.org/2000/svg\" height=\"24px\"viewBox=\"0 0 24 24\"\n",
              "       width=\"24px\">\n",
              "    <path d=\"M0 0h24v24H0V0z\" fill=\"none\"/>\n",
              "    <path d=\"M18.56 5.44l.94 2.06.94-2.06 2.06-.94-2.06-.94-.94-2.06-.94 2.06-2.06.94zm-11 1L8.5 8.5l.94-2.06 2.06-.94-2.06-.94L8.5 2.5l-.94 2.06-2.06.94zm10 10l.94 2.06.94-2.06 2.06-.94-2.06-.94-.94-2.06-.94 2.06-2.06.94z\"/><path d=\"M17.41 7.96l-1.37-1.37c-.4-.4-.92-.59-1.43-.59-.52 0-1.04.2-1.43.59L10.3 9.45l-7.72 7.72c-.78.78-.78 2.05 0 2.83L4 21.41c.39.39.9.59 1.41.59.51 0 1.02-.2 1.41-.59l7.78-7.78 2.81-2.81c.8-.78.8-2.07 0-2.86zM5.41 20L4 18.59l7.72-7.72 1.47 1.35L5.41 20z\"/>\n",
              "  </svg>\n",
              "      </button>\n",
              "\n",
              "\n",
              "\n",
              "    <div id=\"df-758e69f3-319d-4eb2-94cb-1e464dd3be57\">\n",
              "      <button class=\"colab-df-quickchart\" onclick=\"quickchart('df-758e69f3-319d-4eb2-94cb-1e464dd3be57')\"\n",
              "              title=\"Suggest charts.\"\n",
              "              style=\"display:none;\">\n",
              "\n",
              "<svg xmlns=\"http://www.w3.org/2000/svg\" height=\"24px\"viewBox=\"0 0 24 24\"\n",
              "     width=\"24px\">\n",
              "    <g>\n",
              "        <path d=\"M19 3H5c-1.1 0-2 .9-2 2v14c0 1.1.9 2 2 2h14c1.1 0 2-.9 2-2V5c0-1.1-.9-2-2-2zM9 17H7v-7h2v7zm4 0h-2V7h2v10zm4 0h-2v-4h2v4z\"/>\n",
              "    </g>\n",
              "</svg>\n",
              "      </button>\n",
              "    </div>\n",
              "\n",
              "<style>\n",
              "  .colab-df-quickchart {\n",
              "    background-color: #E8F0FE;\n",
              "    border: none;\n",
              "    border-radius: 50%;\n",
              "    cursor: pointer;\n",
              "    display: none;\n",
              "    fill: #1967D2;\n",
              "    height: 32px;\n",
              "    padding: 0 0 0 0;\n",
              "    width: 32px;\n",
              "  }\n",
              "\n",
              "  .colab-df-quickchart:hover {\n",
              "    background-color: #E2EBFA;\n",
              "    box-shadow: 0px 1px 2px rgba(60, 64, 67, 0.3), 0px 1px 3px 1px rgba(60, 64, 67, 0.15);\n",
              "    fill: #174EA6;\n",
              "  }\n",
              "\n",
              "  [theme=dark] .colab-df-quickchart {\n",
              "    background-color: #3B4455;\n",
              "    fill: #D2E3FC;\n",
              "  }\n",
              "\n",
              "  [theme=dark] .colab-df-quickchart:hover {\n",
              "    background-color: #434B5C;\n",
              "    box-shadow: 0px 1px 3px 1px rgba(0, 0, 0, 0.15);\n",
              "    filter: drop-shadow(0px 1px 2px rgba(0, 0, 0, 0.3));\n",
              "    fill: #FFFFFF;\n",
              "  }\n",
              "</style>\n",
              "\n",
              "    <script>\n",
              "      async function quickchart(key) {\n",
              "        const containerElement = document.querySelector('#' + key);\n",
              "        const charts = await google.colab.kernel.invokeFunction(\n",
              "            'suggestCharts', [key], {});\n",
              "      }\n",
              "    </script>\n",
              "\n",
              "      <script>\n",
              "\n",
              "function displayQuickchartButton(domScope) {\n",
              "  let quickchartButtonEl =\n",
              "    domScope.querySelector('#df-758e69f3-319d-4eb2-94cb-1e464dd3be57 button.colab-df-quickchart');\n",
              "  quickchartButtonEl.style.display =\n",
              "    google.colab.kernel.accessAllowed ? 'block' : 'none';\n",
              "}\n",
              "\n",
              "        displayQuickchartButton(document);\n",
              "      </script>\n",
              "      <style>\n",
              "    .colab-df-container {\n",
              "      display:flex;\n",
              "      flex-wrap:wrap;\n",
              "      gap: 12px;\n",
              "    }\n",
              "\n",
              "    .colab-df-convert {\n",
              "      background-color: #E8F0FE;\n",
              "      border: none;\n",
              "      border-radius: 50%;\n",
              "      cursor: pointer;\n",
              "      display: none;\n",
              "      fill: #1967D2;\n",
              "      height: 32px;\n",
              "      padding: 0 0 0 0;\n",
              "      width: 32px;\n",
              "    }\n",
              "\n",
              "    .colab-df-convert:hover {\n",
              "      background-color: #E2EBFA;\n",
              "      box-shadow: 0px 1px 2px rgba(60, 64, 67, 0.3), 0px 1px 3px 1px rgba(60, 64, 67, 0.15);\n",
              "      fill: #174EA6;\n",
              "    }\n",
              "\n",
              "    [theme=dark] .colab-df-convert {\n",
              "      background-color: #3B4455;\n",
              "      fill: #D2E3FC;\n",
              "    }\n",
              "\n",
              "    [theme=dark] .colab-df-convert:hover {\n",
              "      background-color: #434B5C;\n",
              "      box-shadow: 0px 1px 3px 1px rgba(0, 0, 0, 0.15);\n",
              "      filter: drop-shadow(0px 1px 2px rgba(0, 0, 0, 0.3));\n",
              "      fill: #FFFFFF;\n",
              "    }\n",
              "  </style>\n",
              "\n",
              "      <script>\n",
              "        const buttonEl =\n",
              "          document.querySelector('#df-584c5fa3-6836-4aa3-b212-53ca36f6f15d button.colab-df-convert');\n",
              "        buttonEl.style.display =\n",
              "          google.colab.kernel.accessAllowed ? 'block' : 'none';\n",
              "\n",
              "        async function convertToInteractive(key) {\n",
              "          const element = document.querySelector('#df-584c5fa3-6836-4aa3-b212-53ca36f6f15d');\n",
              "          const dataTable =\n",
              "            await google.colab.kernel.invokeFunction('convertToInteractive',\n",
              "                                                     [key], {});\n",
              "          if (!dataTable) return;\n",
              "\n",
              "          const docLinkHtml = 'Like what you see? Visit the ' +\n",
              "            '<a target=\"_blank\" href=https://colab.research.google.com/notebooks/data_table.ipynb>data table notebook</a>'\n",
              "            + ' to learn more about interactive tables.';\n",
              "          element.innerHTML = '';\n",
              "          dataTable['output_type'] = 'display_data';\n",
              "          await google.colab.output.renderOutput(dataTable, element);\n",
              "          const docLink = document.createElement('div');\n",
              "          docLink.innerHTML = docLinkHtml;\n",
              "          element.appendChild(docLink);\n",
              "        }\n",
              "      </script>\n",
              "    </div>\n",
              "  </div>\n"
            ]
          },
          "metadata": {},
          "execution_count": 74
        }
      ]
    },
    {
      "cell_type": "code",
      "source": [
        "max_len_sarsCov = maxSeq_length(df_sarsCov['Sequence'])\n",
        "max_len_sarsCov"
      ],
      "metadata": {
        "colab": {
          "base_uri": "https://localhost:8080/"
        },
        "id": "fydsakGQkuC9",
        "outputId": "630feda9-73cf-49e0-8cb0-db630eb95ae3"
      },
      "execution_count": null,
      "outputs": [
        {
          "output_type": "execute_result",
          "data": {
            "text/plain": [
              "37971"
            ]
          },
          "metadata": {},
          "execution_count": 75
        }
      ]
    },
    {
      "cell_type": "code",
      "source": [
        "## Labeling 'sars-Cov' as '6'\n",
        "df_sarsCov['label'] = 6\n",
        "df_sarsCov.head()"
      ],
      "metadata": {
        "colab": {
          "base_uri": "https://localhost:8080/",
          "height": 206
        },
        "id": "01Jugm8tkzsg",
        "outputId": "1726261d-7026-4b3b-8c50-4e99c119e10c"
      },
      "execution_count": null,
      "outputs": [
        {
          "output_type": "execute_result",
          "data": {
            "text/plain": [
              "                                          Sequence ID  \\\n",
              "0   NC_045512 |Wuhan seafood market pneumonia viru...   \n",
              "1        NC_004718 |SARS coronavirus| complete genome   \n",
              "9   MT188339 |Severe acute respiratory syndrome co...   \n",
              "10  MT188340 |Severe acute respiratory syndrome co...   \n",
              "11  MT188341 |Severe acute respiratory syndrome co...   \n",
              "\n",
              "                                             Sequence strain_name  label  \n",
              "0   ATTAAAGGTTTATACCTTCCCAGGTAACAAACCAACCAACTTTCGA...    sars-cov      6  \n",
              "1   ATATTAGGTTTTTACCTACCCAGGAAAAGCCAACCAACCTCGATCT...    sars-cov      6  \n",
              "9   AGATCTGTTCTCTAAACGAACTTTAAAATCTGTGTGGCTGTCACTC...    sars-cov      6  \n",
              "10  AGATCTGTTCTCTAAACGAACTTTAAAATCTGTGTGGCTGTCACTC...    sars-cov      6  \n",
              "11  AGATCTGTTCTCTAAACGAACTTTAAAATCTGTGTGGCTGTCACTC...    sars-cov      6  "
            ],
            "text/html": [
              "\n",
              "\n",
              "  <div id=\"df-ca39f434-a932-4416-8a63-785fc79cc4bd\">\n",
              "    <div class=\"colab-df-container\">\n",
              "      <div>\n",
              "<style scoped>\n",
              "    .dataframe tbody tr th:only-of-type {\n",
              "        vertical-align: middle;\n",
              "    }\n",
              "\n",
              "    .dataframe tbody tr th {\n",
              "        vertical-align: top;\n",
              "    }\n",
              "\n",
              "    .dataframe thead th {\n",
              "        text-align: right;\n",
              "    }\n",
              "</style>\n",
              "<table border=\"1\" class=\"dataframe\">\n",
              "  <thead>\n",
              "    <tr style=\"text-align: right;\">\n",
              "      <th></th>\n",
              "      <th>Sequence ID</th>\n",
              "      <th>Sequence</th>\n",
              "      <th>strain_name</th>\n",
              "      <th>label</th>\n",
              "    </tr>\n",
              "  </thead>\n",
              "  <tbody>\n",
              "    <tr>\n",
              "      <th>0</th>\n",
              "      <td>NC_045512 |Wuhan seafood market pneumonia viru...</td>\n",
              "      <td>ATTAAAGGTTTATACCTTCCCAGGTAACAAACCAACCAACTTTCGA...</td>\n",
              "      <td>sars-cov</td>\n",
              "      <td>6</td>\n",
              "    </tr>\n",
              "    <tr>\n",
              "      <th>1</th>\n",
              "      <td>NC_004718 |SARS coronavirus| complete genome</td>\n",
              "      <td>ATATTAGGTTTTTACCTACCCAGGAAAAGCCAACCAACCTCGATCT...</td>\n",
              "      <td>sars-cov</td>\n",
              "      <td>6</td>\n",
              "    </tr>\n",
              "    <tr>\n",
              "      <th>9</th>\n",
              "      <td>MT188339 |Severe acute respiratory syndrome co...</td>\n",
              "      <td>AGATCTGTTCTCTAAACGAACTTTAAAATCTGTGTGGCTGTCACTC...</td>\n",
              "      <td>sars-cov</td>\n",
              "      <td>6</td>\n",
              "    </tr>\n",
              "    <tr>\n",
              "      <th>10</th>\n",
              "      <td>MT188340 |Severe acute respiratory syndrome co...</td>\n",
              "      <td>AGATCTGTTCTCTAAACGAACTTTAAAATCTGTGTGGCTGTCACTC...</td>\n",
              "      <td>sars-cov</td>\n",
              "      <td>6</td>\n",
              "    </tr>\n",
              "    <tr>\n",
              "      <th>11</th>\n",
              "      <td>MT188341 |Severe acute respiratory syndrome co...</td>\n",
              "      <td>AGATCTGTTCTCTAAACGAACTTTAAAATCTGTGTGGCTGTCACTC...</td>\n",
              "      <td>sars-cov</td>\n",
              "      <td>6</td>\n",
              "    </tr>\n",
              "  </tbody>\n",
              "</table>\n",
              "</div>\n",
              "      <button class=\"colab-df-convert\" onclick=\"convertToInteractive('df-ca39f434-a932-4416-8a63-785fc79cc4bd')\"\n",
              "              title=\"Convert this dataframe to an interactive table.\"\n",
              "              style=\"display:none;\">\n",
              "\n",
              "  <svg xmlns=\"http://www.w3.org/2000/svg\" height=\"24px\"viewBox=\"0 0 24 24\"\n",
              "       width=\"24px\">\n",
              "    <path d=\"M0 0h24v24H0V0z\" fill=\"none\"/>\n",
              "    <path d=\"M18.56 5.44l.94 2.06.94-2.06 2.06-.94-2.06-.94-.94-2.06-.94 2.06-2.06.94zm-11 1L8.5 8.5l.94-2.06 2.06-.94-2.06-.94L8.5 2.5l-.94 2.06-2.06.94zm10 10l.94 2.06.94-2.06 2.06-.94-2.06-.94-.94-2.06-.94 2.06-2.06.94z\"/><path d=\"M17.41 7.96l-1.37-1.37c-.4-.4-.92-.59-1.43-.59-.52 0-1.04.2-1.43.59L10.3 9.45l-7.72 7.72c-.78.78-.78 2.05 0 2.83L4 21.41c.39.39.9.59 1.41.59.51 0 1.02-.2 1.41-.59l7.78-7.78 2.81-2.81c.8-.78.8-2.07 0-2.86zM5.41 20L4 18.59l7.72-7.72 1.47 1.35L5.41 20z\"/>\n",
              "  </svg>\n",
              "      </button>\n",
              "\n",
              "\n",
              "\n",
              "    <div id=\"df-c506c7e4-fe9d-4896-9825-26d56b0d4386\">\n",
              "      <button class=\"colab-df-quickchart\" onclick=\"quickchart('df-c506c7e4-fe9d-4896-9825-26d56b0d4386')\"\n",
              "              title=\"Suggest charts.\"\n",
              "              style=\"display:none;\">\n",
              "\n",
              "<svg xmlns=\"http://www.w3.org/2000/svg\" height=\"24px\"viewBox=\"0 0 24 24\"\n",
              "     width=\"24px\">\n",
              "    <g>\n",
              "        <path d=\"M19 3H5c-1.1 0-2 .9-2 2v14c0 1.1.9 2 2 2h14c1.1 0 2-.9 2-2V5c0-1.1-.9-2-2-2zM9 17H7v-7h2v7zm4 0h-2V7h2v10zm4 0h-2v-4h2v4z\"/>\n",
              "    </g>\n",
              "</svg>\n",
              "      </button>\n",
              "    </div>\n",
              "\n",
              "<style>\n",
              "  .colab-df-quickchart {\n",
              "    background-color: #E8F0FE;\n",
              "    border: none;\n",
              "    border-radius: 50%;\n",
              "    cursor: pointer;\n",
              "    display: none;\n",
              "    fill: #1967D2;\n",
              "    height: 32px;\n",
              "    padding: 0 0 0 0;\n",
              "    width: 32px;\n",
              "  }\n",
              "\n",
              "  .colab-df-quickchart:hover {\n",
              "    background-color: #E2EBFA;\n",
              "    box-shadow: 0px 1px 2px rgba(60, 64, 67, 0.3), 0px 1px 3px 1px rgba(60, 64, 67, 0.15);\n",
              "    fill: #174EA6;\n",
              "  }\n",
              "\n",
              "  [theme=dark] .colab-df-quickchart {\n",
              "    background-color: #3B4455;\n",
              "    fill: #D2E3FC;\n",
              "  }\n",
              "\n",
              "  [theme=dark] .colab-df-quickchart:hover {\n",
              "    background-color: #434B5C;\n",
              "    box-shadow: 0px 1px 3px 1px rgba(0, 0, 0, 0.15);\n",
              "    filter: drop-shadow(0px 1px 2px rgba(0, 0, 0, 0.3));\n",
              "    fill: #FFFFFF;\n",
              "  }\n",
              "</style>\n",
              "\n",
              "    <script>\n",
              "      async function quickchart(key) {\n",
              "        const containerElement = document.querySelector('#' + key);\n",
              "        const charts = await google.colab.kernel.invokeFunction(\n",
              "            'suggestCharts', [key], {});\n",
              "      }\n",
              "    </script>\n",
              "\n",
              "      <script>\n",
              "\n",
              "function displayQuickchartButton(domScope) {\n",
              "  let quickchartButtonEl =\n",
              "    domScope.querySelector('#df-c506c7e4-fe9d-4896-9825-26d56b0d4386 button.colab-df-quickchart');\n",
              "  quickchartButtonEl.style.display =\n",
              "    google.colab.kernel.accessAllowed ? 'block' : 'none';\n",
              "}\n",
              "\n",
              "        displayQuickchartButton(document);\n",
              "      </script>\n",
              "      <style>\n",
              "    .colab-df-container {\n",
              "      display:flex;\n",
              "      flex-wrap:wrap;\n",
              "      gap: 12px;\n",
              "    }\n",
              "\n",
              "    .colab-df-convert {\n",
              "      background-color: #E8F0FE;\n",
              "      border: none;\n",
              "      border-radius: 50%;\n",
              "      cursor: pointer;\n",
              "      display: none;\n",
              "      fill: #1967D2;\n",
              "      height: 32px;\n",
              "      padding: 0 0 0 0;\n",
              "      width: 32px;\n",
              "    }\n",
              "\n",
              "    .colab-df-convert:hover {\n",
              "      background-color: #E2EBFA;\n",
              "      box-shadow: 0px 1px 2px rgba(60, 64, 67, 0.3), 0px 1px 3px 1px rgba(60, 64, 67, 0.15);\n",
              "      fill: #174EA6;\n",
              "    }\n",
              "\n",
              "    [theme=dark] .colab-df-convert {\n",
              "      background-color: #3B4455;\n",
              "      fill: #D2E3FC;\n",
              "    }\n",
              "\n",
              "    [theme=dark] .colab-df-convert:hover {\n",
              "      background-color: #434B5C;\n",
              "      box-shadow: 0px 1px 3px 1px rgba(0, 0, 0, 0.15);\n",
              "      filter: drop-shadow(0px 1px 2px rgba(0, 0, 0, 0.3));\n",
              "      fill: #FFFFFF;\n",
              "    }\n",
              "  </style>\n",
              "\n",
              "      <script>\n",
              "        const buttonEl =\n",
              "          document.querySelector('#df-ca39f434-a932-4416-8a63-785fc79cc4bd button.colab-df-convert');\n",
              "        buttonEl.style.display =\n",
              "          google.colab.kernel.accessAllowed ? 'block' : 'none';\n",
              "\n",
              "        async function convertToInteractive(key) {\n",
              "          const element = document.querySelector('#df-ca39f434-a932-4416-8a63-785fc79cc4bd');\n",
              "          const dataTable =\n",
              "            await google.colab.kernel.invokeFunction('convertToInteractive',\n",
              "                                                     [key], {});\n",
              "          if (!dataTable) return;\n",
              "\n",
              "          const docLinkHtml = 'Like what you see? Visit the ' +\n",
              "            '<a target=\"_blank\" href=https://colab.research.google.com/notebooks/data_table.ipynb>data table notebook</a>'\n",
              "            + ' to learn more about interactive tables.';\n",
              "          element.innerHTML = '';\n",
              "          dataTable['output_type'] = 'display_data';\n",
              "          await google.colab.output.renderOutput(dataTable, element);\n",
              "          const docLink = document.createElement('div');\n",
              "          docLink.innerHTML = docLinkHtml;\n",
              "          element.appendChild(docLink);\n",
              "        }\n",
              "      </script>\n",
              "    </div>\n",
              "  </div>\n"
            ]
          },
          "metadata": {},
          "execution_count": 76
        }
      ]
    },
    {
      "cell_type": "markdown",
      "source": [
        "### Maximum length among all genome sequences"
      ],
      "metadata": {
        "id": "zfWOv3Xuk2zm"
      }
    },
    {
      "cell_type": "code",
      "source": [
        "print(f\"max_len_sarsCov2 = {max_len_sarsCov2}\")\n",
        "print(f\"max_len_mersCov = {max_len_mersCov}\")\n",
        "print(f\"max_len_hCov_oc43 = {max_len_hCov_oc43}\")\n",
        "print(f\"max_len_hCov_229e = {max_len_hCov_229e}\")\n",
        "print(f\"max_len_hCov_nl63 = {max_len_hCov_nl63}\")\n",
        "print(f\"max_len_hCov_hku1 = {max_len_hCov_hku1}\")\n",
        "print(f\"max_len_sarsCov = {max_len_sarsCov}\")"
      ],
      "metadata": {
        "colab": {
          "base_uri": "https://localhost:8080/"
        },
        "id": "DoMUS3jNk8-v",
        "outputId": "3b23aa9c-c5ff-4890-a99d-4b092261758c"
      },
      "execution_count": null,
      "outputs": [
        {
          "output_type": "stream",
          "name": "stdout",
          "text": [
            "max_len_sarsCov2 = 29903\n",
            "max_len_mersCov = 30484\n",
            "max_len_hCov_oc43 = 31104\n",
            "max_len_hCov_229e = 27395\n",
            "max_len_hCov_nl63 = 27590\n",
            "max_len_hCov_hku1 = 30144\n",
            "max_len_sarsCov = 37971\n"
          ]
        }
      ]
    },
    {
      "cell_type": "markdown",
      "source": [
        "### Merging all the dataframe together and making it a single dataframe"
      ],
      "metadata": {
        "id": "omXEPL_ck923"
      }
    },
    {
      "cell_type": "code",
      "source": [
        "data = pd.concat([df_sarsCov2, df_mersCov, df_hCov_oc43, df_hCov_229e, df_hCov_nl63, df_hCov_hku1, df_sarsCov],\n",
        "                 axis=0)"
      ],
      "metadata": {
        "id": "VICRauQQlMjW"
      },
      "execution_count": null,
      "outputs": []
    },
    {
      "cell_type": "code",
      "source": [
        "data.nunique()"
      ],
      "metadata": {
        "colab": {
          "base_uri": "https://localhost:8080/"
        },
        "id": "6WSEHmCVlNrf",
        "outputId": "8c852a33-816a-4012-8a03-c33288c78991"
      },
      "execution_count": null,
      "outputs": [
        {
          "output_type": "execute_result",
          "data": {
            "text/plain": [
              "Sequence ID    1781\n",
              "Sequence       1747\n",
              "strain_name       7\n",
              "label             7\n",
              "dtype: int64"
            ]
          },
          "metadata": {},
          "execution_count": 79
        }
      ]
    },
    {
      "cell_type": "code",
      "source": [
        "data.shape"
      ],
      "metadata": {
        "colab": {
          "base_uri": "https://localhost:8080/"
        },
        "id": "XaBIxRGTkfEd",
        "outputId": "c4c568fb-5b9a-463c-a003-241e702d8084"
      },
      "execution_count": null,
      "outputs": [
        {
          "output_type": "execute_result",
          "data": {
            "text/plain": [
              "(1781, 5)"
            ]
          },
          "metadata": {},
          "execution_count": 88
        }
      ]
    },
    {
      "cell_type": "code",
      "source": [
        "import seaborn as sns\n",
        "import matplotlib.pyplot as plt\n",
        "\n",
        "# Mapping the labels to their corresponding names\n",
        "label_mapping = {\n",
        "    0: 'SARS-CoV2',\n",
        "    1: 'MERS-CoV',\n",
        "    2: 'HCoV-OC43',\n",
        "    3: 'HCoV-229E',\n",
        "    4: 'HCoV-NL63',\n",
        "    5: 'HCoV-HKU1',\n",
        "    6: 'SARS-CoV'\n",
        "}\n",
        "\n",
        "# Replacing label values with their corresponding names\n",
        "data['label_names'] = data['label'].map(label_mapping)\n",
        "\n",
        "# Creating the countplot with custom labels\n",
        "sns.countplot(x=data['label_names'])\n",
        "\n",
        "# Rotating x-axis labels for better readability\n",
        "plt.xticks(rotation=45)\n",
        "\n",
        "plt.show()"
      ],
      "metadata": {
        "colab": {
          "base_uri": "https://localhost:8080/",
          "height": 503
        },
        "id": "dgUOnUbcj1Cp",
        "outputId": "5fb0ae53-7d96-4ab8-cc75-9ddf3ec8640c"
      },
      "execution_count": null,
      "outputs": [
        {
          "output_type": "display_data",
          "data": {
            "text/plain": [
              "<Figure size 640x480 with 1 Axes>"
            ],
            "image/png": "[encoded data removed]"
          },
          "metadata": {}
        }
      ]
    },
    {
      "cell_type": "markdown",
      "source": [
        "### Modifying the data by removing some columns"
      ],
      "metadata": {
        "id": "UudChx5pl_Ne"
      }
    },
    {
      "cell_type": "code",
      "source": [
        "data.head()"
      ],
      "metadata": {
        "colab": {
          "base_uri": "https://localhost:8080/",
          "height": 206
        },
        "id": "sMd5VwzymE-r",
        "outputId": "528bd698-e2b0-4648-81f8-30ed9d6c79b2"
      },
      "execution_count": null,
      "outputs": [
        {
          "output_type": "execute_result",
          "data": {
            "text/plain": [
              "                                         Sequence ID  \\\n",
              "0  NC_045512.2 |Severe acute respiratory syndrome...   \n",
              "1  OR177857.1 |Severe acute respiratory syndrome ...   \n",
              "2  OR177858.1 |Severe acute respiratory syndrome ...   \n",
              "3  OR177859.1 |Severe acute respiratory syndrome ...   \n",
              "4  OR177860.1 |Severe acute respiratory syndrome ...   \n",
              "\n",
              "                                            Sequence strain_name  label  \\\n",
              "0  ATTAAAGGTTTATACCTTCCCAGGTAACAAACCAACCAACTTTCGA...   sars-cov2      0   \n",
              "1  TCGTACGTGGCTTTGGAGACTCCGTGGAGGAGGTCTTATCAGAGGC...   sars-cov2      0   \n",
              "2  TCGTACGTGGCTTTGGAGACTCCGTGGAGGAGGTCTTATCAGAGGC...   sars-cov2      0   \n",
              "3  TCGTACGTGGCTTTGGAGACTCCGTGGAGGAGGTCTTATCAGAGGC...   sars-cov2      0   \n",
              "4  TCGTACGTGGCTTTGGAGACTCCGTGGAGGAGGTCTTATCAGAGGC...   sars-cov2      0   \n",
              "\n",
              "  label_names  \n",
              "0   SARS-CoV2  \n",
              "1   SARS-CoV2  \n",
              "2   SARS-CoV2  \n",
              "3   SARS-CoV2  \n",
              "4   SARS-CoV2  "
            ],
            "text/html": [
              "\n",
              "\n",
              "  <div id=\"df-27d40d87-bc77-4e3f-9e54-30ee7b7016a7\">\n",
              "    <div class=\"colab-df-container\">\n",
              "      <div>\n",
              "<style scoped>\n",
              "    .dataframe tbody tr th:only-of-type {\n",
              "        vertical-align: middle;\n",
              "    }\n",
              "\n",
              "    .dataframe tbody tr th {\n",
              "        vertical-align: top;\n",
              "    }\n",
              "\n",
              "    .dataframe thead th {\n",
              "        text-align: right;\n",
              "    }\n",
              "</style>\n",
              "<table border=\"1\" class=\"dataframe\">\n",
              "  <thead>\n",
              "    <tr style=\"text-align: right;\">\n",
              "      <th></th>\n",
              "      <th>Sequence ID</th>\n",
              "      <th>Sequence</th>\n",
              "      <th>strain_name</th>\n",
              "      <th>label</th>\n",
              "      <th>label_names</th>\n",
              "    </tr>\n",
              "  </thead>\n",
              "  <tbody>\n",
              "    <tr>\n",
              "      <th>0</th>\n",
              "      <td>NC_045512.2 |Severe acute respiratory syndrome...</td>\n",
              "      <td>ATTAAAGGTTTATACCTTCCCAGGTAACAAACCAACCAACTTTCGA...</td>\n",
              "      <td>sars-cov2</td>\n",
              "      <td>0</td>\n",
              "      <td>SARS-CoV2</td>\n",
              "    </tr>\n",
              "    <tr>\n",
              "      <th>1</th>\n",
              "      <td>OR177857.1 |Severe acute respiratory syndrome ...</td>\n",
              "      <td>TCGTACGTGGCTTTGGAGACTCCGTGGAGGAGGTCTTATCAGAGGC...</td>\n",
              "      <td>sars-cov2</td>\n",
              "      <td>0</td>\n",
              "      <td>SARS-CoV2</td>\n",
              "    </tr>\n",
              "    <tr>\n",
              "      <th>2</th>\n",
              "      <td>OR177858.1 |Severe acute respiratory syndrome ...</td>\n",
              "      <td>TCGTACGTGGCTTTGGAGACTCCGTGGAGGAGGTCTTATCAGAGGC...</td>\n",
              "      <td>sars-cov2</td>\n",
              "      <td>0</td>\n",
              "      <td>SARS-CoV2</td>\n",
              "    </tr>\n",
              "    <tr>\n",
              "      <th>3</th>\n",
              "      <td>OR177859.1 |Severe acute respiratory syndrome ...</td>\n",
              "      <td>TCGTACGTGGCTTTGGAGACTCCGTGGAGGAGGTCTTATCAGAGGC...</td>\n",
              "      <td>sars-cov2</td>\n",
              "      <td>0</td>\n",
              "      <td>SARS-CoV2</td>\n",
              "    </tr>\n",
              "    <tr>\n",
              "      <th>4</th>\n",
              "      <td>OR177860.1 |Severe acute respiratory syndrome ...</td>\n",
              "      <td>TCGTACGTGGCTTTGGAGACTCCGTGGAGGAGGTCTTATCAGAGGC...</td>\n",
              "      <td>sars-cov2</td>\n",
              "      <td>0</td>\n",
              "      <td>SARS-CoV2</td>\n",
              "    </tr>\n",
              "  </tbody>\n",
              "</table>\n",
              "</div>\n",
              "      <button class=\"colab-df-convert\" onclick=\"convertToInteractive('df-27d40d87-bc77-4e3f-9e54-30ee7b7016a7')\"\n",
              "              title=\"Convert this dataframe to an interactive table.\"\n",
              "              style=\"display:none;\">\n",
              "\n",
              "  <svg xmlns=\"http://www.w3.org/2000/svg\" height=\"24px\"viewBox=\"0 0 24 24\"\n",
              "       width=\"24px\">\n",
              "    <path d=\"M0 0h24v24H0V0z\" fill=\"none\"/>\n",
              "    <path d=\"M18.56 5.44l.94 2.06.94-2.06 2.06-.94-2.06-.94-.94-2.06-.94 2.06-2.06.94zm-11 1L8.5 8.5l.94-2.06 2.06-.94-2.06-.94L8.5 2.5l-.94 2.06-2.06.94zm10 10l.94 2.06.94-2.06 2.06-.94-2.06-.94-.94-2.06-.94 2.06-2.06.94z\"/><path d=\"M17.41 7.96l-1.37-1.37c-.4-.4-.92-.59-1.43-.59-.52 0-1.04.2-1.43.59L10.3 9.45l-7.72 7.72c-.78.78-.78 2.05 0 2.83L4 21.41c.39.39.9.59 1.41.59.51 0 1.02-.2 1.41-.59l7.78-7.78 2.81-2.81c.8-.78.8-2.07 0-2.86zM5.41 20L4 18.59l7.72-7.72 1.47 1.35L5.41 20z\"/>\n",
              "  </svg>\n",
              "      </button>\n",
              "\n",
              "\n",
              "\n",
              "    <div id=\"df-87fa2565-e8dd-4320-bf4a-a40855547718\">\n",
              "      <button class=\"colab-df-quickchart\" onclick=\"quickchart('df-87fa2565-e8dd-4320-bf4a-a40855547718')\"\n",
              "              title=\"Suggest charts.\"\n",
              "              style=\"display:none;\">\n",
              "\n",
              "<svg xmlns=\"http://www.w3.org/2000/svg\" height=\"24px\"viewBox=\"0 0 24 24\"\n",
              "     width=\"24px\">\n",
              "    <g>\n",
              "        <path d=\"M19 3H5c-1.1 0-2 .9-2 2v14c0 1.1.9 2 2 2h14c1.1 0 2-.9 2-2V5c0-1.1-.9-2-2-2zM9 17H7v-7h2v7zm4 0h-2V7h2v10zm4 0h-2v-4h2v4z\"/>\n",
              "    </g>\n",
              "</svg>\n",
              "      </button>\n",
              "    </div>\n",
              "\n",
              "<style>\n",
              "  .colab-df-quickchart {\n",
              "    background-color: #E8F0FE;\n",
              "    border: none;\n",
              "    border-radius: 50%;\n",
              "    cursor: pointer;\n",
              "    display: none;\n",
              "    fill: #1967D2;\n",
              "    height: 32px;\n",
              "    padding: 0 0 0 0;\n",
              "    width: 32px;\n",
              "  }\n",
              "\n",
              "  .colab-df-quickchart:hover {\n",
              "    background-color: #E2EBFA;\n",
              "    box-shadow: 0px 1px 2px rgba(60, 64, 67, 0.3), 0px 1px 3px 1px rgba(60, 64, 67, 0.15);\n",
              "    fill: #174EA6;\n",
              "  }\n",
              "\n",
              "  [theme=dark] .colab-df-quickchart {\n",
              "    background-color: #3B4455;\n",
              "    fill: #D2E3FC;\n",
              "  }\n",
              "\n",
              "  [theme=dark] .colab-df-quickchart:hover {\n",
              "    background-color: #434B5C;\n",
              "    box-shadow: 0px 1px 3px 1px rgba(0, 0, 0, 0.15);\n",
              "    filter: drop-shadow(0px 1px 2px rgba(0, 0, 0, 0.3));\n",
              "    fill: #FFFFFF;\n",
              "  }\n",
              "</style>\n",
              "\n",
              "    <script>\n",
              "      async function quickchart(key) {\n",
              "        const containerElement = document.querySelector('#' + key);\n",
              "        const charts = await google.colab.kernel.invokeFunction(\n",
              "            'suggestCharts', [key], {});\n",
              "      }\n",
              "    </script>\n",
              "\n",
              "      <script>\n",
              "\n",
              "function displayQuickchartButton(domScope) {\n",
              "  let quickchartButtonEl =\n",
              "    domScope.querySelector('#df-87fa2565-e8dd-4320-bf4a-a40855547718 button.colab-df-quickchart');\n",
              "  quickchartButtonEl.style.display =\n",
              "    google.colab.kernel.accessAllowed ? 'block' : 'none';\n",
              "}\n",
              "\n",
              "        displayQuickchartButton(document);\n",
              "      </script>\n",
              "      <style>\n",
              "    .colab-df-container {\n",
              "      display:flex;\n",
              "      flex-wrap:wrap;\n",
              "      gap: 12px;\n",
              "    }\n",
              "\n",
              "    .colab-df-convert {\n",
              "      background-color: #E8F0FE;\n",
              "      border: none;\n",
              "      border-radius: 50%;\n",
              "      cursor: pointer;\n",
              "      display: none;\n",
              "      fill: #1967D2;\n",
              "      height: 32px;\n",
              "      padding: 0 0 0 0;\n",
              "      width: 32px;\n",
              "    }\n",
              "\n",
              "    .colab-df-convert:hover {\n",
              "      background-color: #E2EBFA;\n",
              "      box-shadow: 0px 1px 2px rgba(60, 64, 67, 0.3), 0px 1px 3px 1px rgba(60, 64, 67, 0.15);\n",
              "      fill: #174EA6;\n",
              "    }\n",
              "\n",
              "    [theme=dark] .colab-df-convert {\n",
              "      background-color: #3B4455;\n",
              "      fill: #D2E3FC;\n",
              "    }\n",
              "\n",
              "    [theme=dark] .colab-df-convert:hover {\n",
              "      background-color: #434B5C;\n",
              "      box-shadow: 0px 1px 3px 1px rgba(0, 0, 0, 0.15);\n",
              "      filter: drop-shadow(0px 1px 2px rgba(0, 0, 0, 0.3));\n",
              "      fill: #FFFFFF;\n",
              "    }\n",
              "  </style>\n",
              "\n",
              "      <script>\n",
              "        const buttonEl =\n",
              "          document.querySelector('#df-27d40d87-bc77-4e3f-9e54-30ee7b7016a7 button.colab-df-convert');\n",
              "        buttonEl.style.display =\n",
              "          google.colab.kernel.accessAllowed ? 'block' : 'none';\n",
              "\n",
              "        async function convertToInteractive(key) {\n",
              "          const element = document.querySelector('#df-27d40d87-bc77-4e3f-9e54-30ee7b7016a7');\n",
              "          const dataTable =\n",
              "            await google.colab.kernel.invokeFunction('convertToInteractive',\n",
              "                                                     [key], {});\n",
              "          if (!dataTable) return;\n",
              "\n",
              "          const docLinkHtml = 'Like what you see? Visit the ' +\n",
              "            '<a target=\"_blank\" href=https://colab.research.google.com/notebooks/data_table.ipynb>data table notebook</a>'\n",
              "            + ' to learn more about interactive tables.';\n",
              "          element.innerHTML = '';\n",
              "          dataTable['output_type'] = 'display_data';\n",
              "          await google.colab.output.renderOutput(dataTable, element);\n",
              "          const docLink = document.createElement('div');\n",
              "          docLink.innerHTML = docLinkHtml;\n",
              "          element.appendChild(docLink);\n",
              "        }\n",
              "      </script>\n",
              "    </div>\n",
              "  </div>\n"
            ]
          },
          "metadata": {},
          "execution_count": 89
        }
      ]
    },
    {
      "cell_type": "code",
      "source": [
        "data.drop('Sequence ID', axis=1, inplace=True)\n",
        "data"
      ],
      "metadata": {
        "colab": {
          "base_uri": "https://localhost:8080/",
          "height": 423
        },
        "id": "5xohw-NomOU0",
        "outputId": "495646a7-5feb-4f57-90be-0fe356962331"
      },
      "execution_count": null,
      "outputs": [
        {
          "output_type": "execute_result",
          "data": {
            "text/plain": [
              "                                               Sequence strain_name  label  \\\n",
              "0     ATTAAAGGTTTATACCTTCCCAGGTAACAAACCAACCAACTTTCGA...   sars-cov2      0   \n",
              "1     TCGTACGTGGCTTTGGAGACTCCGTGGAGGAGGTCTTATCAGAGGC...   sars-cov2      0   \n",
              "2     TCGTACGTGGCTTTGGAGACTCCGTGGAGGAGGTCTTATCAGAGGC...   sars-cov2      0   \n",
              "3     TCGTACGTGGCTTTGGAGACTCCGTGGAGGAGGTCTTATCAGAGGC...   sars-cov2      0   \n",
              "4     TCGTACGTGGCTTTGGAGACTCCGTGGAGGAGGTCTTATCAGAGGC...   sars-cov2      0   \n",
              "...                                                 ...         ...    ...   \n",
              "1565  CTACCCAGGAAAAGCCAACCAACCTCGATCTCTTGTAGATCTGTTC...    sars-cov      6   \n",
              "1568  TACCCAGGAAAAGCCAACCAACCTCGATCTCTTGTAGATCTGTTCT...    sars-cov      6   \n",
              "1570  ATATTAGGTTTTTACCTACCCAGGAAAAGCCAACCAACCTCGATCT...    sars-cov      6   \n",
              "1571  TAGGTTTTTACCTACCCAGGAAAAGCCAACCAACCTCGATCTCTTG...    sars-cov      6   \n",
              "1572  CCAGGAAAAGCCAACCAACCTCGATCTCTTGTAGATCTGTTCTCTA...    sars-cov      6   \n",
              "\n",
              "     label_names  \n",
              "0      SARS-CoV2  \n",
              "1      SARS-CoV2  \n",
              "2      SARS-CoV2  \n",
              "3      SARS-CoV2  \n",
              "4      SARS-CoV2  \n",
              "...          ...  \n",
              "1565    SARS-CoV  \n",
              "1568    SARS-CoV  \n",
              "1570    SARS-CoV  \n",
              "1571    SARS-CoV  \n",
              "1572    SARS-CoV  \n",
              "\n",
              "[1781 rows x 4 columns]"
            ],
            "text/html": [
              "\n",
              "\n",
              "  <div id=\"df-1748c46a-c7c4-4f27-a9d8-5ea95f6accb5\">\n",
              "    <div class=\"colab-df-container\">\n",
              "      <div>\n",
              "<style scoped>\n",
              "    .dataframe tbody tr th:only-of-type {\n",
              "        vertical-align: middle;\n",
              "    }\n",
              "\n",
              "    .dataframe tbody tr th {\n",
              "        vertical-align: top;\n",
              "    }\n",
              "\n",
              "    .dataframe thead th {\n",
              "        text-align: right;\n",
              "    }\n",
              "</style>\n",
              "<table border=\"1\" class=\"dataframe\">\n",
              "  <thead>\n",
              "    <tr style=\"text-align: right;\">\n",
              "      <th></th>\n",
              "      <th>Sequence</th>\n",
              "      <th>strain_name</th>\n",
              "      <th>label</th>\n",
              "      <th>label_names</th>\n",
              "    </tr>\n",
              "  </thead>\n",
              "  <tbody>\n",
              "    <tr>\n",
              "      <th>0</th>\n",
              "      <td>ATTAAAGGTTTATACCTTCCCAGGTAACAAACCAACCAACTTTCGA...</td>\n",
              "      <td>sars-cov2</td>\n",
              "      <td>0</td>\n",
              "      <td>SARS-CoV2</td>\n",
              "    </tr>\n",
              "    <tr>\n",
              "      <th>1</th>\n",
              "      <td>TCGTACGTGGCTTTGGAGACTCCGTGGAGGAGGTCTTATCAGAGGC...</td>\n",
              "      <td>sars-cov2</td>\n",
              "      <td>0</td>\n",
              "      <td>SARS-CoV2</td>\n",
              "    </tr>\n",
              "    <tr>\n",
              "      <th>2</th>\n",
              "      <td>TCGTACGTGGCTTTGGAGACTCCGTGGAGGAGGTCTTATCAGAGGC...</td>\n",
              "      <td>sars-cov2</td>\n",
              "      <td>0</td>\n",
              "      <td>SARS-CoV2</td>\n",
              "    </tr>\n",
              "    <tr>\n",
              "      <th>3</th>\n",
              "      <td>TCGTACGTGGCTTTGGAGACTCCGTGGAGGAGGTCTTATCAGAGGC...</td>\n",
              "      <td>sars-cov2</td>\n",
              "      <td>0</td>\n",
              "      <td>SARS-CoV2</td>\n",
              "    </tr>\n",
              "    <tr>\n",
              "      <th>4</th>\n",
              "      <td>TCGTACGTGGCTTTGGAGACTCCGTGGAGGAGGTCTTATCAGAGGC...</td>\n",
              "      <td>sars-cov2</td>\n",
              "      <td>0</td>\n",
              "      <td>SARS-CoV2</td>\n",
              "    </tr>\n",
              "    <tr>\n",
              "      <th>...</th>\n",
              "      <td>...</td>\n",
              "      <td>...</td>\n",
              "      <td>...</td>\n",
              "      <td>...</td>\n",
              "    </tr>\n",
              "    <tr>\n",
              "      <th>1565</th>\n",
              "      <td>CTACCCAGGAAAAGCCAACCAACCTCGATCTCTTGTAGATCTGTTC...</td>\n",
              "      <td>sars-cov</td>\n",
              "      <td>6</td>\n",
              "      <td>SARS-CoV</td>\n",
              "    </tr>\n",
              "    <tr>\n",
              "      <th>1568</th>\n",
              "      <td>TACCCAGGAAAAGCCAACCAACCTCGATCTCTTGTAGATCTGTTCT...</td>\n",
              "      <td>sars-cov</td>\n",
              "      <td>6</td>\n",
              "      <td>SARS-CoV</td>\n",
              "    </tr>\n",
              "    <tr>\n",
              "      <th>1570</th>\n",
              "      <td>ATATTAGGTTTTTACCTACCCAGGAAAAGCCAACCAACCTCGATCT...</td>\n",
              "      <td>sars-cov</td>\n",
              "      <td>6</td>\n",
              "      <td>SARS-CoV</td>\n",
              "    </tr>\n",
              "    <tr>\n",
              "      <th>1571</th>\n",
              "      <td>TAGGTTTTTACCTACCCAGGAAAAGCCAACCAACCTCGATCTCTTG...</td>\n",
              "      <td>sars-cov</td>\n",
              "      <td>6</td>\n",
              "      <td>SARS-CoV</td>\n",
              "    </tr>\n",
              "    <tr>\n",
              "      <th>1572</th>\n",
              "      <td>CCAGGAAAAGCCAACCAACCTCGATCTCTTGTAGATCTGTTCTCTA...</td>\n",
              "      <td>sars-cov</td>\n",
              "      <td>6</td>\n",
              "      <td>SARS-CoV</td>\n",
              "    </tr>\n",
              "  </tbody>\n",
              "</table>\n",
              "<p>1781 rows × 4 columns</p>\n",
              "</div>\n",
              "      <button class=\"colab-df-convert\" onclick=\"convertToInteractive('df-1748c46a-c7c4-4f27-a9d8-5ea95f6accb5')\"\n",
              "              title=\"Convert this dataframe to an interactive table.\"\n",
              "              style=\"display:none;\">\n",
              "\n",
              "  <svg xmlns=\"http://www.w3.org/2000/svg\" height=\"24px\"viewBox=\"0 0 24 24\"\n",
              "       width=\"24px\">\n",
              "    <path d=\"M0 0h24v24H0V0z\" fill=\"none\"/>\n",
              "    <path d=\"M18.56 5.44l.94 2.06.94-2.06 2.06-.94-2.06-.94-.94-2.06-.94 2.06-2.06.94zm-11 1L8.5 8.5l.94-2.06 2.06-.94-2.06-.94L8.5 2.5l-.94 2.06-2.06.94zm10 10l.94 2.06.94-2.06 2.06-.94-2.06-.94-.94-2.06-.94 2.06-2.06.94z\"/><path d=\"M17.41 7.96l-1.37-1.37c-.4-.4-.92-.59-1.43-.59-.52 0-1.04.2-1.43.59L10.3 9.45l-7.72 7.72c-.78.78-.78 2.05 0 2.83L4 21.41c.39.39.9.59 1.41.59.51 0 1.02-.2 1.41-.59l7.78-7.78 2.81-2.81c.8-.78.8-2.07 0-2.86zM5.41 20L4 18.59l7.72-7.72 1.47 1.35L5.41 20z\"/>\n",
              "  </svg>\n",
              "      </button>\n",
              "\n",
              "\n",
              "\n",
              "    <div id=\"df-7c404f1e-ec91-4ebd-944e-e3821c71d01e\">\n",
              "      <button class=\"colab-df-quickchart\" onclick=\"quickchart('df-7c404f1e-ec91-4ebd-944e-e3821c71d01e')\"\n",
              "              title=\"Suggest charts.\"\n",
              "              style=\"display:none;\">\n",
              "\n",
              "<svg xmlns=\"http://www.w3.org/2000/svg\" height=\"24px\"viewBox=\"0 0 24 24\"\n",
              "     width=\"24px\">\n",
              "    <g>\n",
              "        <path d=\"M19 3H5c-1.1 0-2 .9-2 2v14c0 1.1.9 2 2 2h14c1.1 0 2-.9 2-2V5c0-1.1-.9-2-2-2zM9 17H7v-7h2v7zm4 0h-2V7h2v10zm4 0h-2v-4h2v4z\"/>\n",
              "    </g>\n",
              "</svg>\n",
              "      </button>\n",
              "    </div>\n",
              "\n",
              "<style>\n",
              "  .colab-df-quickchart {\n",
              "    background-color: #E8F0FE;\n",
              "    border: none;\n",
              "    border-radius: 50%;\n",
              "    cursor: pointer;\n",
              "    display: none;\n",
              "    fill: #1967D2;\n",
              "    height: 32px;\n",
              "    padding: 0 0 0 0;\n",
              "    width: 32px;\n",
              "  }\n",
              "\n",
              "  .colab-df-quickchart:hover {\n",
              "    background-color: #E2EBFA;\n",
              "    box-shadow: 0px 1px 2px rgba(60, 64, 67, 0.3), 0px 1px 3px 1px rgba(60, 64, 67, 0.15);\n",
              "    fill: #174EA6;\n",
              "  }\n",
              "\n",
              "  [theme=dark] .colab-df-quickchart {\n",
              "    background-color: #3B4455;\n",
              "    fill: #D2E3FC;\n",
              "  }\n",
              "\n",
              "  [theme=dark] .colab-df-quickchart:hover {\n",
              "    background-color: #434B5C;\n",
              "    box-shadow: 0px 1px 3px 1px rgba(0, 0, 0, 0.15);\n",
              "    filter: drop-shadow(0px 1px 2px rgba(0, 0, 0, 0.3));\n",
              "    fill: #FFFFFF;\n",
              "  }\n",
              "</style>\n",
              "\n",
              "    <script>\n",
              "      async function quickchart(key) {\n",
              "        const containerElement = document.querySelector('#' + key);\n",
              "        const charts = await google.colab.kernel.invokeFunction(\n",
              "            'suggestCharts', [key], {});\n",
              "      }\n",
              "    </script>\n",
              "\n",
              "      <script>\n",
              "\n",
              "function displayQuickchartButton(domScope) {\n",
              "  let quickchartButtonEl =\n",
              "    domScope.querySelector('#df-7c404f1e-ec91-4ebd-944e-e3821c71d01e button.colab-df-quickchart');\n",
              "  quickchartButtonEl.style.display =\n",
              "    google.colab.kernel.accessAllowed ? 'block' : 'none';\n",
              "}\n",
              "\n",
              "        displayQuickchartButton(document);\n",
              "      </script>\n",
              "      <style>\n",
              "    .colab-df-container {\n",
              "      display:flex;\n",
              "      flex-wrap:wrap;\n",
              "      gap: 12px;\n",
              "    }\n",
              "\n",
              "    .colab-df-convert {\n",
              "      background-color: #E8F0FE;\n",
              "      border: none;\n",
              "      border-radius: 50%;\n",
              "      cursor: pointer;\n",
              "      display: none;\n",
              "      fill: #1967D2;\n",
              "      height: 32px;\n",
              "      padding: 0 0 0 0;\n",
              "      width: 32px;\n",
              "    }\n",
              "\n",
              "    .colab-df-convert:hover {\n",
              "      background-color: #E2EBFA;\n",
              "      box-shadow: 0px 1px 2px rgba(60, 64, 67, 0.3), 0px 1px 3px 1px rgba(60, 64, 67, 0.15);\n",
              "      fill: #174EA6;\n",
              "    }\n",
              "\n",
              "    [theme=dark] .colab-df-convert {\n",
              "      background-color: #3B4455;\n",
              "      fill: #D2E3FC;\n",
              "    }\n",
              "\n",
              "    [theme=dark] .colab-df-convert:hover {\n",
              "      background-color: #434B5C;\n",
              "      box-shadow: 0px 1px 3px 1px rgba(0, 0, 0, 0.15);\n",
              "      filter: drop-shadow(0px 1px 2px rgba(0, 0, 0, 0.3));\n",
              "      fill: #FFFFFF;\n",
              "    }\n",
              "  </style>\n",
              "\n",
              "      <script>\n",
              "        const buttonEl =\n",
              "          document.querySelector('#df-1748c46a-c7c4-4f27-a9d8-5ea95f6accb5 button.colab-df-convert');\n",
              "        buttonEl.style.display =\n",
              "          google.colab.kernel.accessAllowed ? 'block' : 'none';\n",
              "\n",
              "        async function convertToInteractive(key) {\n",
              "          const element = document.querySelector('#df-1748c46a-c7c4-4f27-a9d8-5ea95f6accb5');\n",
              "          const dataTable =\n",
              "            await google.colab.kernel.invokeFunction('convertToInteractive',\n",
              "                                                     [key], {});\n",
              "          if (!dataTable) return;\n",
              "\n",
              "          const docLinkHtml = 'Like what you see? Visit the ' +\n",
              "            '<a target=\"_blank\" href=https://colab.research.google.com/notebooks/data_table.ipynb>data table notebook</a>'\n",
              "            + ' to learn more about interactive tables.';\n",
              "          element.innerHTML = '';\n",
              "          dataTable['output_type'] = 'display_data';\n",
              "          await google.colab.output.renderOutput(dataTable, element);\n",
              "          const docLink = document.createElement('div');\n",
              "          docLink.innerHTML = docLinkHtml;\n",
              "          element.appendChild(docLink);\n",
              "        }\n",
              "      </script>\n",
              "    </div>\n",
              "  </div>\n"
            ]
          },
          "metadata": {},
          "execution_count": 90
        }
      ]
    },
    {
      "cell_type": "code",
      "source": [
        "### shape of the dataframe\n",
        "data.shape"
      ],
      "metadata": {
        "colab": {
          "base_uri": "https://localhost:8080/"
        },
        "id": "6va-gA23mh8f",
        "outputId": "91974d3f-4fee-465c-857c-323f519f344d"
      },
      "execution_count": null,
      "outputs": [
        {
          "output_type": "execute_result",
          "data": {
            "text/plain": [
              "(1781, 4)"
            ]
          },
          "metadata": {},
          "execution_count": 91
        }
      ]
    },
    {
      "cell_type": "code",
      "source": [
        "## function for transforming genome sequence\n",
        "nucleotide_values = {\n",
        "    'A': 1,\n",
        "    'T': 2,\n",
        "    'C': 3,\n",
        "    'G': 4\n",
        "}\n",
        "\n",
        "def transform_sequence(sequence):\n",
        "    result = []\n",
        "    for nucleotide in sequence:\n",
        "        value = nucleotide_values.get(nucleotide, 0)\n",
        "        result.append(value)\n",
        "    return result\n"
      ],
      "metadata": {
        "id": "tKMLeZt9mjt0"
      },
      "execution_count": null,
      "outputs": []
    },
    {
      "cell_type": "code",
      "source": [
        "data['transformed_sequence'] = data['Sequence'].apply(transform_sequence)"
      ],
      "metadata": {
        "id": "It2m8YD-mp1N"
      },
      "execution_count": null,
      "outputs": []
    },
    {
      "cell_type": "code",
      "source": [
        "data.head()"
      ],
      "metadata": {
        "colab": {
          "base_uri": "https://localhost:8080/",
          "height": 206
        },
        "id": "iXZtvAdimrwN",
        "outputId": "8f0cb923-ffa4-4466-9b76-9ea86af1ceef"
      },
      "execution_count": null,
      "outputs": [
        {
          "output_type": "execute_result",
          "data": {
            "text/plain": [
              "                                            Sequence strain_name  label  \\\n",
              "0  ATTAAAGGTTTATACCTTCCCAGGTAACAAACCAACCAACTTTCGA...   sars-cov2      0   \n",
              "1  TCGTACGTGGCTTTGGAGACTCCGTGGAGGAGGTCTTATCAGAGGC...   sars-cov2      0   \n",
              "2  TCGTACGTGGCTTTGGAGACTCCGTGGAGGAGGTCTTATCAGAGGC...   sars-cov2      0   \n",
              "3  TCGTACGTGGCTTTGGAGACTCCGTGGAGGAGGTCTTATCAGAGGC...   sars-cov2      0   \n",
              "4  TCGTACGTGGCTTTGGAGACTCCGTGGAGGAGGTCTTATCAGAGGC...   sars-cov2      0   \n",
              "\n",
              "  label_names                               transformed_sequence  \n",
              "0   SARS-CoV2  [1, 2, 2, 1, 1, 1, 4, 4, 2, 2, 2, 1, 2, 1, 3, ...  \n",
              "1   SARS-CoV2  [2, 3, 4, 2, 1, 3, 4, 2, 4, 4, 3, 2, 2, 2, 4, ...  \n",
              "2   SARS-CoV2  [2, 3, 4, 2, 1, 3, 4, 2, 4, 4, 3, 2, 2, 2, 4, ...  \n",
              "3   SARS-CoV2  [2, 3, 4, 2, 1, 3, 4, 2, 4, 4, 3, 2, 2, 2, 4, ...  \n",
              "4   SARS-CoV2  [2, 3, 4, 2, 1, 3, 4, 2, 4, 4, 3, 2, 2, 2, 4, ...  "
            ],
            "text/html": [
              "\n",
              "\n",
              "  <div id=\"df-12632a71-bbeb-4a84-a1d1-bb4a791df15d\">\n",
              "    <div class=\"colab-df-container\">\n",
              "      <div>\n",
              "<style scoped>\n",
              "    .dataframe tbody tr th:only-of-type {\n",
              "        vertical-align: middle;\n",
              "    }\n",
              "\n",
              "    .dataframe tbody tr th {\n",
              "        vertical-align: top;\n",
              "    }\n",
              "\n",
              "    .dataframe thead th {\n",
              "        text-align: right;\n",
              "    }\n",
              "</style>\n",
              "<table border=\"1\" class=\"dataframe\">\n",
              "  <thead>\n",
              "    <tr style=\"text-align: right;\">\n",
              "      <th></th>\n",
              "      <th>Sequence</th>\n",
              "      <th>strain_name</th>\n",
              "      <th>label</th>\n",
              "      <th>label_names</th>\n",
              "      <th>transformed_sequence</th>\n",
              "    </tr>\n",
              "  </thead>\n",
              "  <tbody>\n",
              "    <tr>\n",
              "      <th>0</th>\n",
              "      <td>ATTAAAGGTTTATACCTTCCCAGGTAACAAACCAACCAACTTTCGA...</td>\n",
              "      <td>sars-cov2</td>\n",
              "      <td>0</td>\n",
              "      <td>SARS-CoV2</td>\n",
              "      <td>[1, 2, 2, 1, 1, 1, 4, 4, 2, 2, 2, 1, 2, 1, 3, ...</td>\n",
              "    </tr>\n",
              "    <tr>\n",
              "      <th>1</th>\n",
              "      <td>TCGTACGTGGCTTTGGAGACTCCGTGGAGGAGGTCTTATCAGAGGC...</td>\n",
              "      <td>sars-cov2</td>\n",
              "      <td>0</td>\n",
              "      <td>SARS-CoV2</td>\n",
              "      <td>[2, 3, 4, 2, 1, 3, 4, 2, 4, 4, 3, 2, 2, 2, 4, ...</td>\n",
              "    </tr>\n",
              "    <tr>\n",
              "      <th>2</th>\n",
              "      <td>TCGTACGTGGCTTTGGAGACTCCGTGGAGGAGGTCTTATCAGAGGC...</td>\n",
              "      <td>sars-cov2</td>\n",
              "      <td>0</td>\n",
              "      <td>SARS-CoV2</td>\n",
              "      <td>[2, 3, 4, 2, 1, 3, 4, 2, 4, 4, 3, 2, 2, 2, 4, ...</td>\n",
              "    </tr>\n",
              "    <tr>\n",
              "      <th>3</th>\n",
              "      <td>TCGTACGTGGCTTTGGAGACTCCGTGGAGGAGGTCTTATCAGAGGC...</td>\n",
              "      <td>sars-cov2</td>\n",
              "      <td>0</td>\n",
              "      <td>SARS-CoV2</td>\n",
              "      <td>[2, 3, 4, 2, 1, 3, 4, 2, 4, 4, 3, 2, 2, 2, 4, ...</td>\n",
              "    </tr>\n",
              "    <tr>\n",
              "      <th>4</th>\n",
              "      <td>TCGTACGTGGCTTTGGAGACTCCGTGGAGGAGGTCTTATCAGAGGC...</td>\n",
              "      <td>sars-cov2</td>\n",
              "      <td>0</td>\n",
              "      <td>SARS-CoV2</td>\n",
              "      <td>[2, 3, 4, 2, 1, 3, 4, 2, 4, 4, 3, 2, 2, 2, 4, ...</td>\n",
              "    </tr>\n",
              "  </tbody>\n",
              "</table>\n",
              "</div>\n",
              "      <button class=\"colab-df-convert\" onclick=\"convertToInteractive('df-12632a71-bbeb-4a84-a1d1-bb4a791df15d')\"\n",
              "              title=\"Convert this dataframe to an interactive table.\"\n",
              "              style=\"display:none;\">\n",
              "\n",
              "  <svg xmlns=\"http://www.w3.org/2000/svg\" height=\"24px\"viewBox=\"0 0 24 24\"\n",
              "       width=\"24px\">\n",
              "    <path d=\"M0 0h24v24H0V0z\" fill=\"none\"/>\n",
              "    <path d=\"M18.56 5.44l.94 2.06.94-2.06 2.06-.94-2.06-.94-.94-2.06-.94 2.06-2.06.94zm-11 1L8.5 8.5l.94-2.06 2.06-.94-2.06-.94L8.5 2.5l-.94 2.06-2.06.94zm10 10l.94 2.06.94-2.06 2.06-.94-2.06-.94-.94-2.06-.94 2.06-2.06.94z\"/><path d=\"M17.41 7.96l-1.37-1.37c-.4-.4-.92-.59-1.43-.59-.52 0-1.04.2-1.43.59L10.3 9.45l-7.72 7.72c-.78.78-.78 2.05 0 2.83L4 21.41c.39.39.9.59 1.41.59.51 0 1.02-.2 1.41-.59l7.78-7.78 2.81-2.81c.8-.78.8-2.07 0-2.86zM5.41 20L4 18.59l7.72-7.72 1.47 1.35L5.41 20z\"/>\n",
              "  </svg>\n",
              "      </button>\n",
              "\n",
              "\n",
              "\n",
              "    <div id=\"df-75aac501-d82c-4656-a1c6-7e931b797422\">\n",
              "      <button class=\"colab-df-quickchart\" onclick=\"quickchart('df-75aac501-d82c-4656-a1c6-7e931b797422')\"\n",
              "              title=\"Suggest charts.\"\n",
              "              style=\"display:none;\">\n",
              "\n",
              "<svg xmlns=\"http://www.w3.org/2000/svg\" height=\"24px\"viewBox=\"0 0 24 24\"\n",
              "     width=\"24px\">\n",
              "    <g>\n",
              "        <path d=\"M19 3H5c-1.1 0-2 .9-2 2v14c0 1.1.9 2 2 2h14c1.1 0 2-.9 2-2V5c0-1.1-.9-2-2-2zM9 17H7v-7h2v7zm4 0h-2V7h2v10zm4 0h-2v-4h2v4z\"/>\n",
              "    </g>\n",
              "</svg>\n",
              "      </button>\n",
              "    </div>\n",
              "\n",
              "<style>\n",
              "  .colab-df-quickchart {\n",
              "    background-color: #E8F0FE;\n",
              "    border: none;\n",
              "    border-radius: 50%;\n",
              "    cursor: pointer;\n",
              "    display: none;\n",
              "    fill: #1967D2;\n",
              "    height: 32px;\n",
              "    padding: 0 0 0 0;\n",
              "    width: 32px;\n",
              "  }\n",
              "\n",
              "  .colab-df-quickchart:hover {\n",
              "    background-color: #E2EBFA;\n",
              "    box-shadow: 0px 1px 2px rgba(60, 64, 67, 0.3), 0px 1px 3px 1px rgba(60, 64, 67, 0.15);\n",
              "    fill: #174EA6;\n",
              "  }\n",
              "\n",
              "  [theme=dark] .colab-df-quickchart {\n",
              "    background-color: #3B4455;\n",
              "    fill: #D2E3FC;\n",
              "  }\n",
              "\n",
              "  [theme=dark] .colab-df-quickchart:hover {\n",
              "    background-color: #434B5C;\n",
              "    box-shadow: 0px 1px 3px 1px rgba(0, 0, 0, 0.15);\n",
              "    filter: drop-shadow(0px 1px 2px rgba(0, 0, 0, 0.3));\n",
              "    fill: #FFFFFF;\n",
              "  }\n",
              "</style>\n",
              "\n",
              "    <script>\n",
              "      async function quickchart(key) {\n",
              "        const containerElement = document.querySelector('#' + key);\n",
              "        const charts = await google.colab.kernel.invokeFunction(\n",
              "            'suggestCharts', [key], {});\n",
              "      }\n",
              "    </script>\n",
              "\n",
              "      <script>\n",
              "\n",
              "function displayQuickchartButton(domScope) {\n",
              "  let quickchartButtonEl =\n",
              "    domScope.querySelector('#df-75aac501-d82c-4656-a1c6-7e931b797422 button.colab-df-quickchart');\n",
              "  quickchartButtonEl.style.display =\n",
              "    google.colab.kernel.accessAllowed ? 'block' : 'none';\n",
              "}\n",
              "\n",
              "        displayQuickchartButton(document);\n",
              "      </script>\n",
              "      <style>\n",
              "    .colab-df-container {\n",
              "      display:flex;\n",
              "      flex-wrap:wrap;\n",
              "      gap: 12px;\n",
              "    }\n",
              "\n",
              "    .colab-df-convert {\n",
              "      background-color: #E8F0FE;\n",
              "      border: none;\n",
              "      border-radius: 50%;\n",
              "      cursor: pointer;\n",
              "      display: none;\n",
              "      fill: #1967D2;\n",
              "      height: 32px;\n",
              "      padding: 0 0 0 0;\n",
              "      width: 32px;\n",
              "    }\n",
              "\n",
              "    .colab-df-convert:hover {\n",
              "      background-color: #E2EBFA;\n",
              "      box-shadow: 0px 1px 2px rgba(60, 64, 67, 0.3), 0px 1px 3px 1px rgba(60, 64, 67, 0.15);\n",
              "      fill: #174EA6;\n",
              "    }\n",
              "\n",
              "    [theme=dark] .colab-df-convert {\n",
              "      background-color: #3B4455;\n",
              "      fill: #D2E3FC;\n",
              "    }\n",
              "\n",
              "    [theme=dark] .colab-df-convert:hover {\n",
              "      background-color: #434B5C;\n",
              "      box-shadow: 0px 1px 3px 1px rgba(0, 0, 0, 0.15);\n",
              "      filter: drop-shadow(0px 1px 2px rgba(0, 0, 0, 0.3));\n",
              "      fill: #FFFFFF;\n",
              "    }\n",
              "  </style>\n",
              "\n",
              "      <script>\n",
              "        const buttonEl =\n",
              "          document.querySelector('#df-12632a71-bbeb-4a84-a1d1-bb4a791df15d button.colab-df-convert');\n",
              "        buttonEl.style.display =\n",
              "          google.colab.kernel.accessAllowed ? 'block' : 'none';\n",
              "\n",
              "        async function convertToInteractive(key) {\n",
              "          const element = document.querySelector('#df-12632a71-bbeb-4a84-a1d1-bb4a791df15d');\n",
              "          const dataTable =\n",
              "            await google.colab.kernel.invokeFunction('convertToInteractive',\n",
              "                                                     [key], {});\n",
              "          if (!dataTable) return;\n",
              "\n",
              "          const docLinkHtml = 'Like what you see? Visit the ' +\n",
              "            '<a target=\"_blank\" href=https://colab.research.google.com/notebooks/data_table.ipynb>data table notebook</a>'\n",
              "            + ' to learn more about interactive tables.';\n",
              "          element.innerHTML = '';\n",
              "          dataTable['output_type'] = 'display_data';\n",
              "          await google.colab.output.renderOutput(dataTable, element);\n",
              "          const docLink = document.createElement('div');\n",
              "          docLink.innerHTML = docLinkHtml;\n",
              "          element.appendChild(docLink);\n",
              "        }\n",
              "      </script>\n",
              "    </div>\n",
              "  </div>\n"
            ]
          },
          "metadata": {},
          "execution_count": 94
        }
      ]
    },
    {
      "cell_type": "code",
      "source": [
        "## calculating maximum length of the sequence\n",
        "max_len = max([len(seq) for seq in data['Sequence']])\n",
        "print(f\"maximum length = {max_len}\")"
      ],
      "metadata": {
        "colab": {
          "base_uri": "https://localhost:8080/"
        },
        "id": "5cYgPORQmuZR",
        "outputId": "f32530f2-ca11-417e-e9ba-71ba849b9147"
      },
      "execution_count": null,
      "outputs": [
        {
          "output_type": "stream",
          "name": "stdout",
          "text": [
            "maximum length = 37971\n"
          ]
        }
      ]
    },
    {
      "cell_type": "code",
      "source": [
        "### Function for making all sequences into same length\n",
        "def pad_sequence(sequence, padding_size):\n",
        "    padded_sequence = np.zeros(padding_size)\n",
        "    padded_sequence[:len(sequence)] = sequence\n",
        "    return padded_sequence"
      ],
      "metadata": {
        "id": "is32ougrm4kO"
      },
      "execution_count": null,
      "outputs": []
    },
    {
      "cell_type": "code",
      "source": [
        "data['padded_sequence'] = data['transformed_sequence'].apply(lambda x: pad_sequence(x, max_len))"
      ],
      "metadata": {
        "id": "cH6UHh9nm6_g"
      },
      "execution_count": null,
      "outputs": []
    },
    {
      "cell_type": "code",
      "source": [
        "data.head()"
      ],
      "metadata": {
        "colab": {
          "base_uri": "https://localhost:8080/",
          "height": 206
        },
        "id": "BO0seOrdm82h",
        "outputId": "e8d77c74-45df-43f5-c953-091503fe64f5"
      },
      "execution_count": null,
      "outputs": [
        {
          "output_type": "execute_result",
          "data": {
            "text/plain": [
              "                                            Sequence strain_name  label  \\\n",
              "0  ATTAAAGGTTTATACCTTCCCAGGTAACAAACCAACCAACTTTCGA...   sars-cov2      0   \n",
              "1  TCGTACGTGGCTTTGGAGACTCCGTGGAGGAGGTCTTATCAGAGGC...   sars-cov2      0   \n",
              "2  TCGTACGTGGCTTTGGAGACTCCGTGGAGGAGGTCTTATCAGAGGC...   sars-cov2      0   \n",
              "3  TCGTACGTGGCTTTGGAGACTCCGTGGAGGAGGTCTTATCAGAGGC...   sars-cov2      0   \n",
              "4  TCGTACGTGGCTTTGGAGACTCCGTGGAGGAGGTCTTATCAGAGGC...   sars-cov2      0   \n",
              "\n",
              "  label_names                               transformed_sequence  \\\n",
              "0   SARS-CoV2  [1, 2, 2, 1, 1, 1, 4, 4, 2, 2, 2, 1, 2, 1, 3, ...   \n",
              "1   SARS-CoV2  [2, 3, 4, 2, 1, 3, 4, 2, 4, 4, 3, 2, 2, 2, 4, ...   \n",
              "2   SARS-CoV2  [2, 3, 4, 2, 1, 3, 4, 2, 4, 4, 3, 2, 2, 2, 4, ...   \n",
              "3   SARS-CoV2  [2, 3, 4, 2, 1, 3, 4, 2, 4, 4, 3, 2, 2, 2, 4, ...   \n",
              "4   SARS-CoV2  [2, 3, 4, 2, 1, 3, 4, 2, 4, 4, 3, 2, 2, 2, 4, ...   \n",
              "\n",
              "                                     padded_sequence  \n",
              "0  [1.0, 2.0, 2.0, 1.0, 1.0, 1.0, 4.0, 4.0, 2.0, ...  \n",
              "1  [2.0, 3.0, 4.0, 2.0, 1.0, 3.0, 4.0, 2.0, 4.0, ...  \n",
              "2  [2.0, 3.0, 4.0, 2.0, 1.0, 3.0, 4.0, 2.0, 4.0, ...  \n",
              "3  [2.0, 3.0, 4.0, 2.0, 1.0, 3.0, 4.0, 2.0, 4.0, ...  \n",
              "4  [2.0, 3.0, 4.0, 2.0, 1.0, 3.0, 4.0, 2.0, 4.0, ...  "
            ],
            "text/html": [
              "\n",
              "\n",
              "  <div id=\"df-6dfefb59-9397-4571-aefd-ec50cdb5958d\">\n",
              "    <div class=\"colab-df-container\">\n",
              "      <div>\n",
              "<style scoped>\n",
              "    .dataframe tbody tr th:only-of-type {\n",
              "        vertical-align: middle;\n",
              "    }\n",
              "\n",
              "    .dataframe tbody tr th {\n",
              "        vertical-align: top;\n",
              "    }\n",
              "\n",
              "    .dataframe thead th {\n",
              "        text-align: right;\n",
              "    }\n",
              "</style>\n",
              "<table border=\"1\" class=\"dataframe\">\n",
              "  <thead>\n",
              "    <tr style=\"text-align: right;\">\n",
              "      <th></th>\n",
              "      <th>Sequence</th>\n",
              "      <th>strain_name</th>\n",
              "      <th>label</th>\n",
              "      <th>label_names</th>\n",
              "      <th>transformed_sequence</th>\n",
              "      <th>padded_sequence</th>\n",
              "    </tr>\n",
              "  </thead>\n",
              "  <tbody>\n",
              "    <tr>\n",
              "      <th>0</th>\n",
              "      <td>ATTAAAGGTTTATACCTTCCCAGGTAACAAACCAACCAACTTTCGA...</td>\n",
              "      <td>sars-cov2</td>\n",
              "      <td>0</td>\n",
              "      <td>SARS-CoV2</td>\n",
              "      <td>[1, 2, 2, 1, 1, 1, 4, 4, 2, 2, 2, 1, 2, 1, 3, ...</td>\n",
              "      <td>[1.0, 2.0, 2.0, 1.0, 1.0, 1.0, 4.0, 4.0, 2.0, ...</td>\n",
              "    </tr>\n",
              "    <tr>\n",
              "      <th>1</th>\n",
              "      <td>TCGTACGTGGCTTTGGAGACTCCGTGGAGGAGGTCTTATCAGAGGC...</td>\n",
              "      <td>sars-cov2</td>\n",
              "      <td>0</td>\n",
              "      <td>SARS-CoV2</td>\n",
              "      <td>[2, 3, 4, 2, 1, 3, 4, 2, 4, 4, 3, 2, 2, 2, 4, ...</td>\n",
              "      <td>[2.0, 3.0, 4.0, 2.0, 1.0, 3.0, 4.0, 2.0, 4.0, ...</td>\n",
              "    </tr>\n",
              "    <tr>\n",
              "      <th>2</th>\n",
              "      <td>TCGTACGTGGCTTTGGAGACTCCGTGGAGGAGGTCTTATCAGAGGC...</td>\n",
              "      <td>sars-cov2</td>\n",
              "      <td>0</td>\n",
              "      <td>SARS-CoV2</td>\n",
              "      <td>[2, 3, 4, 2, 1, 3, 4, 2, 4, 4, 3, 2, 2, 2, 4, ...</td>\n",
              "      <td>[2.0, 3.0, 4.0, 2.0, 1.0, 3.0, 4.0, 2.0, 4.0, ...</td>\n",
              "    </tr>\n",
              "    <tr>\n",
              "      <th>3</th>\n",
              "      <td>TCGTACGTGGCTTTGGAGACTCCGTGGAGGAGGTCTTATCAGAGGC...</td>\n",
              "      <td>sars-cov2</td>\n",
              "      <td>0</td>\n",
              "      <td>SARS-CoV2</td>\n",
              "      <td>[2, 3, 4, 2, 1, 3, 4, 2, 4, 4, 3, 2, 2, 2, 4, ...</td>\n",
              "      <td>[2.0, 3.0, 4.0, 2.0, 1.0, 3.0, 4.0, 2.0, 4.0, ...</td>\n",
              "    </tr>\n",
              "    <tr>\n",
              "      <th>4</th>\n",
              "      <td>TCGTACGTGGCTTTGGAGACTCCGTGGAGGAGGTCTTATCAGAGGC...</td>\n",
              "      <td>sars-cov2</td>\n",
              "      <td>0</td>\n",
              "      <td>SARS-CoV2</td>\n",
              "      <td>[2, 3, 4, 2, 1, 3, 4, 2, 4, 4, 3, 2, 2, 2, 4, ...</td>\n",
              "      <td>[2.0, 3.0, 4.0, 2.0, 1.0, 3.0, 4.0, 2.0, 4.0, ...</td>\n",
              "    </tr>\n",
              "  </tbody>\n",
              "</table>\n",
              "</div>\n",
              "      <button class=\"colab-df-convert\" onclick=\"convertToInteractive('df-6dfefb59-9397-4571-aefd-ec50cdb5958d')\"\n",
              "              title=\"Convert this dataframe to an interactive table.\"\n",
              "              style=\"display:none;\">\n",
              "\n",
              "  <svg xmlns=\"http://www.w3.org/2000/svg\" height=\"24px\"viewBox=\"0 0 24 24\"\n",
              "       width=\"24px\">\n",
              "    <path d=\"M0 0h24v24H0V0z\" fill=\"none\"/>\n",
              "    <path d=\"M18.56 5.44l.94 2.06.94-2.06 2.06-.94-2.06-.94-.94-2.06-.94 2.06-2.06.94zm-11 1L8.5 8.5l.94-2.06 2.06-.94-2.06-.94L8.5 2.5l-.94 2.06-2.06.94zm10 10l.94 2.06.94-2.06 2.06-.94-2.06-.94-.94-2.06-.94 2.06-2.06.94z\"/><path d=\"M17.41 7.96l-1.37-1.37c-.4-.4-.92-.59-1.43-.59-.52 0-1.04.2-1.43.59L10.3 9.45l-7.72 7.72c-.78.78-.78 2.05 0 2.83L4 21.41c.39.39.9.59 1.41.59.51 0 1.02-.2 1.41-.59l7.78-7.78 2.81-2.81c.8-.78.8-2.07 0-2.86zM5.41 20L4 18.59l7.72-7.72 1.47 1.35L5.41 20z\"/>\n",
              "  </svg>\n",
              "      </button>\n",
              "\n",
              "\n",
              "\n",
              "    <div id=\"df-5ca2e9f0-f81b-4478-951e-c73e278a063f\">\n",
              "      <button class=\"colab-df-quickchart\" onclick=\"quickchart('df-5ca2e9f0-f81b-4478-951e-c73e278a063f')\"\n",
              "              title=\"Suggest charts.\"\n",
              "              style=\"display:none;\">\n",
              "\n",
              "<svg xmlns=\"http://www.w3.org/2000/svg\" height=\"24px\"viewBox=\"0 0 24 24\"\n",
              "     width=\"24px\">\n",
              "    <g>\n",
              "        <path d=\"M19 3H5c-1.1 0-2 .9-2 2v14c0 1.1.9 2 2 2h14c1.1 0 2-.9 2-2V5c0-1.1-.9-2-2-2zM9 17H7v-7h2v7zm4 0h-2V7h2v10zm4 0h-2v-4h2v4z\"/>\n",
              "    </g>\n",
              "</svg>\n",
              "      </button>\n",
              "    </div>\n",
              "\n",
              "<style>\n",
              "  .colab-df-quickchart {\n",
              "    background-color: #E8F0FE;\n",
              "    border: none;\n",
              "    border-radius: 50%;\n",
              "    cursor: pointer;\n",
              "    display: none;\n",
              "    fill: #1967D2;\n",
              "    height: 32px;\n",
              "    padding: 0 0 0 0;\n",
              "    width: 32px;\n",
              "  }\n",
              "\n",
              "  .colab-df-quickchart:hover {\n",
              "    background-color: #E2EBFA;\n",
              "    box-shadow: 0px 1px 2px rgba(60, 64, 67, 0.3), 0px 1px 3px 1px rgba(60, 64, 67, 0.15);\n",
              "    fill: #174EA6;\n",
              "  }\n",
              "\n",
              "  [theme=dark] .colab-df-quickchart {\n",
              "    background-color: #3B4455;\n",
              "    fill: #D2E3FC;\n",
              "  }\n",
              "\n",
              "  [theme=dark] .colab-df-quickchart:hover {\n",
              "    background-color: #434B5C;\n",
              "    box-shadow: 0px 1px 3px 1px rgba(0, 0, 0, 0.15);\n",
              "    filter: drop-shadow(0px 1px 2px rgba(0, 0, 0, 0.3));\n",
              "    fill: #FFFFFF;\n",
              "  }\n",
              "</style>\n",
              "\n",
              "    <script>\n",
              "      async function quickchart(key) {\n",
              "        const containerElement = document.querySelector('#' + key);\n",
              "        const charts = await google.colab.kernel.invokeFunction(\n",
              "            'suggestCharts', [key], {});\n",
              "      }\n",
              "    </script>\n",
              "\n",
              "      <script>\n",
              "\n",
              "function displayQuickchartButton(domScope) {\n",
              "  let quickchartButtonEl =\n",
              "    domScope.querySelector('#df-5ca2e9f0-f81b-4478-951e-c73e278a063f button.colab-df-quickchart');\n",
              "  quickchartButtonEl.style.display =\n",
              "    google.colab.kernel.accessAllowed ? 'block' : 'none';\n",
              "}\n",
              "\n",
              "        displayQuickchartButton(document);\n",
              "      </script>\n",
              "      <style>\n",
              "    .colab-df-container {\n",
              "      display:flex;\n",
              "      flex-wrap:wrap;\n",
              "      gap: 12px;\n",
              "    }\n",
              "\n",
              "    .colab-df-convert {\n",
              "      background-color: #E8F0FE;\n",
              "      border: none;\n",
              "      border-radius: 50%;\n",
              "      cursor: pointer;\n",
              "      display: none;\n",
              "      fill: #1967D2;\n",
              "      height: 32px;\n",
              "      padding: 0 0 0 0;\n",
              "      width: 32px;\n",
              "    }\n",
              "\n",
              "    .colab-df-convert:hover {\n",
              "      background-color: #E2EBFA;\n",
              "      box-shadow: 0px 1px 2px rgba(60, 64, 67, 0.3), 0px 1px 3px 1px rgba(60, 64, 67, 0.15);\n",
              "      fill: #174EA6;\n",
              "    }\n",
              "\n",
              "    [theme=dark] .colab-df-convert {\n",
              "      background-color: #3B4455;\n",
              "      fill: #D2E3FC;\n",
              "    }\n",
              "\n",
              "    [theme=dark] .colab-df-convert:hover {\n",
              "      background-color: #434B5C;\n",
              "      box-shadow: 0px 1px 3px 1px rgba(0, 0, 0, 0.15);\n",
              "      filter: drop-shadow(0px 1px 2px rgba(0, 0, 0, 0.3));\n",
              "      fill: #FFFFFF;\n",
              "    }\n",
              "  </style>\n",
              "\n",
              "      <script>\n",
              "        const buttonEl =\n",
              "          document.querySelector('#df-6dfefb59-9397-4571-aefd-ec50cdb5958d button.colab-df-convert');\n",
              "        buttonEl.style.display =\n",
              "          google.colab.kernel.accessAllowed ? 'block' : 'none';\n",
              "\n",
              "        async function convertToInteractive(key) {\n",
              "          const element = document.querySelector('#df-6dfefb59-9397-4571-aefd-ec50cdb5958d');\n",
              "          const dataTable =\n",
              "            await google.colab.kernel.invokeFunction('convertToInteractive',\n",
              "                                                     [key], {});\n",
              "          if (!dataTable) return;\n",
              "\n",
              "          const docLinkHtml = 'Like what you see? Visit the ' +\n",
              "            '<a target=\"_blank\" href=https://colab.research.google.com/notebooks/data_table.ipynb>data table notebook</a>'\n",
              "            + ' to learn more about interactive tables.';\n",
              "          element.innerHTML = '';\n",
              "          dataTable['output_type'] = 'display_data';\n",
              "          await google.colab.output.renderOutput(dataTable, element);\n",
              "          const docLink = document.createElement('div');\n",
              "          docLink.innerHTML = docLinkHtml;\n",
              "          element.appendChild(docLink);\n",
              "        }\n",
              "      </script>\n",
              "    </div>\n",
              "  </div>\n"
            ]
          },
          "metadata": {},
          "execution_count": 100
        }
      ]
    },
    {
      "cell_type": "code",
      "source": [
        "data.shape"
      ],
      "metadata": {
        "colab": {
          "base_uri": "https://localhost:8080/"
        },
        "id": "Jidb0r9Um_oe",
        "outputId": "19d37cfc-6911-482b-8df6-eddc18b0b528"
      },
      "execution_count": null,
      "outputs": [
        {
          "output_type": "execute_result",
          "data": {
            "text/plain": [
              "(1781, 6)"
            ]
          },
          "metadata": {},
          "execution_count": 101
        }
      ]
    },
    {
      "cell_type": "code",
      "source": [
        "data['padded_sequence'].shape"
      ],
      "metadata": {
        "colab": {
          "base_uri": "https://localhost:8080/"
        },
        "id": "hkVwe20vnBT6",
        "outputId": "dceb9c7a-b8ec-4da0-ab3f-bfd8459a993f"
      },
      "execution_count": null,
      "outputs": [
        {
          "output_type": "execute_result",
          "data": {
            "text/plain": [
              "(1781,)"
            ]
          },
          "metadata": {},
          "execution_count": 102
        }
      ]
    },
    {
      "cell_type": "code",
      "source": [
        "### making a new dataframe\n",
        "new_df = pd.DataFrame(data['padded_sequence'].to_list())\n",
        "### saving the preprocessed data into 'genome_sequence.csv'\n",
        "new_df.to_csv('genome_sequence.csv')"
      ],
      "metadata": {
        "id": "JoRpfXw2nC0R"
      },
      "execution_count": null,
      "outputs": []
    },
    {
      "cell_type": "code",
      "source": [
        "label = data['label']\n",
        "label.shape"
      ],
      "metadata": {
        "colab": {
          "base_uri": "https://localhost:8080/"
        },
        "id": "zEc90TmBnEiM",
        "outputId": "7d125e19-1162-4091-da5a-d6078f325193"
      },
      "execution_count": null,
      "outputs": [
        {
          "output_type": "execute_result",
          "data": {
            "text/plain": [
              "(1781,)"
            ]
          },
          "metadata": {},
          "execution_count": 104
        }
      ]
    },
    {
      "cell_type": "code",
      "source": [
        "### saving the labels as 'multi_level.csv'\n",
        "label.to_csv('multi_label.csv', index=False)"
      ],
      "metadata": {
        "id": "CSIYu4ydneW2"
      },
      "execution_count": null,
      "outputs": []
    },
    {
      "cell_type": "markdown",
      "source": [
        "## Implementation starts from here"
      ],
      "metadata": {
        "id": "DysPuEWtngHn"
      }
    },
    {
      "cell_type": "code",
      "source": [
        "import pandas as pd\n",
        "import numpy as np\n",
        "import matplotlib.pyplot as plt"
      ],
      "metadata": {
        "id": "IpPQfmqjn2-H"
      },
      "execution_count": null,
      "outputs": []
    },
    {
      "cell_type": "code",
      "source": [
        "data = pd.read_csv('genome_sequence.csv')\n",
        "labels = pd.read_csv('multi_label.csv')\n",
        "print(f\"data.shape = {data.shape}\")\n",
        "print(f\"labels.shape = {labels.shape}\")"
      ],
      "metadata": {
        "colab": {
          "base_uri": "https://localhost:8080/"
        },
        "id": "VIuJbAFbn430",
        "outputId": "1cc86bac-2010-44bd-a55c-924040e12c4c"
      },
      "execution_count": null,
      "outputs": [
        {
          "output_type": "stream",
          "name": "stdout",
          "text": [
            "data.shape = (1781, 37972)\n",
            "labels.shape = (1781, 1)\n"
          ]
        }
      ]
    },
    {
      "cell_type": "code",
      "source": [
        "data.head()"
      ],
      "metadata": {
        "colab": {
          "base_uri": "https://localhost:8080/",
          "height": 235
        },
        "id": "s-eZXgkAn72g",
        "outputId": "19d5ac7d-d537-4817-f46a-061c6cb7fa7a"
      },
      "execution_count": null,
      "outputs": [
        {
          "output_type": "execute_result",
          "data": {
            "text/plain": [
              "   Unnamed: 0    0    1    2    3    4    5    6    7    8  ...  37961  37962  \\\n",
              "0           0  1.0  2.0  2.0  1.0  1.0  1.0  4.0  4.0  2.0  ...    0.0    0.0   \n",
              "1           1  2.0  3.0  4.0  2.0  1.0  3.0  4.0  2.0  4.0  ...    0.0    0.0   \n",
              "2           2  2.0  3.0  4.0  2.0  1.0  3.0  4.0  2.0  4.0  ...    0.0    0.0   \n",
              "3           3  2.0  3.0  4.0  2.0  1.0  3.0  4.0  2.0  4.0  ...    0.0    0.0   \n",
              "4           4  2.0  3.0  4.0  2.0  1.0  3.0  4.0  2.0  4.0  ...    0.0    0.0   \n",
              "\n",
              "   37963  37964  37965  37966  37967  37968  37969  37970  \n",
              "0    0.0    0.0    0.0    0.0    0.0    0.0    0.0    0.0  \n",
              "1    0.0    0.0    0.0    0.0    0.0    0.0    0.0    0.0  \n",
              "2    0.0    0.0    0.0    0.0    0.0    0.0    0.0    0.0  \n",
              "3    0.0    0.0    0.0    0.0    0.0    0.0    0.0    0.0  \n",
              "4    0.0    0.0    0.0    0.0    0.0    0.0    0.0    0.0  \n",
              "\n",
              "[5 rows x 37972 columns]"
            ],
            "text/html": [
              "\n",
              "\n",
              "  <div id=\"df-07396948-024a-4611-af6c-1d0a78c79e95\">\n",
              "    <div class=\"colab-df-container\">\n",
              "      <div>\n",
              "<style scoped>\n",
              "    .dataframe tbody tr th:only-of-type {\n",
              "        vertical-align: middle;\n",
              "    }\n",
              "\n",
              "    .dataframe tbody tr th {\n",
              "        vertical-align: top;\n",
              "    }\n",
              "\n",
              "    .dataframe thead th {\n",
              "        text-align: right;\n",
              "    }\n",
              "</style>\n",
              "<table border=\"1\" class=\"dataframe\">\n",
              "  <thead>\n",
              "    <tr style=\"text-align: right;\">\n",
              "      <th></th>\n",
              "      <th>Unnamed: 0</th>\n",
              "      <th>0</th>\n",
              "      <th>1</th>\n",
              "      <th>2</th>\n",
              "      <th>3</th>\n",
              "      <th>4</th>\n",
              "      <th>5</th>\n",
              "      <th>6</th>\n",
              "      <th>7</th>\n",
              "      <th>8</th>\n",
              "      <th>...</th>\n",
              "      <th>37961</th>\n",
              "      <th>37962</th>\n",
              "      <th>37963</th>\n",
              "      <th>37964</th>\n",
              "      <th>37965</th>\n",
              "      <th>37966</th>\n",
              "      <th>37967</th>\n",
              "      <th>37968</th>\n",
              "      <th>37969</th>\n",
              "      <th>37970</th>\n",
              "    </tr>\n",
              "  </thead>\n",
              "  <tbody>\n",
              "    <tr>\n",
              "      <th>0</th>\n",
              "      <td>0</td>\n",
              "      <td>1.0</td>\n",
              "      <td>2.0</td>\n",
              "      <td>2.0</td>\n",
              "      <td>1.0</td>\n",
              "      <td>1.0</td>\n",
              "      <td>1.0</td>\n",
              "      <td>4.0</td>\n",
              "      <td>4.0</td>\n",
              "      <td>2.0</td>\n",
              "      <td>...</td>\n",
              "      <td>0.0</td>\n",
              "      <td>0.0</td>\n",
              "      <td>0.0</td>\n",
              "      <td>0.0</td>\n",
              "      <td>0.0</td>\n",
              "      <td>0.0</td>\n",
              "      <td>0.0</td>\n",
              "      <td>0.0</td>\n",
              "      <td>0.0</td>\n",
              "      <td>0.0</td>\n",
              "    </tr>\n",
              "    <tr>\n",
              "      <th>1</th>\n",
              "      <td>1</td>\n",
              "      <td>2.0</td>\n",
              "      <td>3.0</td>\n",
              "      <td>4.0</td>\n",
              "      <td>2.0</td>\n",
              "      <td>1.0</td>\n",
              "      <td>3.0</td>\n",
              "      <td>4.0</td>\n",
              "      <td>2.0</td>\n",
              "      <td>4.0</td>\n",
              "      <td>...</td>\n",
              "      <td>0.0</td>\n",
              "      <td>0.0</td>\n",
              "      <td>0.0</td>\n",
              "      <td>0.0</td>\n",
              "      <td>0.0</td>\n",
              "      <td>0.0</td>\n",
              "      <td>0.0</td>\n",
              "      <td>0.0</td>\n",
              "      <td>0.0</td>\n",
              "      <td>0.0</td>\n",
              "    </tr>\n",
              "    <tr>\n",
              "      <th>2</th>\n",
              "      <td>2</td>\n",
              "      <td>2.0</td>\n",
              "      <td>3.0</td>\n",
              "      <td>4.0</td>\n",
              "      <td>2.0</td>\n",
              "      <td>1.0</td>\n",
              "      <td>3.0</td>\n",
              "      <td>4.0</td>\n",
              "      <td>2.0</td>\n",
              "      <td>4.0</td>\n",
              "      <td>...</td>\n",
              "      <td>0.0</td>\n",
              "      <td>0.0</td>\n",
              "      <td>0.0</td>\n",
              "      <td>0.0</td>\n",
              "      <td>0.0</td>\n",
              "      <td>0.0</td>\n",
              "      <td>0.0</td>\n",
              "      <td>0.0</td>\n",
              "      <td>0.0</td>\n",
              "      <td>0.0</td>\n",
              "    </tr>\n",
              "    <tr>\n",
              "      <th>3</th>\n",
              "      <td>3</td>\n",
              "      <td>2.0</td>\n",
              "      <td>3.0</td>\n",
              "      <td>4.0</td>\n",
              "      <td>2.0</td>\n",
              "      <td>1.0</td>\n",
              "      <td>3.0</td>\n",
              "      <td>4.0</td>\n",
              "      <td>2.0</td>\n",
              "      <td>4.0</td>\n",
              "      <td>...</td>\n",
              "      <td>0.0</td>\n",
              "      <td>0.0</td>\n",
              "      <td>0.0</td>\n",
              "      <td>0.0</td>\n",
              "      <td>0.0</td>\n",
              "      <td>0.0</td>\n",
              "      <td>0.0</td>\n",
              "      <td>0.0</td>\n",
              "      <td>0.0</td>\n",
              "      <td>0.0</td>\n",
              "    </tr>\n",
              "    <tr>\n",
              "      <th>4</th>\n",
              "      <td>4</td>\n",
              "      <td>2.0</td>\n",
              "      <td>3.0</td>\n",
              "      <td>4.0</td>\n",
              "      <td>2.0</td>\n",
              "      <td>1.0</td>\n",
              "      <td>3.0</td>\n",
              "      <td>4.0</td>\n",
              "      <td>2.0</td>\n",
              "      <td>4.0</td>\n",
              "      <td>...</td>\n",
              "      <td>0.0</td>\n",
              "      <td>0.0</td>\n",
              "      <td>0.0</td>\n",
              "      <td>0.0</td>\n",
              "      <td>0.0</td>\n",
              "      <td>0.0</td>\n",
              "      <td>0.0</td>\n",
              "      <td>0.0</td>\n",
              "      <td>0.0</td>\n",
              "      <td>0.0</td>\n",
              "    </tr>\n",
              "  </tbody>\n",
              "</table>\n",
              "<p>5 rows × 37972 columns</p>\n",
              "</div>\n",
              "      <button class=\"colab-df-convert\" onclick=\"convertToInteractive('df-07396948-024a-4611-af6c-1d0a78c79e95')\"\n",
              "              title=\"Convert this dataframe to an interactive table.\"\n",
              "              style=\"display:none;\">\n",
              "\n",
              "  <svg xmlns=\"http://www.w3.org/2000/svg\" height=\"24px\"viewBox=\"0 0 24 24\"\n",
              "       width=\"24px\">\n",
              "    <path d=\"M0 0h24v24H0V0z\" fill=\"none\"/>\n",
              "    <path d=\"M18.56 5.44l.94 2.06.94-2.06 2.06-.94-2.06-.94-.94-2.06-.94 2.06-2.06.94zm-11 1L8.5 8.5l.94-2.06 2.06-.94-2.06-.94L8.5 2.5l-.94 2.06-2.06.94zm10 10l.94 2.06.94-2.06 2.06-.94-2.06-.94-.94-2.06-.94 2.06-2.06.94z\"/><path d=\"M17.41 7.96l-1.37-1.37c-.4-.4-.92-.59-1.43-.59-.52 0-1.04.2-1.43.59L10.3 9.45l-7.72 7.72c-.78.78-.78 2.05 0 2.83L4 21.41c.39.39.9.59 1.41.59.51 0 1.02-.2 1.41-.59l7.78-7.78 2.81-2.81c.8-.78.8-2.07 0-2.86zM5.41 20L4 18.59l7.72-7.72 1.47 1.35L5.41 20z\"/>\n",
              "  </svg>\n",
              "      </button>\n",
              "\n",
              "\n",
              "\n",
              "    <div id=\"df-b30a0312-69d3-46d8-b830-c2d9ab98555c\">\n",
              "      <button class=\"colab-df-quickchart\" onclick=\"quickchart('df-b30a0312-69d3-46d8-b830-c2d9ab98555c')\"\n",
              "              title=\"Suggest charts.\"\n",
              "              style=\"display:none;\">\n",
              "\n",
              "<svg xmlns=\"http://www.w3.org/2000/svg\" height=\"24px\"viewBox=\"0 0 24 24\"\n",
              "     width=\"24px\">\n",
              "    <g>\n",
              "        <path d=\"M19 3H5c-1.1 0-2 .9-2 2v14c0 1.1.9 2 2 2h14c1.1 0 2-.9 2-2V5c0-1.1-.9-2-2-2zM9 17H7v-7h2v7zm4 0h-2V7h2v10zm4 0h-2v-4h2v4z\"/>\n",
              "    </g>\n",
              "</svg>\n",
              "      </button>\n",
              "    </div>\n",
              "\n",
              "<style>\n",
              "  .colab-df-quickchart {\n",
              "    background-color: #E8F0FE;\n",
              "    border: none;\n",
              "    border-radius: 50%;\n",
              "    cursor: pointer;\n",
              "    display: none;\n",
              "    fill: #1967D2;\n",
              "    height: 32px;\n",
              "    padding: 0 0 0 0;\n",
              "    width: 32px;\n",
              "  }\n",
              "\n",
              "  .colab-df-quickchart:hover {\n",
              "    background-color: #E2EBFA;\n",
              "    box-shadow: 0px 1px 2px rgba(60, 64, 67, 0.3), 0px 1px 3px 1px rgba(60, 64, 67, 0.15);\n",
              "    fill: #174EA6;\n",
              "  }\n",
              "\n",
              "  [theme=dark] .colab-df-quickchart {\n",
              "    background-color: #3B4455;\n",
              "    fill: #D2E3FC;\n",
              "  }\n",
              "\n",
              "  [theme=dark] .colab-df-quickchart:hover {\n",
              "    background-color: #434B5C;\n",
              "    box-shadow: 0px 1px 3px 1px rgba(0, 0, 0, 0.15);\n",
              "    filter: drop-shadow(0px 1px 2px rgba(0, 0, 0, 0.3));\n",
              "    fill: #FFFFFF;\n",
              "  }\n",
              "</style>\n",
              "\n",
              "    <script>\n",
              "      async function quickchart(key) {\n",
              "        const containerElement = document.querySelector('#' + key);\n",
              "        const charts = await google.colab.kernel.invokeFunction(\n",
              "            'suggestCharts', [key], {});\n",
              "      }\n",
              "    </script>\n",
              "\n",
              "      <script>\n",
              "\n",
              "function displayQuickchartButton(domScope) {\n",
              "  let quickchartButtonEl =\n",
              "    domScope.querySelector('#df-b30a0312-69d3-46d8-b830-c2d9ab98555c button.colab-df-quickchart');\n",
              "  quickchartButtonEl.style.display =\n",
              "    google.colab.kernel.accessAllowed ? 'block' : 'none';\n",
              "}\n",
              "\n",
              "        displayQuickchartButton(document);\n",
              "      </script>\n",
              "      <style>\n",
              "    .colab-df-container {\n",
              "      display:flex;\n",
              "      flex-wrap:wrap;\n",
              "      gap: 12px;\n",
              "    }\n",
              "\n",
              "    .colab-df-convert {\n",
              "      background-color: #E8F0FE;\n",
              "      border: none;\n",
              "      border-radius: 50%;\n",
              "      cursor: pointer;\n",
              "      display: none;\n",
              "      fill: #1967D2;\n",
              "      height: 32px;\n",
              "      padding: 0 0 0 0;\n",
              "      width: 32px;\n",
              "    }\n",
              "\n",
              "    .colab-df-convert:hover {\n",
              "      background-color: #E2EBFA;\n",
              "      box-shadow: 0px 1px 2px rgba(60, 64, 67, 0.3), 0px 1px 3px 1px rgba(60, 64, 67, 0.15);\n",
              "      fill: #174EA6;\n",
              "    }\n",
              "\n",
              "    [theme=dark] .colab-df-convert {\n",
              "      background-color: #3B4455;\n",
              "      fill: #D2E3FC;\n",
              "    }\n",
              "\n",
              "    [theme=dark] .colab-df-convert:hover {\n",
              "      background-color: #434B5C;\n",
              "      box-shadow: 0px 1px 3px 1px rgba(0, 0, 0, 0.15);\n",
              "      filter: drop-shadow(0px 1px 2px rgba(0, 0, 0, 0.3));\n",
              "      fill: #FFFFFF;\n",
              "    }\n",
              "  </style>\n",
              "\n",
              "      <script>\n",
              "        const buttonEl =\n",
              "          document.querySelector('#df-07396948-024a-4611-af6c-1d0a78c79e95 button.colab-df-convert');\n",
              "        buttonEl.style.display =\n",
              "          google.colab.kernel.accessAllowed ? 'block' : 'none';\n",
              "\n",
              "        async function convertToInteractive(key) {\n",
              "          const element = document.querySelector('#df-07396948-024a-4611-af6c-1d0a78c79e95');\n",
              "          const dataTable =\n",
              "            await google.colab.kernel.invokeFunction('convertToInteractive',\n",
              "                                                     [key], {});\n",
              "          if (!dataTable) return;\n",
              "\n",
              "          const docLinkHtml = 'Like what you see? Visit the ' +\n",
              "            '<a target=\"_blank\" href=https://colab.research.google.com/notebooks/data_table.ipynb>data table notebook</a>'\n",
              "            + ' to learn more about interactive tables.';\n",
              "          element.innerHTML = '';\n",
              "          dataTable['output_type'] = 'display_data';\n",
              "          await google.colab.output.renderOutput(dataTable, element);\n",
              "          const docLink = document.createElement('div');\n",
              "          docLink.innerHTML = docLinkHtml;\n",
              "          element.appendChild(docLink);\n",
              "        }\n",
              "      </script>\n",
              "    </div>\n",
              "  </div>\n"
            ]
          },
          "metadata": {},
          "execution_count": 110
        }
      ]
    },
    {
      "cell_type": "code",
      "source": [
        "labels.head()"
      ],
      "metadata": {
        "colab": {
          "base_uri": "https://localhost:8080/",
          "height": 206
        },
        "id": "G95Mzau4pCDV",
        "outputId": "fabeb646-60e0-4408-89e2-09f83c0d8156"
      },
      "execution_count": null,
      "outputs": [
        {
          "output_type": "execute_result",
          "data": {
            "text/plain": [
              "   label\n",
              "0      0\n",
              "1      0\n",
              "2      0\n",
              "3      0\n",
              "4      0"
            ],
            "text/html": [
              "\n",
              "\n",
              "  <div id=\"df-392c5bd5-14c6-4a68-81b9-7c8b09b8594f\">\n",
              "    <div class=\"colab-df-container\">\n",
              "      <div>\n",
              "<style scoped>\n",
              "    .dataframe tbody tr th:only-of-type {\n",
              "        vertical-align: middle;\n",
              "    }\n",
              "\n",
              "    .dataframe tbody tr th {\n",
              "        vertical-align: top;\n",
              "    }\n",
              "\n",
              "    .dataframe thead th {\n",
              "        text-align: right;\n",
              "    }\n",
              "</style>\n",
              "<table border=\"1\" class=\"dataframe\">\n",
              "  <thead>\n",
              "    <tr style=\"text-align: right;\">\n",
              "      <th></th>\n",
              "      <th>label</th>\n",
              "    </tr>\n",
              "  </thead>\n",
              "  <tbody>\n",
              "    <tr>\n",
              "      <th>0</th>\n",
              "      <td>0</td>\n",
              "    </tr>\n",
              "    <tr>\n",
              "      <th>1</th>\n",
              "      <td>0</td>\n",
              "    </tr>\n",
              "    <tr>\n",
              "      <th>2</th>\n",
              "      <td>0</td>\n",
              "    </tr>\n",
              "    <tr>\n",
              "      <th>3</th>\n",
              "      <td>0</td>\n",
              "    </tr>\n",
              "    <tr>\n",
              "      <th>4</th>\n",
              "      <td>0</td>\n",
              "    </tr>\n",
              "  </tbody>\n",
              "</table>\n",
              "</div>\n",
              "      <button class=\"colab-df-convert\" onclick=\"convertToInteractive('df-392c5bd5-14c6-4a68-81b9-7c8b09b8594f')\"\n",
              "              title=\"Convert this dataframe to an interactive table.\"\n",
              "              style=\"display:none;\">\n",
              "\n",
              "  <svg xmlns=\"http://www.w3.org/2000/svg\" height=\"24px\"viewBox=\"0 0 24 24\"\n",
              "       width=\"24px\">\n",
              "    <path d=\"M0 0h24v24H0V0z\" fill=\"none\"/>\n",
              "    <path d=\"M18.56 5.44l.94 2.06.94-2.06 2.06-.94-2.06-.94-.94-2.06-.94 2.06-2.06.94zm-11 1L8.5 8.5l.94-2.06 2.06-.94-2.06-.94L8.5 2.5l-.94 2.06-2.06.94zm10 10l.94 2.06.94-2.06 2.06-.94-2.06-.94-.94-2.06-.94 2.06-2.06.94z\"/><path d=\"M17.41 7.96l-1.37-1.37c-.4-.4-.92-.59-1.43-.59-.52 0-1.04.2-1.43.59L10.3 9.45l-7.72 7.72c-.78.78-.78 2.05 0 2.83L4 21.41c.39.39.9.59 1.41.59.51 0 1.02-.2 1.41-.59l7.78-7.78 2.81-2.81c.8-.78.8-2.07 0-2.86zM5.41 20L4 18.59l7.72-7.72 1.47 1.35L5.41 20z\"/>\n",
              "  </svg>\n",
              "      </button>\n",
              "\n",
              "\n",
              "\n",
              "    <div id=\"df-d11bdc23-12ce-4254-826c-29e7b0ed7aa5\">\n",
              "      <button class=\"colab-df-quickchart\" onclick=\"quickchart('df-d11bdc23-12ce-4254-826c-29e7b0ed7aa5')\"\n",
              "              title=\"Suggest charts.\"\n",
              "              style=\"display:none;\">\n",
              "\n",
              "<svg xmlns=\"http://www.w3.org/2000/svg\" height=\"24px\"viewBox=\"0 0 24 24\"\n",
              "     width=\"24px\">\n",
              "    <g>\n",
              "        <path d=\"M19 3H5c-1.1 0-2 .9-2 2v14c0 1.1.9 2 2 2h14c1.1 0 2-.9 2-2V5c0-1.1-.9-2-2-2zM9 17H7v-7h2v7zm4 0h-2V7h2v10zm4 0h-2v-4h2v4z\"/>\n",
              "    </g>\n",
              "</svg>\n",
              "      </button>\n",
              "    </div>\n",
              "\n",
              "<style>\n",
              "  .colab-df-quickchart {\n",
              "    background-color: #E8F0FE;\n",
              "    border: none;\n",
              "    border-radius: 50%;\n",
              "    cursor: pointer;\n",
              "    display: none;\n",
              "    fill: #1967D2;\n",
              "    height: 32px;\n",
              "    padding: 0 0 0 0;\n",
              "    width: 32px;\n",
              "  }\n",
              "\n",
              "  .colab-df-quickchart:hover {\n",
              "    background-color: #E2EBFA;\n",
              "    box-shadow: 0px 1px 2px rgba(60, 64, 67, 0.3), 0px 1px 3px 1px rgba(60, 64, 67, 0.15);\n",
              "    fill: #174EA6;\n",
              "  }\n",
              "\n",
              "  [theme=dark] .colab-df-quickchart {\n",
              "    background-color: #3B4455;\n",
              "    fill: #D2E3FC;\n",
              "  }\n",
              "\n",
              "  [theme=dark] .colab-df-quickchart:hover {\n",
              "    background-color: #434B5C;\n",
              "    box-shadow: 0px 1px 3px 1px rgba(0, 0, 0, 0.15);\n",
              "    filter: drop-shadow(0px 1px 2px rgba(0, 0, 0, 0.3));\n",
              "    fill: #FFFFFF;\n",
              "  }\n",
              "</style>\n",
              "\n",
              "    <script>\n",
              "      async function quickchart(key) {\n",
              "        const containerElement = document.querySelector('#' + key);\n",
              "        const charts = await google.colab.kernel.invokeFunction(\n",
              "            'suggestCharts', [key], {});\n",
              "      }\n",
              "    </script>\n",
              "\n",
              "      <script>\n",
              "\n",
              "function displayQuickchartButton(domScope) {\n",
              "  let quickchartButtonEl =\n",
              "    domScope.querySelector('#df-d11bdc23-12ce-4254-826c-29e7b0ed7aa5 button.colab-df-quickchart');\n",
              "  quickchartButtonEl.style.display =\n",
              "    google.colab.kernel.accessAllowed ? 'block' : 'none';\n",
              "}\n",
              "\n",
              "        displayQuickchartButton(document);\n",
              "      </script>\n",
              "      <style>\n",
              "    .colab-df-container {\n",
              "      display:flex;\n",
              "      flex-wrap:wrap;\n",
              "      gap: 12px;\n",
              "    }\n",
              "\n",
              "    .colab-df-convert {\n",
              "      background-color: #E8F0FE;\n",
              "      border: none;\n",
              "      border-radius: 50%;\n",
              "      cursor: pointer;\n",
              "      display: none;\n",
              "      fill: #1967D2;\n",
              "      height: 32px;\n",
              "      padding: 0 0 0 0;\n",
              "      width: 32px;\n",
              "    }\n",
              "\n",
              "    .colab-df-convert:hover {\n",
              "      background-color: #E2EBFA;\n",
              "      box-shadow: 0px 1px 2px rgba(60, 64, 67, 0.3), 0px 1px 3px 1px rgba(60, 64, 67, 0.15);\n",
              "      fill: #174EA6;\n",
              "    }\n",
              "\n",
              "    [theme=dark] .colab-df-convert {\n",
              "      background-color: #3B4455;\n",
              "      fill: #D2E3FC;\n",
              "    }\n",
              "\n",
              "    [theme=dark] .colab-df-convert:hover {\n",
              "      background-color: #434B5C;\n",
              "      box-shadow: 0px 1px 3px 1px rgba(0, 0, 0, 0.15);\n",
              "      filter: drop-shadow(0px 1px 2px rgba(0, 0, 0, 0.3));\n",
              "      fill: #FFFFFF;\n",
              "    }\n",
              "  </style>\n",
              "\n",
              "      <script>\n",
              "        const buttonEl =\n",
              "          document.querySelector('#df-392c5bd5-14c6-4a68-81b9-7c8b09b8594f button.colab-df-convert');\n",
              "        buttonEl.style.display =\n",
              "          google.colab.kernel.accessAllowed ? 'block' : 'none';\n",
              "\n",
              "        async function convertToInteractive(key) {\n",
              "          const element = document.querySelector('#df-392c5bd5-14c6-4a68-81b9-7c8b09b8594f');\n",
              "          const dataTable =\n",
              "            await google.colab.kernel.invokeFunction('convertToInteractive',\n",
              "                                                     [key], {});\n",
              "          if (!dataTable) return;\n",
              "\n",
              "          const docLinkHtml = 'Like what you see? Visit the ' +\n",
              "            '<a target=\"_blank\" href=https://colab.research.google.com/notebooks/data_table.ipynb>data table notebook</a>'\n",
              "            + ' to learn more about interactive tables.';\n",
              "          element.innerHTML = '';\n",
              "          dataTable['output_type'] = 'display_data';\n",
              "          await google.colab.output.renderOutput(dataTable, element);\n",
              "          const docLink = document.createElement('div');\n",
              "          docLink.innerHTML = docLinkHtml;\n",
              "          element.appendChild(docLink);\n",
              "        }\n",
              "      </script>\n",
              "    </div>\n",
              "  </div>\n"
            ]
          },
          "metadata": {},
          "execution_count": 111
        }
      ]
    },
    {
      "cell_type": "code",
      "source": [
        "import seaborn as sns\n",
        "sns.countplot(x = labels['label'])"
      ],
      "metadata": {
        "colab": {
          "base_uri": "https://localhost:8080/",
          "height": 466
        },
        "id": "d2I9pAuApDyE",
        "outputId": "16a46de3-8da8-41f9-9c09-efd7c1452ba6"
      },
      "execution_count": null,
      "outputs": [
        {
          "output_type": "execute_result",
          "data": {
            "text/plain": [
              "<Axes: xlabel='label', ylabel='count'>"
            ]
          },
          "metadata": {},
          "execution_count": 112
        },
        {
          "output_type": "display_data",
          "data": {
            "text/plain": [
              "<Figure size 640x480 with 1 Axes>"
            ],
            "image/png": "[encoded data removed]"
          },
          "metadata": {}
        }
      ]
    },
    {
      "cell_type": "code",
      "source": [
        "## checking the type of the data\n",
        "type(data)"
      ],
      "metadata": {
        "colab": {
          "base_uri": "https://localhost:8080/"
        },
        "id": "kMONePGCpF3e",
        "outputId": "309f47cc-a0b6-44db-9122-49ceeed4d83f"
      },
      "execution_count": null,
      "outputs": [
        {
          "output_type": "execute_result",
          "data": {
            "text/plain": [
              "pandas.core.frame.DataFrame"
            ]
          },
          "metadata": {},
          "execution_count": 113
        }
      ]
    },
    {
      "cell_type": "code",
      "source": [
        "type(labels)"
      ],
      "metadata": {
        "colab": {
          "base_uri": "https://localhost:8080/"
        },
        "id": "6E_AOFEHpHuA",
        "outputId": "fe08be7c-2f2a-4b66-87e1-36cf785b6020"
      },
      "execution_count": null,
      "outputs": [
        {
          "output_type": "execute_result",
          "data": {
            "text/plain": [
              "pandas.core.frame.DataFrame"
            ]
          },
          "metadata": {},
          "execution_count": 114
        }
      ]
    },
    {
      "cell_type": "markdown",
      "source": [
        "## Converting data and labels into numpy"
      ],
      "metadata": {
        "id": "qyLqsMIgpJTC"
      }
    },
    {
      "cell_type": "code",
      "source": [
        "X = data.to_numpy()\n",
        "y = labels.to_numpy()"
      ],
      "metadata": {
        "id": "j5BNuK3NpP3E"
      },
      "execution_count": null,
      "outputs": []
    },
    {
      "cell_type": "code",
      "source": [
        "X.shape"
      ],
      "metadata": {
        "colab": {
          "base_uri": "https://localhost:8080/"
        },
        "id": "5MnWxS6EpRqV",
        "outputId": "c46b11c2-a14d-4b5e-ac93-3c04973f43de"
      },
      "execution_count": null,
      "outputs": [
        {
          "output_type": "execute_result",
          "data": {
            "text/plain": [
              "(1781, 37972)"
            ]
          },
          "metadata": {},
          "execution_count": 116
        }
      ]
    },
    {
      "cell_type": "code",
      "source": [
        "y.shape"
      ],
      "metadata": {
        "colab": {
          "base_uri": "https://localhost:8080/"
        },
        "id": "hHut43r3pTOz",
        "outputId": "cf08a07c-6f50-43d6-dadd-2bb529ff5f9b"
      },
      "execution_count": null,
      "outputs": [
        {
          "output_type": "execute_result",
          "data": {
            "text/plain": [
              "(1781, 1)"
            ]
          },
          "metadata": {},
          "execution_count": 117
        }
      ]
    },
    {
      "cell_type": "code",
      "source": [
        "## reshaping the 'labels' array\n",
        "y = y.reshape(-1, )"
      ],
      "metadata": {
        "id": "spdZqYNWpVAS"
      },
      "execution_count": null,
      "outputs": []
    },
    {
      "cell_type": "code",
      "source": [
        "y.shape"
      ],
      "metadata": {
        "colab": {
          "base_uri": "https://localhost:8080/"
        },
        "id": "stDn4zwnpWh1",
        "outputId": "c393a1af-b98f-436c-e57a-6aa73768dd52"
      },
      "execution_count": null,
      "outputs": [
        {
          "output_type": "execute_result",
          "data": {
            "text/plain": [
              "(1781,)"
            ]
          },
          "metadata": {},
          "execution_count": 119
        }
      ]
    },
    {
      "cell_type": "code",
      "source": [
        "y[:10]"
      ],
      "metadata": {
        "colab": {
          "base_uri": "https://localhost:8080/"
        },
        "id": "_n6DRtS2pYZz",
        "outputId": "eda79936-e94a-4b7a-d8b5-1e09c43b4416"
      },
      "execution_count": null,
      "outputs": [
        {
          "output_type": "execute_result",
          "data": {
            "text/plain": [
              "array([0, 0, 0, 0, 0, 0, 0, 0, 0, 0])"
            ]
          },
          "metadata": {},
          "execution_count": 120
        }
      ]
    },
    {
      "cell_type": "markdown",
      "source": [
        "## target data is X and label is y\n"
      ],
      "metadata": {
        "id": "NLmSrFBSpZyn"
      }
    },
    {
      "cell_type": "code",
      "source": [
        "print(f\"X.shape = {X.shape}\")\n",
        "print(f\"X[0] = {X[0].shape}\")"
      ],
      "metadata": {
        "colab": {
          "base_uri": "https://localhost:8080/"
        },
        "id": "KQVNoHPHpeUj",
        "outputId": "1d24545b-3a5e-4c06-acb3-71f6f455c5f2"
      },
      "execution_count": null,
      "outputs": [
        {
          "output_type": "stream",
          "name": "stdout",
          "text": [
            "X.shape = (1781, 37972)\n",
            "X[0] = (37972,)\n"
          ]
        }
      ]
    },
    {
      "cell_type": "code",
      "source": [
        "### Reshaping the data\n",
        "X_data_reshaped = X.reshape(X.shape[0], X.shape[1], 1)\n",
        "X_data_reshaped.shape"
      ],
      "metadata": {
        "colab": {
          "base_uri": "https://localhost:8080/"
        },
        "id": "vDea_XesphEC",
        "outputId": "b3191225-cf6e-4916-d593-e8f5e65218a9"
      },
      "execution_count": null,
      "outputs": [
        {
          "output_type": "execute_result",
          "data": {
            "text/plain": [
              "(1781, 37972, 1)"
            ]
          },
          "metadata": {},
          "execution_count": 122
        }
      ]
    },
    {
      "cell_type": "code",
      "source": [
        "X_data_reshaped.shape[1:]"
      ],
      "metadata": {
        "colab": {
          "base_uri": "https://localhost:8080/"
        },
        "id": "J2a-MAwkpihB",
        "outputId": "aa95a18b-8e7a-438a-a35b-3b2368ed1b22"
      },
      "execution_count": null,
      "outputs": [
        {
          "output_type": "execute_result",
          "data": {
            "text/plain": [
              "(37972, 1)"
            ]
          },
          "metadata": {},
          "execution_count": 123
        }
      ]
    },
    {
      "cell_type": "markdown",
      "source": [
        "## spiltting the dataset into train and test data"
      ],
      "metadata": {
        "id": "NB4eeAicpkD5"
      }
    },
    {
      "cell_type": "code",
      "source": [
        "from sklearn.model_selection import train_test_split"
      ],
      "metadata": {
        "id": "1ZJV1rQLppNW"
      },
      "execution_count": null,
      "outputs": []
    },
    {
      "cell_type": "code",
      "source": [
        "X_train, X_test, y_train, y_test = train_test_split(X_data_reshaped, y, test_size = 0.2, random_state=42, shuffle=True)"
      ],
      "metadata": {
        "id": "GfOgnafgpqtb"
      },
      "execution_count": null,
      "outputs": []
    },
    {
      "cell_type": "code",
      "source": [
        "X_train.shape"
      ],
      "metadata": {
        "colab": {
          "base_uri": "https://localhost:8080/"
        },
        "id": "1FvjYW3ppsMj",
        "outputId": "86d3e879-5dbb-4282-a48e-ec9e2c7aaf3d"
      },
      "execution_count": null,
      "outputs": [
        {
          "output_type": "execute_result",
          "data": {
            "text/plain": [
              "(1424, 37972, 1)"
            ]
          },
          "metadata": {},
          "execution_count": 127
        }
      ]
    },
    {
      "cell_type": "code",
      "source": [
        "X_test.shape"
      ],
      "metadata": {
        "colab": {
          "base_uri": "https://localhost:8080/"
        },
        "id": "xdfhUr0Zpt4s",
        "outputId": "7d246bf7-5a4e-42e5-db55-7b7280b7de15"
      },
      "execution_count": null,
      "outputs": [
        {
          "output_type": "execute_result",
          "data": {
            "text/plain": [
              "(357, 37972, 1)"
            ]
          },
          "metadata": {},
          "execution_count": 128
        }
      ]
    },
    {
      "cell_type": "markdown",
      "source": [
        "## Training and evaluating using 1 dimensional convnet"
      ],
      "metadata": {
        "id": "yFHtyBvDpvNI"
      }
    },
    {
      "cell_type": "code",
      "source": [
        "from keras import models\n",
        "from keras.models import Sequential\n",
        "from keras import layers\n",
        "from keras.optimizers import RMSprop"
      ],
      "metadata": {
        "id": "0xZLNn84p0r9"
      },
      "execution_count": null,
      "outputs": []
    },
    {
      "cell_type": "code",
      "source": [
        "cnn = models.Sequential([\n",
        "    layers.Conv1D(64, kernel_size=150, activation='relu', input_shape=(X_data_reshaped.shape[1:])),\n",
        "    layers.MaxPooling1D(pool_size=5),\n",
        "    layers.Conv1D(128, 50, activation='relu'),\n",
        "    layers.MaxPooling1D(pool_size=2),\n",
        "    layers.Flatten(),\n",
        "    layers.Dense(7, activation='softmax')\n",
        "])\n",
        "\n",
        "cnn.compile(optimizer='adam', loss='sparse_categorical_crossentropy', metrics=['acc'])\n",
        "cnn.summary()"
      ],
      "metadata": {
        "colab": {
          "base_uri": "https://localhost:8080/"
        },
        "id": "Xdmo7VhCp1Fy",
        "outputId": "5202153b-cbc3-404e-d3d7-e55616a8b34a"
      },
      "execution_count": null,
      "outputs": [
        {
          "output_type": "stream",
          "name": "stdout",
          "text": [
            "Model: \"sequential\"\n",
            "_________________________________________________________________\n",
            " Layer (type)                Output Shape              Param #   \n",
            "=================================================================\n",
            " conv1d (Conv1D)             (None, 37823, 64)         9664      \n",
            "                                                                 \n",
            " max_pooling1d (MaxPooling1D  (None, 7564, 64)         0         \n",
            " )                                                               \n",
            "                                                                 \n",
            " conv1d_1 (Conv1D)           (None, 7515, 128)         409728    \n",
            "                                                                 \n",
            " max_pooling1d_1 (MaxPooling  (None, 3757, 128)        0         \n",
            " 1D)                                                             \n",
            "                                                                 \n",
            " flatten (Flatten)           (None, 480896)            0         \n",
            "                                                                 \n",
            " dense (Dense)               (None, 7)                 3366279   \n",
            "                                                                 \n",
            "=================================================================\n",
            "Total params: 3,785,671\n",
            "Trainable params: 3,785,671\n",
            "Non-trainable params: 0\n",
            "_________________________________________________________________\n"
          ]
        }
      ]
    },
    {
      "cell_type": "code",
      "source": [
        "history = cnn.fit(X_train, y_train,\n",
        "                  epochs=10,\n",
        "                  batch_size=256,\n",
        "                  validation_split=0.1)"
      ],
      "metadata": {
        "colab": {
          "base_uri": "https://localhost:8080/"
        },
        "id": "PNaa1Lj0p2-d",
        "outputId": "ccfce823-9c86-45a6-d357-01e5ddbd0b5d"
      },
      "execution_count": null,
      "outputs": [
        {
          "output_type": "stream",
          "name": "stdout",
          "text": [
            "Epoch 1/10\n",
            "6/6 [==============================] - 35s 2s/step - loss: 20.5877 - acc: 0.2147 - val_loss: 2.0615 - val_acc: 0.2657\n",
            "Epoch 2/10\n",
            "6/6 [==============================] - 5s 862ms/step - loss: 1.5033 - acc: 0.5324 - val_loss: 0.9070 - val_acc: 0.8881\n",
            "Epoch 3/10\n",
            "6/6 [==============================] - 5s 853ms/step - loss: 0.5588 - acc: 0.8767 - val_loss: 0.4436 - val_acc: 0.8531\n",
            "Epoch 4/10\n",
            "6/6 [==============================] - 5s 887ms/step - loss: 0.2790 - acc: 0.9219 - val_loss: 0.6628 - val_acc: 0.8042\n",
            "Epoch 5/10\n",
            "6/6 [==============================] - 5s 886ms/step - loss: 0.3153 - acc: 0.9219 - val_loss: 0.5989 - val_acc: 0.9021\n",
            "Epoch 6/10\n",
            "6/6 [==============================] - 5s 884ms/step - loss: 0.2720 - acc: 0.9524 - val_loss: 0.3193 - val_acc: 0.9231\n",
            "Epoch 7/10\n",
            "6/6 [==============================] - 5s 861ms/step - loss: 0.1485 - acc: 0.9477 - val_loss: 0.2333 - val_acc: 0.9301\n",
            "Epoch 8/10\n",
            "6/6 [==============================] - 5s 856ms/step - loss: 0.0929 - acc: 0.9688 - val_loss: 0.1857 - val_acc: 0.9510\n",
            "Epoch 9/10\n",
            "6/6 [==============================] - 6s 928ms/step - loss: 0.0866 - acc: 0.9703 - val_loss: 0.1889 - val_acc: 0.9580\n",
            "Epoch 10/10\n",
            "6/6 [==============================] - 6s 910ms/step - loss: 0.0778 - acc: 0.9750 - val_loss: 0.1674 - val_acc: 0.9650\n"
          ]
        }
      ]
    },
    {
      "cell_type": "code",
      "source": [
        "_, acc = cnn.evaluate(X_test, y_test)"
      ],
      "metadata": {
        "colab": {
          "base_uri": "https://localhost:8080/"
        },
        "id": "qyhGewu0p69C",
        "outputId": "87c50b96-69a1-4d04-cd4c-96d55e81e15c"
      },
      "execution_count": null,
      "outputs": [
        {
          "output_type": "stream",
          "name": "stdout",
          "text": [
            "12/12 [==============================] - 2s 55ms/step - loss: 0.2422 - acc: 0.9580\n"
          ]
        }
      ]
    },
    {
      "cell_type": "code",
      "source": [
        "### function for plotting results\n",
        "import matplotlib.pyplot as plt\n",
        "\n",
        "def plot_result(history):\n",
        "\n",
        "    history_dict = history.history\n",
        "#     print(history_dict.keys())\n",
        "\n",
        "    acc = history_dict['acc']\n",
        "    val_acc = history_dict['val_acc']\n",
        "    loss = history_dict['loss']\n",
        "    val_loss = history_dict['val_loss']\n",
        "\n",
        "    epochs = range(1, len(acc) + 1)\n",
        "\n",
        "    plt.plot(epochs, acc, 'orange', label='Training acc')\n",
        "    plt.plot(epochs, val_acc, 'blue', label='Validation acc')\n",
        "    plt.title('Training and Validation accuracy')\n",
        "    plt.legend()\n",
        "    plt.figure()\n",
        "\n",
        "    plt.plot(epochs, loss, 'orange', label='Training loss')\n",
        "    plt.plot(epochs, val_loss, 'blue', label='Validation loss')\n",
        "    plt.legend()\n",
        "\n",
        "\n",
        "    plt.show()"
      ],
      "metadata": {
        "id": "kVHrC1FrqR7g"
      },
      "execution_count": null,
      "outputs": []
    },
    {
      "cell_type": "code",
      "source": [
        "plot_result(history)"
      ],
      "metadata": {
        "colab": {
          "base_uri": "https://localhost:8080/",
          "height": 865
        },
        "id": "4Z0j00MYqZUP",
        "outputId": "9ed28b2f-7736-44d8-8531-7503c9f8552a"
      },
      "execution_count": null,
      "outputs": [
        {
          "output_type": "display_data",
          "data": {
            "text/plain": [
              "<Figure size 640x480 with 1 Axes>"
            ],
            "image/png": "[encoded data removed]"
          },
          "metadata": {}
        },
        {
          "output_type": "display_data",
          "data": {
            "text/plain": [
              "<Figure size 640x480 with 1 Axes>"
            ],
            "image/png": "[encoded data removed]"
          },
          "metadata": {}
        }
      ]
    },
    {
      "cell_type": "code",
      "source": [
        "### calculating 'y_predicted'\n",
        "y_predicted = cnn.predict(X_test)\n",
        "y_predicted[0]"
      ],
      "metadata": {
        "colab": {
          "base_uri": "https://localhost:8080/"
        },
        "id": "2fhliOCeqb1I",
        "outputId": "27c3f86a-f69f-4806-dc50-78206c2ced48"
      },
      "execution_count": null,
      "outputs": [
        {
          "output_type": "stream",
          "name": "stdout",
          "text": [
            "12/12 [==============================] - 1s 48ms/step\n"
          ]
        },
        {
          "output_type": "execute_result",
          "data": {
            "text/plain": [
              "array([1.0477955e-08, 9.9998915e-01, 6.9714741e-07, 1.8778793e-07,\n",
              "       2.7137227e-07, 8.5593447e-06, 1.1946076e-06], dtype=float32)"
            ]
          },
          "metadata": {},
          "execution_count": 135
        }
      ]
    },
    {
      "cell_type": "code",
      "source": [
        "np.argmax(y_predicted[0])"
      ],
      "metadata": {
        "colab": {
          "base_uri": "https://localhost:8080/"
        },
        "id": "loCNA0Qgqggy",
        "outputId": "374eabda-ab3f-4230-d21e-72cbde1bad71"
      },
      "execution_count": null,
      "outputs": [
        {
          "output_type": "execute_result",
          "data": {
            "text/plain": [
              "1"
            ]
          },
          "metadata": {},
          "execution_count": 136
        }
      ]
    },
    {
      "cell_type": "code",
      "source": [
        "y_predicted_labels = [np.argmax(i) for i in y_predicted]"
      ],
      "metadata": {
        "id": "sCa-h9TTqifx"
      },
      "execution_count": null,
      "outputs": []
    },
    {
      "cell_type": "code",
      "source": [
        "y_predicted_labels[:5]"
      ],
      "metadata": {
        "colab": {
          "base_uri": "https://localhost:8080/"
        },
        "id": "K_7bHHA4qkLf",
        "outputId": "e3f3488c-4637-41b0-b628-27776a2a15b4"
      },
      "execution_count": null,
      "outputs": [
        {
          "output_type": "execute_result",
          "data": {
            "text/plain": [
              "[1, 6, 0, 1, 1]"
            ]
          },
          "metadata": {},
          "execution_count": 138
        }
      ]
    },
    {
      "cell_type": "code",
      "source": [
        "import tensorflow as tf\n",
        "cm = tf.math.confusion_matrix(labels = y_test, predictions = y_predicted_labels)\n",
        "cm"
      ],
      "metadata": {
        "id": "cB8wwFmfql23",
        "colab": {
          "base_uri": "https://localhost:8080/"
        },
        "outputId": "7ee5cede-d66e-4210-c571-5a648c875f80"
      },
      "execution_count": null,
      "outputs": [
        {
          "output_type": "execute_result",
          "data": {
            "text/plain": [
              "<tf.Tensor: shape=(7, 7), dtype=int32, numpy=\n",
              "array([[ 76,   1,   0,   0,   0,   0,   0],\n",
              "       [  2, 104,   0,   0,   0,   1,   0],\n",
              "       [  0,   0,  15,   0,   0,   1,   1],\n",
              "       [  0,   0,   0,  14,   1,   1,   0],\n",
              "       [  0,   0,   0,   1,  24,   0,   0],\n",
              "       [  0,   1,   0,   1,   0,  38,   1],\n",
              "       [  0,   0,   0,   0,   1,   2,  71]], dtype=int32)>"
            ]
          },
          "metadata": {},
          "execution_count": 140
        }
      ]
    },
    {
      "cell_type": "markdown",
      "source": [
        "### Plotting confusion matrix"
      ],
      "metadata": {
        "id": "Iv3xvYsqqoW5"
      }
    },
    {
      "cell_type": "code",
      "source": [
        "covid_variants = ['sars-cov2', 'mers-cov', 'hCov-OC43', 'hCov-229E', 'hCov-NL63', 'hCov-hkU1', 'sars-cov']"
      ],
      "metadata": {
        "id": "QvVHhrMDqsi5"
      },
      "execution_count": null,
      "outputs": []
    },
    {
      "cell_type": "code",
      "source": [
        "## plotting confusion matrix\n",
        "import seaborn as sn\n",
        "df_cm = pd.DataFrame(cm, index = [i for i in covid_variants],\n",
        "                  columns = [i for i in covid_variants])\n",
        "plt.figure(figsize = (12, 9))\n",
        "sn.heatmap(df_cm, annot=True, fmt='d')\n",
        "plt.xlabel('Predicted')\n",
        "plt.ylabel('Truth')\n",
        "# plt.savefig(\"CNN\")"
      ],
      "metadata": {
        "colab": {
          "base_uri": "https://localhost:8080/",
          "height": 790
        },
        "id": "B7Ur124fquIm",
        "outputId": "e61bc9ad-0c32-4461-99eb-0d649b706f68"
      },
      "execution_count": null,
      "outputs": [
        {
          "output_type": "execute_result",
          "data": {
            "text/plain": [
              "Text(120.72222222222221, 0.5, 'Truth')"
            ]
          },
          "metadata": {},
          "execution_count": 142
        },
        {
          "output_type": "display_data",
          "data": {
            "text/plain": [
              "<Figure size 1200x900 with 2 Axes>"
            ],
            "image/png": "[encoded data removed]"
          },
          "metadata": {}
        }
      ]
    },
    {
      "cell_type": "markdown",
      "source": [
        "## Plotting classification report"
      ],
      "metadata": {
        "id": "GbsLRAb3qvnO"
      }
    },
    {
      "cell_type": "code",
      "source": [
        "from sklearn.metrics import classification_report"
      ],
      "metadata": {
        "id": "Qvgr0Teqq2LH"
      },
      "execution_count": null,
      "outputs": []
    },
    {
      "cell_type": "code",
      "source": [
        "print(\"Classification Report: \\n\", classification_report(y_test, y_predicted_labels, target_names = covid_variants))"
      ],
      "metadata": {
        "colab": {
          "base_uri": "https://localhost:8080/"
        },
        "id": "pffrvJviq3bl",
        "outputId": "868c4505-18b5-401b-a975-21dbd3504b0f"
      },
      "execution_count": null,
      "outputs": [
        {
          "output_type": "stream",
          "name": "stdout",
          "text": [
            "Classification Report: \n",
            "               precision    recall  f1-score   support\n",
            "\n",
            "   sars-cov2       0.97      0.99      0.98        77\n",
            "    mers-cov       0.98      0.97      0.98       107\n",
            "   hCov-OC43       1.00      0.88      0.94        17\n",
            "   hCov-229E       0.88      0.88      0.88        16\n",
            "   hCov-NL63       0.92      0.96      0.94        25\n",
            "   hCov-hkU1       0.88      0.93      0.90        41\n",
            "    sars-cov       0.97      0.96      0.97        74\n",
            "\n",
            "    accuracy                           0.96       357\n",
            "   macro avg       0.94      0.94      0.94       357\n",
            "weighted avg       0.96      0.96      0.96       357\n",
            "\n"
          ]
        }
      ]
    },
    {
      "cell_type": "markdown",
      "source": [
        "## Using global maxpooling layer"
      ],
      "metadata": {
        "id": "AnzN7cafq5Qk"
      }
    },
    {
      "cell_type": "code",
      "source": [
        "cnn2 = models.Sequential([\n",
        "    layers.Conv1D(64, kernel_size=150, activation='relu', input_shape=(X_data_reshaped.shape[1:])),\n",
        "    layers.MaxPooling1D(pool_size=5),\n",
        "    layers.Conv1D(128, 50, activation='relu'),\n",
        "    layers.MaxPooling1D(pool_size=2),\n",
        "    layers.GlobalMaxPooling1D(),\n",
        "    layers.Dense(7, activation='softmax')\n",
        "])\n",
        "\n",
        "cnn2.compile(optimizer='adam', loss='sparse_categorical_crossentropy', metrics=['acc'])\n",
        "cnn2.summary()"
      ],
      "metadata": {
        "colab": {
          "base_uri": "https://localhost:8080/"
        },
        "id": "tXLuSjHEq_gp",
        "outputId": "55433036-9327-4149-deb7-3ff9a5093d96"
      },
      "execution_count": null,
      "outputs": [
        {
          "output_type": "stream",
          "name": "stdout",
          "text": [
            "Model: \"sequential_1\"\n",
            "_________________________________________________________________\n",
            " Layer (type)                Output Shape              Param #   \n",
            "=================================================================\n",
            " conv1d_2 (Conv1D)           (None, 37823, 64)         9664      \n",
            "                                                                 \n",
            " max_pooling1d_2 (MaxPooling  (None, 7564, 64)         0         \n",
            " 1D)                                                             \n",
            "                                                                 \n",
            " conv1d_3 (Conv1D)           (None, 7515, 128)         409728    \n",
            "                                                                 \n",
            " max_pooling1d_3 (MaxPooling  (None, 3757, 128)        0         \n",
            " 1D)                                                             \n",
            "                                                                 \n",
            " global_max_pooling1d (Globa  (None, 128)              0         \n",
            " lMaxPooling1D)                                                  \n",
            "                                                                 \n",
            " dense_1 (Dense)             (None, 7)                 903       \n",
            "                                                                 \n",
            "=================================================================\n",
            "Total params: 420,295\n",
            "Trainable params: 420,295\n",
            "Non-trainable params: 0\n",
            "_________________________________________________________________\n"
          ]
        }
      ]
    },
    {
      "cell_type": "code",
      "source": [
        "history_2 = cnn2.fit(X_train, y_train,\n",
        "                  epochs=15,\n",
        "                  batch_size=256,\n",
        "                  validation_split=0.1)"
      ],
      "metadata": {
        "colab": {
          "base_uri": "https://localhost:8080/"
        },
        "id": "iOhX452zrECQ",
        "outputId": "fc8fa7eb-5e2f-4c52-8821-387a0de6d4d1"
      },
      "execution_count": null,
      "outputs": [
        {
          "output_type": "stream",
          "name": "stdout",
          "text": [
            "Epoch 1/15\n",
            "6/6 [==============================] - 6s 934ms/step - loss: 0.3756 - acc: 0.8548 - val_loss: 0.4034 - val_acc: 0.8392\n",
            "Epoch 2/15\n",
            "6/6 [==============================] - 6s 914ms/step - loss: 0.3382 - acc: 0.8977 - val_loss: 0.3554 - val_acc: 0.9720\n",
            "Epoch 3/15\n",
            "6/6 [==============================] - 6s 938ms/step - loss: 0.3085 - acc: 0.9664 - val_loss: 0.3525 - val_acc: 0.9301\n",
            "Epoch 4/15\n",
            "6/6 [==============================] - 6s 921ms/step - loss: 0.2896 - acc: 0.9586 - val_loss: 0.3230 - val_acc: 0.9720\n",
            "Epoch 5/15\n",
            "6/6 [==============================] - 6s 914ms/step - loss: 0.2749 - acc: 0.9750 - val_loss: 0.2985 - val_acc: 0.9860\n",
            "Epoch 6/15\n",
            "6/6 [==============================] - 6s 939ms/step - loss: 0.2546 - acc: 0.9828 - val_loss: 0.4058 - val_acc: 0.8322\n",
            "Epoch 7/15\n",
            "6/6 [==============================] - 6s 950ms/step - loss: 0.4259 - acc: 0.8134 - val_loss: 0.4204 - val_acc: 0.8671\n",
            "Epoch 8/15\n",
            "6/6 [==============================] - 6s 910ms/step - loss: 0.2989 - acc: 0.9009 - val_loss: 0.2851 - val_acc: 0.9510\n",
            "Epoch 9/15\n",
            "6/6 [==============================] - 6s 902ms/step - loss: 0.2692 - acc: 0.9290 - val_loss: 0.2876 - val_acc: 0.9371\n",
            "Epoch 10/15\n",
            "6/6 [==============================] - 6s 922ms/step - loss: 0.2151 - acc: 0.9672 - val_loss: 0.2375 - val_acc: 0.9860\n",
            "Epoch 11/15\n",
            "6/6 [==============================] - 6s 921ms/step - loss: 0.2604 - acc: 0.9407 - val_loss: 0.4963 - val_acc: 0.7832\n",
            "Epoch 12/15\n",
            "6/6 [==============================] - 5s 888ms/step - loss: 0.6008 - acc: 0.7963 - val_loss: 0.4932 - val_acc: 0.7483\n",
            "Epoch 13/15\n",
            "6/6 [==============================] - 5s 883ms/step - loss: 0.4783 - acc: 0.7767 - val_loss: 0.2824 - val_acc: 0.9441\n",
            "Epoch 14/15\n",
            "6/6 [==============================] - 5s 881ms/step - loss: 0.2425 - acc: 0.9454 - val_loss: 0.3304 - val_acc: 0.9021\n",
            "Epoch 15/15\n",
            "6/6 [==============================] - 5s 880ms/step - loss: 0.2658 - acc: 0.9048 - val_loss: 0.2213 - val_acc: 0.9860\n"
          ]
        }
      ]
    },
    {
      "cell_type": "code",
      "source": [
        "_, acc_2 = cnn2.evaluate(X_test, y_test)"
      ],
      "metadata": {
        "colab": {
          "base_uri": "https://localhost:8080/"
        },
        "id": "GKrvNkWirGio",
        "outputId": "e58d0aac-a586-45c8-b3b8-7c1057e7e408"
      },
      "execution_count": null,
      "outputs": [
        {
          "output_type": "stream",
          "name": "stdout",
          "text": [
            "12/12 [==============================] - 1s 40ms/step - loss: 0.2373 - acc: 0.9636\n"
          ]
        }
      ]
    },
    {
      "cell_type": "code",
      "source": [
        "plot_result(history_2)"
      ],
      "metadata": {
        "colab": {
          "base_uri": "https://localhost:8080/",
          "height": 865
        },
        "id": "bNWp3DvarbHf",
        "outputId": "c4991b4f-5068-4bc8-d054-f2db9ff36060"
      },
      "execution_count": null,
      "outputs": [
        {
          "output_type": "display_data",
          "data": {
            "text/plain": [
              "<Figure size 640x480 with 1 Axes>"
            ],
            "image/png": "[encoded data removed]"
          },
          "metadata": {}
        },
        {
          "output_type": "display_data",
          "data": {
            "text/plain": [
              "<Figure size 640x480 with 1 Axes>"
            ],
            "image/png": "[encoded data removed]"
          },
          "metadata": {}
        }
      ]
    },
    {
      "cell_type": "code",
      "source": [
        "### calculating 'y_predicted'\n",
        "y_predicted2 = cnn2.predict(X_test)\n",
        "y_predicted2[0]"
      ],
      "metadata": {
        "colab": {
          "base_uri": "https://localhost:8080/"
        },
        "id": "rDI1vtnUrd7g",
        "outputId": "92f812e3-f567-4936-9bdd-b29e1ff1599f"
      },
      "execution_count": null,
      "outputs": [
        {
          "output_type": "stream",
          "name": "stdout",
          "text": [
            "12/12 [==============================] - 1s 40ms/step\n"
          ]
        },
        {
          "output_type": "execute_result",
          "data": {
            "text/plain": [
              "array([5.5551245e-05, 9.4298524e-01, 3.8705628e-02, 1.3207760e-02,\n",
              "       4.0457058e-03, 8.7246601e-04, 1.2770348e-04], dtype=float32)"
            ]
          },
          "metadata": {},
          "execution_count": 154
        }
      ]
    },
    {
      "cell_type": "code",
      "source": [
        "y_predicted_labels2 = [np.argmax(i) for i in y_predicted2]\n",
        "y_predicted_labels[:5]"
      ],
      "metadata": {
        "colab": {
          "base_uri": "https://localhost:8080/"
        },
        "id": "GMHgK_EirrAq",
        "outputId": "8f33051f-6966-451e-a1e7-c936485a15dd"
      },
      "execution_count": null,
      "outputs": [
        {
          "output_type": "execute_result",
          "data": {
            "text/plain": [
              "[1, 6, 0, 1, 1]"
            ]
          },
          "metadata": {},
          "execution_count": 155
        }
      ]
    },
    {
      "cell_type": "code",
      "source": [
        "cm2 = tf.math.confusion_matrix(labels = y_test, predictions = y_predicted_labels2)\n",
        "cm2"
      ],
      "metadata": {
        "id": "8W6GV6NTrxmw",
        "colab": {
          "base_uri": "https://localhost:8080/"
        },
        "outputId": "eb76d9fb-11fb-46ae-b81a-fdf5599be024"
      },
      "execution_count": null,
      "outputs": [
        {
          "output_type": "execute_result",
          "data": {
            "text/plain": [
              "<tf.Tensor: shape=(7, 7), dtype=int32, numpy=\n",
              "array([[ 77,   0,   0,   0,   0,   0,   0],\n",
              "       [  2, 103,   2,   0,   0,   0,   0],\n",
              "       [  0,   0,  16,   1,   0,   0,   0],\n",
              "       [  0,   0,   1,  14,   0,   1,   0],\n",
              "       [  0,   0,   0,   0,  22,   2,   1],\n",
              "       [  0,   0,   0,   0,   0,  40,   1],\n",
              "       [  0,   0,   0,   0,   0,   2,  72]], dtype=int32)>"
            ]
          },
          "metadata": {},
          "execution_count": 157
        }
      ]
    },
    {
      "cell_type": "markdown",
      "source": [
        "### Plotting confusion matrix"
      ],
      "metadata": {
        "id": "5rilrAHjr8IL"
      }
    },
    {
      "cell_type": "code",
      "source": [
        "## plotting confusion matrix\n",
        "import seaborn as sn\n",
        "df_cm2 = pd.DataFrame(cm2, index = [i for i in covid_variants],\n",
        "                  columns = [i for i in covid_variants])\n",
        "plt.figure(figsize = (12, 9))\n",
        "sn.heatmap(df_cm2, annot=True, fmt='d')\n",
        "plt.xlabel('Predicted')\n",
        "plt.ylabel('Truth')\n",
        "# plt.savefig(\"CNN\")"
      ],
      "metadata": {
        "colab": {
          "base_uri": "https://localhost:8080/",
          "height": 790
        },
        "id": "VOhDSru3r_05",
        "outputId": "5c92034e-4d17-425a-e689-ee68f78336d3"
      },
      "execution_count": null,
      "outputs": [
        {
          "output_type": "execute_result",
          "data": {
            "text/plain": [
              "Text(120.72222222222221, 0.5, 'Truth')"
            ]
          },
          "metadata": {},
          "execution_count": 158
        },
        {
          "output_type": "display_data",
          "data": {
            "text/plain": [
              "<Figure size 1200x900 with 2 Axes>"
            ],
            "image/png": "[encoded data removed]"
          },
          "metadata": {}
        }
      ]
    },
    {
      "cell_type": "code",
      "source": [
        "print(\"Classification Report: \\n\", classification_report(y_test, y_predicted_labels2, target_names = covid_variants))"
      ],
      "metadata": {
        "colab": {
          "base_uri": "https://localhost:8080/"
        },
        "id": "1IZUF-5qsF0N",
        "outputId": "9328d2c0-bf48-4e56-e649-67b02d408710"
      },
      "execution_count": null,
      "outputs": [
        {
          "output_type": "stream",
          "name": "stdout",
          "text": [
            "Classification Report: \n",
            "               precision    recall  f1-score   support\n",
            "\n",
            "   sars-cov2       0.97      1.00      0.99        77\n",
            "    mers-cov       1.00      0.96      0.98       107\n",
            "   hCov-OC43       0.84      0.94      0.89        17\n",
            "   hCov-229E       0.93      0.88      0.90        16\n",
            "   hCov-NL63       1.00      0.88      0.94        25\n",
            "   hCov-hkU1       0.89      0.98      0.93        41\n",
            "    sars-cov       0.97      0.97      0.97        74\n",
            "\n",
            "    accuracy                           0.96       357\n",
            "   macro avg       0.94      0.94      0.94       357\n",
            "weighted avg       0.97      0.96      0.96       357\n",
            "\n"
          ]
        }
      ]
    }
  ]
}